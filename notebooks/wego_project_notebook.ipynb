{
 "cells": [
  {
   "cell_type": "markdown",
   "id": "31dd8c9e",
   "metadata": {},
   "source": [
    "## Goals of this project:\n",
    "1. How much impact does being late or too spaced out at the first stop have downstream?\n",
    "2. What is the impact of the layover at the start of the trip (the difference between the first top arrival and departure time)? Does more layover lead to more stable headways (lower values for % headway deviation)?\n",
    "3. How closely does lateness (ADHERENCE) correlate to headway?\n",
    "4. What is the relationship between distance or time travelled since the start of a given trip and the headway deviation? Does headway become less stable the further along the route the bus has travelled?\n",
    "5. How much of a factor does the driver have on headway and on-time performance? The driver is indicated by the OPERATOR variable.\n",
    "6. How does direction of travel, route, or location affect the headway and on-time performance?\n",
    "7. How does time of day or day of week affect headway and on-time performance? Can you detect an impact of school schedule on headway deviation (for certain routes and at certain times of day)?\n",
    "8. Does weather have any effect on headway or on-time performance? To help answer this question, the file bna_2022.csv contains historical weather data recorded at Nashville International Airport."
   ]
  },
  {
   "cell_type": "code",
   "execution_count": null,
   "id": "46fc4bf2",
   "metadata": {},
   "outputs": [],
   "source": [
    "import pandas as pd\n",
    "import matplotlib.pyplot as plt\n",
    "import seaborn as sns"
   ]
  },
  {
   "cell_type": "code",
   "execution_count": null,
   "id": "ffe58705",
   "metadata": {},
   "outputs": [],
   "source": [
    "sns.set_theme(style='whitegrid', palette=('Paired'), font='sans-serif', font_scale=1, color_codes=True, rc=None)"
   ]
  },
  {
   "cell_type": "code",
   "execution_count": null,
   "id": "5e0e0b29",
   "metadata": {},
   "outputs": [],
   "source": [
    "headway = pd.read_csv('../data/Headway Data.csv')\n",
    "weather = pd.read_csv('../data/bna_weather.csv')"
   ]
  },
  {
   "cell_type": "code",
   "execution_count": null,
   "id": "a0c3210c",
   "metadata": {},
   "outputs": [],
   "source": [
    "headway_df = headway[['ADHERENCE_ID', 'DATE', 'ROUTE_ABBR', 'BLOCK_ABBR', 'OPERATOR', 'TRIP_ID', 'ROUTE_DIRECTION_NAME', 'TIME_POINT_ABBR', 'ROUTE_STOP_SEQUENCE', 'LATITUDE', 'LONGITUDE', 'SCHEDULED_TIME', 'ACTUAL_ARRIVAL_TIME', 'ACTUAL_DEPARTURE_TIME', 'ADHERENCE', 'SCHEDULED_HDWY', 'ACTUAL_HDWY', 'HDWY_DEV']]\n",
    "weather_df = weather[['Date', 'temp', 'wx_phrase']]"
   ]
  },
  {
   "cell_type": "code",
   "execution_count": null,
   "id": "5c1c3b50",
   "metadata": {},
   "outputs": [],
   "source": [
    "headway_df.columns = ['adh_id', 'date', 'rte_abbr', 'blk_abbr', 'opr', 'trip_id', 'rte_dir_name', 'time_pt_abbr', 'rte_stop_seq', 'lat', 'log', 'schd_time', 'act_arrvl_time', 'act_depart', 'adh', 'schd_hdwy', 'act_hdwy', 'hdwy_dev']\n",
    "display(headway_df)"
   ]
  },
  {
   "cell_type": "code",
   "execution_count": null,
   "id": "d6aa090b",
   "metadata": {},
   "outputs": [],
   "source": [
    "weather_df.columns = ['date', 'temp', 'weather']\n",
    "display(weather_df)"
   ]
  },
  {
   "cell_type": "code",
   "execution_count": null,
   "id": "388ef20b",
   "metadata": {},
   "outputs": [],
   "source": [
    "print(weather_df['weather'].unique())"
   ]
  },
  {
   "cell_type": "markdown",
   "id": "bcc6debf",
   "metadata": {},
   "source": [
    "## Q1. How much impact does being late or too spaced out at the first stop have downstream?"
   ]
  },
  {
   "cell_type": "code",
   "execution_count": null,
   "id": "d420759f",
   "metadata": {},
   "outputs": [],
   "source": [
    "q1df = headway_df[['date', 'trip_id', 'schd_time', 'act_arrvl_time', 'act_depart', 'adh']]\n",
    "display(q1df)"
   ]
  },
  {
   "cell_type": "markdown",
   "id": "bb9004f7",
   "metadata": {},
   "source": [
    "#### all the first trips and their time"
   ]
  },
  {
   "cell_type": "code",
   "execution_count": null,
   "id": "7aede2e6",
   "metadata": {},
   "outputs": [],
   "source": [
    "first_trip = (q1df.melt(id_vars=['trip_id', 'date'], value_vars=['schd_time'])\n",
    "         .groupby(['trip_id', 'date'])['value']\n",
    "         .agg(['min']))\n",
    "display(first_trip)"
   ]
  },
  {
   "cell_type": "markdown",
   "id": "d74e4c8b",
   "metadata": {},
   "source": [
    "#### first trips adh"
   ]
  },
  {
   "cell_type": "code",
   "execution_count": null,
   "id": "a69e77ad",
   "metadata": {
    "scrolled": true
   },
   "outputs": [],
   "source": [
    "first_trip_adh = pd.merge(first_trip, q1df[['date', 'trip_id', 'schd_time', 'adh']], left_on=['date', 'trip_id', 'min'], right_on=['date', 'trip_id', 'schd_time'], how='inner')\n",
    "display(first_trip_adh)"
   ]
  },
  {
   "cell_type": "markdown",
   "id": "15633236",
   "metadata": {},
   "source": [
    "#### created column that shows wether bus is late, early, or on time"
   ]
  },
  {
   "cell_type": "code",
   "execution_count": null,
   "id": "0e395d7f",
   "metadata": {},
   "outputs": [],
   "source": [
    "def categorise(row):  \n",
    "    if row['adh'] > 0:\n",
    "        return 'early'\n",
    "    elif row['adh'] < 0:\n",
    "        return 'late'\n",
    "    elif row['adh'] == 0:\n",
    "        return 'on time'\n",
    "    return 'null'"
   ]
  },
  {
   "cell_type": "code",
   "execution_count": null,
   "id": "13b5ad0b",
   "metadata": {},
   "outputs": [],
   "source": [
    "first_trip_adh['on_time'] = first_trip_adh.apply(lambda row: categorise(row), axis=1)\n",
    "display(first_trip_adh)"
   ]
  },
  {
   "cell_type": "markdown",
   "id": "2e3255ce",
   "metadata": {},
   "source": [
    "#### anti-join merge, the start of getting everything but the first stop"
   ]
  },
  {
   "cell_type": "code",
   "execution_count": null,
   "id": "c7f85dda",
   "metadata": {},
   "outputs": [],
   "source": [
    "not_first_trip = (pd.merge(first_trip_adh, q1df[['date', 'trip_id', 'schd_time', 'adh']], left_on=['date', 'trip_id', 'min'], right_on=['date', 'trip_id', 'schd_time'], how='outer', indicator=True)\n",
    "     .query('_merge != \"both\"')\n",
    "     .drop('_merge', 1))\n",
    "display(not_first_trip)"
   ]
  },
  {
   "cell_type": "markdown",
   "id": "7e7137f4",
   "metadata": {},
   "source": [
    "#### the adh for every stop expect the first one"
   ]
  },
  {
   "cell_type": "code",
   "execution_count": null,
   "id": "63e547a2",
   "metadata": {},
   "outputs": [],
   "source": [
    "not_first_trip.drop(columns=['min', 'schd_time_x', 'adh_x', 'on_time', 'schd_time_y'], inplace=True)\n",
    "not_first_trip.rename(columns={'adh_y':'nft_adh'}, inplace=True)\n",
    "display(not_first_trip)"
   ]
  },
  {
   "cell_type": "markdown",
   "id": "f2cadc38",
   "metadata": {},
   "source": [
    "#### the avg adh for every stop excluding the first stop"
   ]
  },
  {
   "cell_type": "code",
   "execution_count": null,
   "id": "4b8b28f0",
   "metadata": {
    "scrolled": true
   },
   "outputs": [],
   "source": [
    "not_first_trip_avg_adh = not_first_trip.groupby(['date', 'trip_id'], as_index=False)['nft_adh'].mean()\n",
    "not_first_trip_avg_adh.rename(columns={'nft_adh':'nft_avg_adh'}, inplace=True)\n",
    "display(not_first_trip_avg_adh)"
   ]
  },
  {
   "cell_type": "markdown",
   "id": "74725f29",
   "metadata": {},
   "source": [
    "#### merge of the first stops df and not the first stops df. "
   ]
  },
  {
   "cell_type": "code",
   "execution_count": null,
   "id": "7808d795",
   "metadata": {},
   "outputs": [],
   "source": [
    "trip_id_adhs = pd.merge(first_trip_adh, not_first_trip_avg_adh, on=['date','trip_id'], how='inner')\n",
    "trip_id_adhs.drop(columns=['min', 'schd_time'], inplace=True)\n",
    "display(trip_id_adhs)"
   ]
  },
  {
   "cell_type": "markdown",
   "id": "449cefcc",
   "metadata": {},
   "source": [
    "## Q1, but with route numbers instead of trip id"
   ]
  },
  {
   "cell_type": "code",
   "execution_count": null,
   "id": "10c26c20",
   "metadata": {},
   "outputs": [],
   "source": [
    "q1df2 = headway_df[['date', 'rte_abbr', 'schd_time', 'act_arrvl_time', 'act_depart', 'adh']]\n",
    "display(q1df2)"
   ]
  },
  {
   "cell_type": "code",
   "execution_count": null,
   "id": "209358a3",
   "metadata": {},
   "outputs": [],
   "source": [
    "first_trip2 = (q1df2.melt(id_vars=['rte_abbr', 'date'], value_vars=['schd_time'])\n",
    "         .groupby(['rte_abbr', 'date'])['value']\n",
    "         .agg(['min']))\n",
    "display(first_trip2)"
   ]
  },
  {
   "cell_type": "code",
   "execution_count": null,
   "id": "1efd004f",
   "metadata": {},
   "outputs": [],
   "source": [
    "first_trip_adh2 = pd.merge(first_trip2, q1df2[['date', 'rte_abbr', 'schd_time', 'adh']], left_on=['date', 'rte_abbr', 'min'], right_on=['date', 'rte_abbr', 'schd_time'], how='inner')\n",
    "display(first_trip_adh2)"
   ]
  },
  {
   "cell_type": "code",
   "execution_count": null,
   "id": "06bc8e17",
   "metadata": {},
   "outputs": [],
   "source": [
    "first_trip_adh2['on_time'] = first_trip_adh2.apply(lambda row: categorise(row), axis=1)\n",
    "display(first_trip_adh2)"
   ]
  },
  {
   "cell_type": "code",
   "execution_count": null,
   "id": "58e4f583",
   "metadata": {},
   "outputs": [],
   "source": [
    "not_first_trip2 = (pd.merge(first_trip_adh2, q1df2[['date', 'rte_abbr', 'schd_time', 'adh']], left_on=['date', 'rte_abbr', 'min'], right_on=['date', 'rte_abbr', 'schd_time'], how='outer', indicator=True)\n",
    "     .query('_merge != \"both\"')\n",
    "     .drop('_merge', 1))\n",
    "display(not_first_trip2)"
   ]
  },
  {
   "cell_type": "code",
   "execution_count": null,
   "id": "9dd88ba0",
   "metadata": {},
   "outputs": [],
   "source": [
    "not_first_trip2.drop(columns=['min', 'schd_time_x', 'adh_x', 'on_time', 'schd_time_y'], inplace=True)\n",
    "not_first_trip2.rename(columns={'adh_y':'nft_adh'}, inplace=True)\n",
    "display(not_first_trip2)"
   ]
  },
  {
   "cell_type": "code",
   "execution_count": null,
   "id": "eb78b38d",
   "metadata": {},
   "outputs": [],
   "source": [
    "not_first_trip_avg_adh2 = not_first_trip2.groupby(['date', 'rte_abbr'], as_index=False)['nft_adh'].mean()\n",
    "not_first_trip_avg_adh2.rename(columns={'nft_adh':'nft_avg_adh'}, inplace=True)\n",
    "display(not_first_trip_avg_adh2)"
   ]
  },
  {
   "cell_type": "code",
   "execution_count": null,
   "id": "e5911d84",
   "metadata": {},
   "outputs": [],
   "source": [
    "rte_adhs = pd.merge(first_trip_adh2, not_first_trip_avg_adh2, on=['date','rte_abbr'], how='inner')\n",
    "rte_adhs.drop(columns=['min', 'schd_time'], inplace=True)\n",
    "display(rte_adhs)"
   ]
  },
  {
   "cell_type": "markdown",
   "id": "9f68e40c",
   "metadata": {},
   "source": [
    "#### making table with no nulls"
   ]
  },
  {
   "cell_type": "code",
   "execution_count": null,
   "id": "12ab33a9",
   "metadata": {},
   "outputs": [],
   "source": [
    "rte_adhs.dropna(how='any',axis=0, inplace=True) \n",
    "display(rte_adhs)"
   ]
  },
  {
   "cell_type": "markdown",
   "id": "5abf8771",
   "metadata": {},
   "source": [
    "#### new column"
   ]
  },
  {
   "cell_type": "code",
   "execution_count": null,
   "id": "4606078b",
   "metadata": {},
   "outputs": [],
   "source": [
    "def categorise(row):  \n",
    "    if row['nft_avg_adh'] > 0:\n",
    "        return 'early'\n",
    "    elif row['nft_avg_adh'] < 0:\n",
    "        return 'late'\n",
    "    elif row['nft_avg_adh'] == 0:\n",
    "        return 'on time'\n",
    "    return 'null'"
   ]
  },
  {
   "cell_type": "code",
   "execution_count": null,
   "id": "43a7424e",
   "metadata": {},
   "outputs": [],
   "source": [
    "rte_adhs['nft_avg_on_time'] = rte_adhs.apply(lambda row: categorise(row), axis=1)\n",
    "display(rte_adhs)"
   ]
  },
  {
   "cell_type": "markdown",
   "id": "bcef6dcf",
   "metadata": {},
   "source": [
    "#### all late first trips"
   ]
  },
  {
   "cell_type": "code",
   "execution_count": null,
   "id": "050eed9c",
   "metadata": {},
   "outputs": [],
   "source": [
    "first_late_data = rte_adhs.loc[rte_adhs['on_time'] == 'late']\n",
    "first_late_data.drop(first_late_data.columns.difference(['nft_avg_on_time']), axis=1, inplace=True)\n",
    "display(first_late_data)"
   ]
  },
  {
   "cell_type": "code",
   "execution_count": null,
   "id": "6b8f5db1",
   "metadata": {},
   "outputs": [],
   "source": [
    "fld = pd.DataFrame(first_late_data['nft_avg_on_time'].value_counts().reset_index())\n",
    "display(fld)"
   ]
  },
  {
   "cell_type": "code",
   "execution_count": null,
   "id": "fa8643ca",
   "metadata": {},
   "outputs": [],
   "source": [
    "plt.pie(data=fld, x='nft_avg_on_time', labels='index', autopct='%.0f%%')"
   ]
  },
  {
   "cell_type": "code",
   "execution_count": null,
   "id": "97e3deae",
   "metadata": {},
   "outputs": [],
   "source": []
  }
 ],
 "metadata": {
  "kernelspec": {
   "display_name": "Python 3 (ipykernel)",
   "language": "python",
   "name": "python3"
  },
  "language_info": {
   "codemirror_mode": {
    "name": "ipython",
    "version": 3
   },
   "file_extension": ".py",
   "mimetype": "text/x-python",
   "name": "python",
   "nbconvert_exporter": "python",
   "pygments_lexer": "ipython3",
   "version": "3.9.12"
  }
 },
 "nbformat": 4,
 "nbformat_minor": 5
}
