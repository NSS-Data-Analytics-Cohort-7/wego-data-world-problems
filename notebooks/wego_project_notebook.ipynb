{
 "cells": [
  {
   "cell_type": "markdown",
   "id": "d89a59c7",
   "metadata": {},
   "source": [
    "## Goals of this project:\n",
    "1. How much impact does being late or too spaced out at the first stop have downstream?\n",
    "2. What is the impact of the layover at the start of the trip (the difference between the first top arrival and departure time)? Does more layover lead to more stable headways (lower values for % headway deviation)?\n",
    "3. How closely does lateness (ADHERENCE) correlate to headway?\n",
    "4. What is the relationship between distance or time travelled since the start of a given trip and the headway deviation? Does headway become less stable the further along the route the bus has travelled?\n",
    "5. How much of a factor does the driver have on headway and on-time performance? The driver is indicated by the OPERATOR variable.\n",
    "6. How does direction of travel, route, or location affect the headway and on-time performance?\n",
    "7. How does time of day or day of week affect headway and on-time performance? Can you detect an impact of school schedule on headway deviation (for certain routes and at certain times of day)?\n",
    "8. Does weather have any effect on headway or on-time performance? To help answer this question, the file bna_2022.csv contains historical weather data recorded at Nashville International Airport."
   ]
  },
  {
   "cell_type": "code",
   "execution_count": null,
   "id": "a3bedd35",
   "metadata": {},
   "outputs": [],
   "source": [
    "import pandas as pd\n",
    "import matplotlib.pyplot as plt\n",
    "import seaborn as sns"
   ]
  },
  {
   "cell_type": "code",
   "execution_count": null,
   "id": "8ad03e03",
   "metadata": {},
   "outputs": [],
   "source": [
    "headway = pd.read_csv('../data/Headway Data.csv')\n",
    "weather = pd.read_csv('../data/bna_weather.csv')"
   ]
  },
  {
   "cell_type": "code",
   "execution_count": null,
   "id": "a52e352d",
   "metadata": {},
   "outputs": [],
   "source": [
    "headway_df = headway[['ADHERENCE_ID', 'DATE', 'ROUTE_ABBR', 'BLOCK_ABBR', 'OPERATOR', 'TRIP_ID', 'ROUTE_DIRECTION_NAME', 'TIME_POINT_ABBR', 'ROUTE_STOP_SEQUENCE', 'LATITUDE', 'LONGITUDE', 'SCHEDULED_TIME', 'ACTUAL_ARRIVAL_TIME', 'ACTUAL_DEPARTURE_TIME', 'ADHERENCE', 'SCHEDULED_HDWY', 'ACTUAL_HDWY', 'HDWY_DEV']]\n",
    "weather_df = weather[['Date', 'temp', 'wx_phrase']]"
   ]
  },
  {
   "cell_type": "code",
   "execution_count": null,
   "id": "b9eb9331",
   "metadata": {},
   "outputs": [],
   "source": [
    "headway_df.columns = ['adh_id', 'date', 'rte_abbr', 'blk_abbr', 'opr', 'trip_id', 'rte_dir_name', 'time_pt_abbr', 'rte_stop_seq', 'lat', 'log', 'schd_time', 'act_arrvl_time', 'act_depart', 'adh', 'schd_hdwy', 'act_hdwy', 'hdwy_dev']\n",
    "display(headway_df)"
   ]
  },
  {
   "cell_type": "code",
   "execution_count": null,
   "id": "d6124c56",
   "metadata": {},
   "outputs": [],
   "source": [
    "weather_df.columns = ['date', 'temp', 'weather']\n",
    "display(weather_df)"
   ]
  },
  {
   "cell_type": "code",
   "execution_count": null,
   "id": "c2770613",
   "metadata": {},
   "outputs": [],
   "source": [
    "print(weather_df['weather'].unique())"
   ]
  },
  {
   "cell_type": "markdown",
   "id": "bcfc6d99",
   "metadata": {},
   "source": [
    "## Q6. How does direction of travel, route, or location affect the headway and on-time performance?"
   ]
  },
  {
   "cell_type": "code",
   "execution_count": null,
   "id": "18184d0e",
   "metadata": {},
   "outputs": [],
   "source": [
    "directions_df = headway_df[['rte_dir_name', 'schd_time', 'act_arrvl_time', 'act_depart', 'adh']]\n",
    "display(directions_df)"
   ]
  },
  {
   "cell_type": "code",
   "execution_count": null,
   "id": "0d3af8dc",
   "metadata": {},
   "outputs": [],
   "source": [
    "to_downtown = directions_df.loc[directions_df['rte_dir_name'] == 'TO DOWNTOWN']\n",
    "display(to_downtown)"
   ]
  },
  {
   "cell_type": "code",
   "execution_count": null,
   "id": "d0e38d74",
   "metadata": {},
   "outputs": [],
   "source": [
    "avg_todt_adh = to_downtown['adh'].mean()\n",
    "display(avg_todt_adh)"
   ]
  },
  {
   "cell_type": "code",
   "execution_count": null,
   "id": "cd178b1c",
   "metadata": {},
   "outputs": [],
   "source": [
    "from_downtown = directions_df.loc[directions_df['rte_dir_name'] == 'FROM DOWNTOWN']\n",
    "display(from_downtown)"
   ]
  },
  {
   "cell_type": "code",
   "execution_count": null,
   "id": "f0867b9a",
   "metadata": {},
   "outputs": [],
   "source": [
    "avg_fromdt_adh = from_downtown['adh'].mean()\n",
    "display(avg_fromdt_adh)"
   ]
  },
  {
   "cell_type": "code",
   "execution_count": null,
   "id": "640fac47",
   "metadata": {},
   "outputs": [],
   "source": []
  }
 ],
 "metadata": {
  "kernelspec": {
   "display_name": "Python 3 (ipykernel)",
   "language": "python",
   "name": "python3"
  },
  "language_info": {
   "codemirror_mode": {
    "name": "ipython",
    "version": 3
   },
   "file_extension": ".py",
   "mimetype": "text/x-python",
   "name": "python",
   "nbconvert_exporter": "python",
   "pygments_lexer": "ipython3",
   "version": "3.9.12"
  }
 },
 "nbformat": 4,
 "nbformat_minor": 5
}
