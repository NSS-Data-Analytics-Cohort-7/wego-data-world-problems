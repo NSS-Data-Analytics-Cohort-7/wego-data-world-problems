{
 "cells": [
  {
   "cell_type": "markdown",
   "id": "31dd8c9e",
   "metadata": {},
   "source": [
    "## Goals of this project:\n",
    "1. How much impact does being late or too spaced out at the first stop have downstream?\n",
    "2. What is the impact of the layover at the start of the trip (the difference between the first top arrival and departure time)? Does more layover lead to more stable headways (lower values for % headway deviation)?\n",
    "3. How closely does lateness (ADHERENCE) correlate to headway?\n",
    "4. What is the relationship between distance or time travelled since the start of a given trip and the headway deviation? Does headway become less stable the further along the route the bus has travelled?\n",
    "5. How much of a factor does the driver have on headway and on-time performance? The driver is indicated by the OPERATOR variable.\n",
    "6. How does direction of travel, route, or location affect the headway and on-time performance?\n",
    "7. How does time of day or day of week affect headway and on-time performance? Can you detect an impact of school schedule on headway deviation (for certain routes and at certain times of day)?\n",
    "8. Does weather have any effect on headway or on-time performance? To help answer this question, the file bna_2022.csv contains historical weather data recorded at Nashville International Airport."
   ]
  },
  {
   "cell_type": "code",
   "execution_count": null,
   "id": "46fc4bf2",
   "metadata": {},
   "outputs": [],
   "source": [
    "import pandas as pd\n",
    "import matplotlib.pyplot as plt\n",
    "import seaborn as sns"
   ]
  },
  {
   "cell_type": "code",
   "execution_count": null,
   "id": "5e0e0b29",
   "metadata": {},
   "outputs": [],
   "source": [
    "headway = pd.read_csv('../data/Headway Data.csv')\n",
    "weather = pd.read_csv('../data/bna_weather.csv')"
   ]
  },
  {
   "cell_type": "code",
   "execution_count": null,
   "id": "a0c3210c",
   "metadata": {},
   "outputs": [],
   "source": [
    "headway_df = headway[['ADHERENCE_ID', 'DATE', 'ROUTE_ABBR', 'BLOCK_ABBR', 'OPERATOR', 'TRIP_ID', 'ROUTE_DIRECTION_NAME', 'TIME_POINT_ABBR', 'ROUTE_STOP_SEQUENCE', 'LATITUDE', 'LONGITUDE', 'SCHEDULED_TIME', 'ACTUAL_ARRIVAL_TIME', 'ACTUAL_DEPARTURE_TIME', 'ADHERENCE', 'SCHEDULED_HDWY', 'ACTUAL_HDWY', 'HDWY_DEV']]\n",
    "weather_df = weather[['Date', 'temp', 'wx_phrase']]"
   ]
  },
  {
   "cell_type": "code",
   "execution_count": null,
   "id": "5c1c3b50",
   "metadata": {},
   "outputs": [],
   "source": [
    "headway_df.columns = ['adh_id', 'date', 'rte_abbr', 'blk_abbr', 'opr', 'trip_id', 'rte_dir_name', 'time_pt_abbr', 'rte_stop_seq', 'lat', 'log', 'schd_time', 'act_arrvl_time', 'act_depart', 'adh', 'schd_hdwy', 'act_hdwy', 'hdwy_dev']\n",
    "display(headway_df)"
   ]
  },
  {
   "cell_type": "code",
   "execution_count": null,
   "id": "d6aa090b",
   "metadata": {},
   "outputs": [],
   "source": [
    "weather_df.columns = ['date', 'temp', 'weather']\n",
    "display(weather_df)"
   ]
  },
  {
   "cell_type": "code",
   "execution_count": null,
   "id": "388ef20b",
   "metadata": {},
   "outputs": [],
   "source": [
    "print(weather_df['weather'].unique())"
   ]
  },
  {
   "cell_type": "markdown",
   "id": "bcc6debf",
   "metadata": {},
   "source": [
    "## Q6. How does direction of travel, route, or location affect the headway and on-time performance?"
   ]
  },
  {
   "cell_type": "code",
   "execution_count": null,
   "id": "58755a43",
   "metadata": {},
   "outputs": [],
   "source": [
    "directions_df = headway_df[['rte_dir_name', 'schd_time', 'act_arrvl_time', 'act_depart', 'adh']]\n",
    "display(directions_df)"
   ]
  },
  {
   "cell_type": "code",
   "execution_count": null,
   "id": "77b1c25f",
   "metadata": {},
   "outputs": [],
   "source": [
    "direction_adh_avg = directions_df.groupby('rte_dir_name')['adh'].mean()\n",
    "display(direction_adh_avg)"
   ]
  },
  {
   "cell_type": "code",
   "execution_count": null,
   "id": "80d84105",
   "metadata": {},
   "outputs": [],
   "source": [
    "routes_df = headway_df[['rte_abbr', 'schd_time', 'act_arrvl_time', 'act_depart', 'adh']]\n",
    "display(routes_df)"
   ]
  },
  {
   "cell_type": "code",
   "execution_count": null,
   "id": "eb2ad548",
   "metadata": {},
   "outputs": [],
   "source": [
    "route_adh_avg = routes_df.groupby('rte_abbr')['adh'].mean()\n",
    "display(route_adh_avg)"
   ]
  },
  {
   "cell_type": "code",
   "execution_count": null,
   "id": "25da28bf",
   "metadata": {},
   "outputs": [],
   "source": []
  }
 ],
 "metadata": {
  "kernelspec": {
   "display_name": "Python 3 (ipykernel)",
   "language": "python",
   "name": "python3"
  },
  "language_info": {
   "codemirror_mode": {
    "name": "ipython",
    "version": 3
   },
   "file_extension": ".py",
   "mimetype": "text/x-python",
   "name": "python",
   "nbconvert_exporter": "python",
   "pygments_lexer": "ipython3",
   "version": "3.9.12"
  }
 },
 "nbformat": 4,
 "nbformat_minor": 5
}
