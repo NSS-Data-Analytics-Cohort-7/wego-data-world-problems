{
 "cells": [
  {
   "cell_type": "code",
   "execution_count": null,
   "id": "5451cedc",
   "metadata": {},
   "outputs": [],
   "source": [
    "import pandas as pd\n",
    "import matplotlib.pyplot as plt\n",
    "import seaborn as sns"
   ]
  },
  {
   "cell_type": "code",
   "execution_count": null,
   "id": "0f7f108d",
   "metadata": {},
   "outputs": [],
   "source": [
    "headway = pd.read_csv('../data/Headway Data.csv')"
   ]
  },
  {
   "cell_type": "code",
   "execution_count": null,
   "id": "cf05a7b1",
   "metadata": {},
   "outputs": [],
   "source": [
    "avg_adherence = headway[['ROUTE_ABBR', 'TRIP_EDGE', 'ADHERENCE']]\n",
    "avg_adherence"
   ]
  },
  {
   "cell_type": "code",
   "execution_count": null,
   "id": "482ceaee",
   "metadata": {},
   "outputs": [],
   "source": [
    "avg_adherence['ADHERENCE'] = avg_adherence['ADHERENCE'].abs()"
   ]
  },
  {
   "cell_type": "code",
   "execution_count": null,
   "id": "8e632a97",
   "metadata": {},
   "outputs": [],
   "source": [
    "avg_adherence = avg_adherence.groupby([\"ROUTE_ABBR\", \"TRIP_EDGE\"])[\"ADHERENCE\"].mean()\n",
    "avg_adherence"
   ]
  },
  {
   "cell_type": "code",
   "execution_count": null,
   "id": "addcff70",
   "metadata": {
    "scrolled": false
   },
   "outputs": [],
   "source": [
    "adherence = pd.DataFrame(data=avg_adherence)\n",
    "adherence"
   ]
  },
  {
   "cell_type": "code",
   "execution_count": null,
   "id": "620d1e52",
   "metadata": {},
   "outputs": [],
   "source": [
    "adherence.reset_index(inplace=True)\n",
    "adherence"
   ]
  },
  {
   "cell_type": "code",
   "execution_count": null,
   "id": "535e63de",
   "metadata": {},
   "outputs": [],
   "source": [
    "adherence.rename(columns = {'ROUTE_ABBR':'Route', 'TRIP_EDGE':'Trip Edge', 'ADHERENCE':'Average Absolute Adherence'}, inplace=True)\n",
    "adherence"
   ]
  },
  {
   "cell_type": "code",
   "execution_count": null,
   "id": "c395aac1",
   "metadata": {},
   "outputs": [],
   "source": [
    "sns.set_theme(style='whitegrid', palette=('Paired'), font='sans-serif', font_scale=1, color_codes=True, rc=None)\n",
    "hue_order = ['1', '0', '2']"
   ]
  },
  {
   "cell_type": "code",
   "execution_count": null,
   "id": "4978f7cc",
   "metadata": {},
   "outputs": [],
   "source": [
    "g = sns.catplot(\n",
    "    data=adherence, kind=\"bar\",\n",
    "    x=\"Route\", y=\"Average Absolute Adherence\", hue=\"Trip Edge\")\n",
    "plt.savefig('adh-by-trip-edge.png')\n",
    "plt.show()"
   ]
  },
  {
   "cell_type": "markdown",
   "id": "f65a7cf7",
   "metadata": {},
   "source": [
    "## Work on reordering Trip Edge from 0,1,2 to 1,0,2"
   ]
  },
  {
   "cell_type": "code",
   "execution_count": null,
   "id": "2841ea96",
   "metadata": {},
   "outputs": [],
   "source": [
    "sns.color_palette(\"Paired\")"
   ]
  },
  {
   "cell_type": "code",
   "execution_count": null,
   "id": "175f1657",
   "metadata": {},
   "outputs": [],
   "source": [
    "# def catergorise(row):\n",
    "#     if row['ADHERENCE'] > 0:\n",
    "#         return 'early'\n",
    "#     elif row['ADHERENCE'] < 0:\n",
    "#         return 'late'\n",
    "#     elif row['ADHERENCE'] == 0:\n",
    "#         return 'on time'\n",
    "#     return 'null'"
   ]
  },
  {
   "cell_type": "code",
   "execution_count": null,
   "id": "a2fe989c",
   "metadata": {},
   "outputs": [],
   "source": [
    "#avg_adherence['on time'] = avg_adherence.apply(lambda row: catergorise(row),axis=1)"
   ]
  },
  {
   "cell_type": "code",
   "execution_count": null,
   "id": "2957f4ab",
   "metadata": {},
   "outputs": [],
   "source": [
    "#on_time_count = avg_adherence.groupby([\"ROUTE_ABBR\", \"TRIP_EDGE\", \"on time\"])[\"on time\"].count()\n",
    "#on_time_count"
   ]
  },
  {
   "cell_type": "code",
   "execution_count": null,
   "id": "6e1b9c26",
   "metadata": {},
   "outputs": [],
   "source": [
    "#on_time_count = on_time_count.dropna()"
   ]
  },
  {
   "cell_type": "code",
   "execution_count": null,
   "id": "268b0cc0",
   "metadata": {},
   "outputs": [],
   "source": []
  },
  {
   "cell_type": "code",
   "execution_count": null,
   "id": "280c1ae1",
   "metadata": {},
   "outputs": [],
   "source": []
  }
 ],
 "metadata": {
  "kernelspec": {
   "display_name": "Python 3 (ipykernel)",
   "language": "python",
   "name": "python3"
  },
  "language_info": {
   "codemirror_mode": {
    "name": "ipython",
    "version": 3
   },
   "file_extension": ".py",
   "mimetype": "text/x-python",
   "name": "python",
   "nbconvert_exporter": "python",
   "pygments_lexer": "ipython3",
   "version": "3.9.12"
  }
 },
 "nbformat": 4,
 "nbformat_minor": 5
}
