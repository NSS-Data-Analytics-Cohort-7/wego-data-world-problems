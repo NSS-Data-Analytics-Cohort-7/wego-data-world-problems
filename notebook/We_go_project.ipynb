{
 "cells": [
  {
   "cell_type": "markdown",
   "id": "3cefedc3",
   "metadata": {},
   "source": [
    "WeGo Public Transit is a public transit system serving the Greater Nashville and Davidson County area. WeGo provides local and regional bus routes, the WeGo Star train service connecting Lebanon to downtown Nashville, along with several other transit services.\n",
    "\n",
    "In this project, you'll be analyzing the bus spacing to look for patterns and try to identify correlations to controllable or external factors. Specifically, you'll be using a dataset containing information on the headway, or amount of time between vehicle arrivals at a stop. This dataset contains a column HDWY_DEV, which shows the headway deviation. This variable will be negative when bunching has occurred (shorter headway than scheduled) and will be positive for gapping (longer headway than scheduled). Note that you can calculate headway deviation percentage as HDWY_DEV/SCHEDULED_HDWY."
   ]
  },
  {
   "cell_type": "code",
   "execution_count": null,
   "id": "9f7d27dd",
   "metadata": {},
   "outputs": [],
   "source": [
    "import pandas as pd\n",
    "import numpy as np\n",
    "import matplotlib.pyplot as plt\n",
    "import seaborn as sns\n",
    "%matplotlib inline"
   ]
  },
  {
   "cell_type": "code",
   "execution_count": null,
   "id": "d6f74d30",
   "metadata": {},
   "outputs": [],
   "source": [
    "#reading in the 3 csv's\n",
    "bna_2022 = pd.read_csv(\"../data/bna_2022.csv\")\n",
    "bna_2022.head()"
   ]
  },
  {
   "cell_type": "code",
   "execution_count": null,
   "id": "af89887e",
   "metadata": {},
   "outputs": [],
   "source": [
    "headway_data = pd.read_csv(\"../data/Headway_Data.csv.txt\")\n",
    "headway_data.head()"
   ]
  },
  {
   "cell_type": "code",
   "execution_count": null,
   "id": "cd4172b8",
   "metadata": {
    "scrolled": true
   },
   "outputs": [],
   "source": [
    "bna_weather = pd.read_csv(\"../data/bna_weather.csv\")\n",
    "bna_weather.head()"
   ]
  },
  {
   "cell_type": "code",
   "execution_count": null,
   "id": "0a665aa0",
   "metadata": {},
   "outputs": [],
   "source": [
    "#kept columns that we wanted\n",
    "weather_df = bna_weather[['Date', 'temp', 'wx_phrase']]\n",
    "headway_df = headway_data[['ADHERENCE_ID', 'DATE', 'ROUTE_ABBR', 'BLOCK_ABBR', 'OPERATOR', 'TRIP_ID', 'ROUTE_DIRECTION_NAME', 'TIME_POINT_ABBR', 'ROUTE_STOP_SEQUENCE', 'LATITUDE', 'LONGITUDE', 'SCHEDULED_TIME', 'ACTUAL_ARRIVAL_TIME', 'ACTUAL_DEPARTURE_TIME', 'ADHERENCE', 'SCHEDULED_HDWY', 'ACTUAL_HDWY', 'HDWY_DEV']]"
   ]
  },
  {
   "cell_type": "code",
   "execution_count": null,
   "id": "2a0b801f",
   "metadata": {},
   "outputs": [],
   "source": [
    "headway_df"
   ]
  },
  {
   "cell_type": "code",
   "execution_count": null,
   "id": "a68fcba3",
   "metadata": {},
   "outputs": [],
   "source": [
    "#changing the column names\n",
    "headway_df.columns = ['adh_id', 'date', 'rte_abbr', 'blk_abbr', 'opr', 'trip_id', 'rte_dir_name', 'time_pt_abbr', 'rte_stop_seq', 'lat', 'log', 'schd_time', 'act_arrvl_time', 'act_depart', 'adh', 'schd_hdwy', 'act_hdwy', 'hdwy_dev']"
   ]
  },
  {
   "cell_type": "code",
   "execution_count": null,
   "id": "ceb59a62",
   "metadata": {},
   "outputs": [],
   "source": [
    "headway_df"
   ]
  },
  {
   "cell_type": "code",
   "execution_count": null,
   "id": "edcea091",
   "metadata": {},
   "outputs": [],
   "source": [
    "#adding new column to calculate the headway deviation percentage\n",
    "headway_df[\"hdwy_dev_%\"] = ((headway_df[\"hdwy_dev\"] / headway_df[\"schd_hdwy\"])*100)\n",
    "headway_df\n"
   ]
  },
  {
   "cell_type": "code",
   "execution_count": null,
   "id": "fc0a9f6a",
   "metadata": {},
   "outputs": [],
   "source": [
    "weather_df"
   ]
  },
  {
   "cell_type": "code",
   "execution_count": null,
   "id": "5134bb08",
   "metadata": {},
   "outputs": [],
   "source": [
    "#seperating Date into Date and Time\n",
    "weather_df['Dates'] = pd.to_datetime(weather_df['Date']).dt.date\n",
    "weather_df['Time'] = pd.to_datetime(weather_df['Date']).dt.time\n",
    "weather_df"
   ]
  },
  {
   "cell_type": "code",
   "execution_count": null,
   "id": "729a772c",
   "metadata": {},
   "outputs": [],
   "source": [
    "#changed column order\n",
    "weather_df1 = weather_df[['Dates', 'Time', 'temp', 'wx_phrase']]\n",
    "weather_df1"
   ]
  },
  {
   "cell_type": "code",
   "execution_count": null,
   "id": "d0db9a60",
   "metadata": {},
   "outputs": [],
   "source": [
    "#renaming columns in weather\n",
    "weather_df = weather_df1.rename(columns={'Dates': 'date', 'Time': 'time'})\n",
    "weather_df"
   ]
  },
  {
   "cell_type": "code",
   "execution_count": null,
   "id": "0453793b",
   "metadata": {},
   "outputs": [],
   "source": []
  }
 ],
 "metadata": {
  "kernelspec": {
   "display_name": "Python 3",
   "language": "python",
   "name": "python3"
  },
  "language_info": {
   "codemirror_mode": {
    "name": "ipython",
    "version": 3
   },
   "file_extension": ".py",
   "mimetype": "text/x-python",
   "name": "python",
   "nbconvert_exporter": "python",
   "pygments_lexer": "ipython3",
   "version": "3.8.8"
  }
 },
 "nbformat": 4,
 "nbformat_minor": 5
}
