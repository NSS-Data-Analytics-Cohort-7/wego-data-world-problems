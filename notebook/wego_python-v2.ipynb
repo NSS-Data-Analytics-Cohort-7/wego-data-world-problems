{
 "cells": [
  {
   "cell_type": "code",
   "execution_count": 1,
   "id": "6a018f78",
   "metadata": {},
   "outputs": [],
   "source": [
    "import numpy as np\n",
    "import pandas as pd\n",
    "import matplotlib.pyplot as plt\n",
    "import seaborn as sns\n",
    "import statistics as stats\n",
    "\n",
    "%matplotlib inline"
   ]
  },
  {
   "cell_type": "code",
   "execution_count": 2,
   "id": "9cf3b8d5",
   "metadata": {},
   "outputs": [],
   "source": [
    "bna_2022 = pd.read_csv('../data/bna_2022.csv')"
   ]
  },
  {
   "cell_type": "code",
   "execution_count": 3,
   "id": "caf1a1d0",
   "metadata": {},
   "outputs": [],
   "source": [
    "headway = pd.read_csv('../data/Headway Data.csv')"
   ]
  },
  {
   "cell_type": "code",
   "execution_count": 4,
   "id": "38357e98",
   "metadata": {},
   "outputs": [],
   "source": [
    "bna_weather = pd.read_csv('../data/bna_weather.csv')"
   ]
  },
  {
   "cell_type": "markdown",
   "id": "77440c32",
   "metadata": {},
   "source": [
    "First we will look to see how many 'n/a' are in each data frame by coloumns and make a decision as to which columns to possible remove from the dataframes. "
   ]
  },
  {
   "cell_type": "markdown",
   "id": "fc6e7663",
   "metadata": {},
   "source": [
    "Starting with the Headway dataframe. "
   ]
  },
  {
   "cell_type": "markdown",
   "id": "880104ad",
   "metadata": {},
   "source": [
    "creating a new df to for headway with the agreed upon columns. "
   ]
  },
  {
   "cell_type": "code",
   "execution_count": 5,
   "id": "dbd9a4a0",
   "metadata": {},
   "outputs": [],
   "source": [
    "headway_df = headway[['DATE', 'ROUTE_ABBR', 'BLOCK_ABBR', 'OPERATOR', 'TRIP_ID', 'ROUTE_DIRECTION_NAME', 'TIME_POINT_ABBR', 'ROUTE_STOP_SEQUENCE','SCHEDULED_TIME', 'ACTUAL_ARRIVAL_TIME', 'ACTUAL_DEPARTURE_TIME', 'ADHERENCE', 'SCHEDULED_HDWY', 'ACTUAL_HDWY', 'HDWY_DEV']]"
   ]
  },
  {
   "cell_type": "code",
   "execution_count": 6,
   "id": "be2d6948",
   "metadata": {},
   "outputs": [
    {
     "data": {
      "text/plain": [
       "DATE                          0\n",
       "ROUTE_ABBR                    0\n",
       "BLOCK_ABBR                    0\n",
       "OPERATOR                      0\n",
       "TRIP_ID                       0\n",
       "ROUTE_DIRECTION_NAME          0\n",
       "TIME_POINT_ABBR               0\n",
       "ROUTE_STOP_SEQUENCE          41\n",
       "SCHEDULED_TIME                0\n",
       "ACTUAL_ARRIVAL_TIME       54383\n",
       "ACTUAL_DEPARTURE_TIME     54430\n",
       "ADHERENCE                 54430\n",
       "SCHEDULED_HDWY           432294\n",
       "ACTUAL_HDWY              473824\n",
       "HDWY_DEV                 474368\n",
       "dtype: int64"
      ]
     },
     "execution_count": 6,
     "metadata": {},
     "output_type": "execute_result"
    }
   ],
   "source": [
    "headway_df.isna().sum()"
   ]
  },
  {
   "cell_type": "markdown",
   "id": "753f60f6",
   "metadata": {},
   "source": [
    "now it's time to remove the nulls before renaming the columns."
   ]
  },
  {
   "cell_type": "code",
   "execution_count": 7,
   "id": "13b294a5",
   "metadata": {},
   "outputs": [],
   "source": [
    "headway_df2 = headway_df.dropna(how='any', axis=0)"
   ]
  },
  {
   "cell_type": "markdown",
   "id": "b5368df8",
   "metadata": {},
   "source": [
    "1981715 - 1507318 = 474,397 (rows removed)"
   ]
  },
  {
   "cell_type": "code",
   "execution_count": 8,
   "id": "b070b9e6",
   "metadata": {},
   "outputs": [
    {
     "data": {
      "text/plain": [
       "(1507318, 15)"
      ]
     },
     "execution_count": 8,
     "metadata": {},
     "output_type": "execute_result"
    }
   ],
   "source": [
    "headway_df2.shape"
   ]
  },
  {
   "cell_type": "markdown",
   "id": "6812fd69",
   "metadata": {},
   "source": [
    "changing the columns names"
   ]
  },
  {
   "cell_type": "markdown",
   "id": "c9a6af47",
   "metadata": {},
   "source": [
    "headway_df2.columns = ['adh_id', 'date', 'rte_abbr', 'blk_abbr', 'opr', 'trip_id', 'rte_dir_name', 'time_pt_abbr', 'rte_stop_seq', 'lat', 'log', 'schd_time', 'act_arrvl_time', 'act_depart', 'adh', 'schd_hdwy', 'act_hdwy', 'hdwy_dev']"
   ]
  },
  {
   "cell_type": "code",
   "execution_count": 9,
   "id": "b881215e",
   "metadata": {},
   "outputs": [],
   "source": [
    "headway_df2.columns = ['date', 'rte_abbr', 'blk_abbr', 'operator', 'trip_id', 'rte_dir_name', 'time_pt_abbr', 'rte_stop_seq', 'schd_time', 'act_arrvl_time', 'act_depart', 'adh', 'schd_hdwy', 'act_hdwy', 'hdwy_dev']"
   ]
  },
  {
   "cell_type": "code",
   "execution_count": 10,
   "id": "9c80db93",
   "metadata": {},
   "outputs": [
    {
     "data": {
      "text/html": [
       "<div>\n",
       "<style scoped>\n",
       "    .dataframe tbody tr th:only-of-type {\n",
       "        vertical-align: middle;\n",
       "    }\n",
       "\n",
       "    .dataframe tbody tr th {\n",
       "        vertical-align: top;\n",
       "    }\n",
       "\n",
       "    .dataframe thead th {\n",
       "        text-align: right;\n",
       "    }\n",
       "</style>\n",
       "<table border=\"1\" class=\"dataframe\">\n",
       "  <thead>\n",
       "    <tr style=\"text-align: right;\">\n",
       "      <th></th>\n",
       "      <th>date</th>\n",
       "      <th>rte_abbr</th>\n",
       "      <th>blk_abbr</th>\n",
       "      <th>operator</th>\n",
       "      <th>trip_id</th>\n",
       "      <th>rte_dir_name</th>\n",
       "      <th>time_pt_abbr</th>\n",
       "      <th>rte_stop_seq</th>\n",
       "      <th>schd_time</th>\n",
       "      <th>act_arrvl_time</th>\n",
       "      <th>act_depart</th>\n",
       "      <th>adh</th>\n",
       "      <th>schd_hdwy</th>\n",
       "      <th>act_hdwy</th>\n",
       "      <th>hdwy_dev</th>\n",
       "    </tr>\n",
       "  </thead>\n",
       "  <tbody>\n",
       "    <tr>\n",
       "      <th>0</th>\n",
       "      <td>2021-11-01</td>\n",
       "      <td>7</td>\n",
       "      <td>1704</td>\n",
       "      <td>2088</td>\n",
       "      <td>297750</td>\n",
       "      <td>TO DOWNTOWN</td>\n",
       "      <td>HBHS</td>\n",
       "      <td>4.0</td>\n",
       "      <td>14:10:00</td>\n",
       "      <td>13:59:21</td>\n",
       "      <td>14:12:00</td>\n",
       "      <td>-2.000000</td>\n",
       "      <td>14.0</td>\n",
       "      <td>15.983333</td>\n",
       "      <td>1.983333</td>\n",
       "    </tr>\n",
       "    <tr>\n",
       "      <th>1</th>\n",
       "      <td>2021-11-01</td>\n",
       "      <td>7</td>\n",
       "      <td>1704</td>\n",
       "      <td>2088</td>\n",
       "      <td>297750</td>\n",
       "      <td>TO DOWNTOWN</td>\n",
       "      <td>21BK</td>\n",
       "      <td>3.0</td>\n",
       "      <td>14:20:00</td>\n",
       "      <td>14:23:21</td>\n",
       "      <td>14:23:21</td>\n",
       "      <td>-3.350000</td>\n",
       "      <td>14.0</td>\n",
       "      <td>17.333333</td>\n",
       "      <td>3.333333</td>\n",
       "    </tr>\n",
       "    <tr>\n",
       "      <th>12</th>\n",
       "      <td>2021-11-01</td>\n",
       "      <td>22</td>\n",
       "      <td>2200</td>\n",
       "      <td>1352</td>\n",
       "      <td>298128</td>\n",
       "      <td>TO DOWNTOWN</td>\n",
       "      <td>MHSP</td>\n",
       "      <td>15.0</td>\n",
       "      <td>05:42:00</td>\n",
       "      <td>05:33:39</td>\n",
       "      <td>05:43:03</td>\n",
       "      <td>-1.050000</td>\n",
       "      <td>35.0</td>\n",
       "      <td>34.633333</td>\n",
       "      <td>-0.366667</td>\n",
       "    </tr>\n",
       "    <tr>\n",
       "      <th>13</th>\n",
       "      <td>2021-11-01</td>\n",
       "      <td>22</td>\n",
       "      <td>2200</td>\n",
       "      <td>1352</td>\n",
       "      <td>298128</td>\n",
       "      <td>TO DOWNTOWN</td>\n",
       "      <td>ELIZ</td>\n",
       "      <td>11.0</td>\n",
       "      <td>05:46:00</td>\n",
       "      <td>05:48:15</td>\n",
       "      <td>05:48:15</td>\n",
       "      <td>-2.250000</td>\n",
       "      <td>35.0</td>\n",
       "      <td>35.866666</td>\n",
       "      <td>0.866666</td>\n",
       "    </tr>\n",
       "    <tr>\n",
       "      <th>14</th>\n",
       "      <td>2021-11-01</td>\n",
       "      <td>22</td>\n",
       "      <td>2200</td>\n",
       "      <td>1352</td>\n",
       "      <td>298128</td>\n",
       "      <td>TO DOWNTOWN</td>\n",
       "      <td>CV23</td>\n",
       "      <td>6.0</td>\n",
       "      <td>05:54:00</td>\n",
       "      <td>05:54:23</td>\n",
       "      <td>05:54:23</td>\n",
       "      <td>-0.383333</td>\n",
       "      <td>15.0</td>\n",
       "      <td>13.983333</td>\n",
       "      <td>-1.016667</td>\n",
       "    </tr>\n",
       "  </tbody>\n",
       "</table>\n",
       "</div>"
      ],
      "text/plain": [
       "          date  rte_abbr  blk_abbr  operator  trip_id rte_dir_name  \\\n",
       "0   2021-11-01         7      1704      2088   297750  TO DOWNTOWN   \n",
       "1   2021-11-01         7      1704      2088   297750  TO DOWNTOWN   \n",
       "12  2021-11-01        22      2200      1352   298128  TO DOWNTOWN   \n",
       "13  2021-11-01        22      2200      1352   298128  TO DOWNTOWN   \n",
       "14  2021-11-01        22      2200      1352   298128  TO DOWNTOWN   \n",
       "\n",
       "   time_pt_abbr  rte_stop_seq   schd_time act_arrvl_time  act_depart  \\\n",
       "0          HBHS           4.0  14:10:00       13:59:21    14:12:00     \n",
       "1          21BK           3.0  14:20:00       14:23:21    14:23:21     \n",
       "12         MHSP          15.0  05:42:00       05:33:39    05:43:03     \n",
       "13         ELIZ          11.0  05:46:00       05:48:15    05:48:15     \n",
       "14         CV23           6.0  05:54:00       05:54:23    05:54:23     \n",
       "\n",
       "         adh  schd_hdwy   act_hdwy  hdwy_dev  \n",
       "0  -2.000000       14.0  15.983333  1.983333  \n",
       "1  -3.350000       14.0  17.333333  3.333333  \n",
       "12 -1.050000       35.0  34.633333 -0.366667  \n",
       "13 -2.250000       35.0  35.866666  0.866666  \n",
       "14 -0.383333       15.0  13.983333 -1.016667  "
      ]
     },
     "execution_count": 10,
     "metadata": {},
     "output_type": "execute_result"
    }
   ],
   "source": [
    "headway_df2.head()"
   ]
  },
  {
   "cell_type": "code",
   "execution_count": 11,
   "id": "b1b4cf18",
   "metadata": {},
   "outputs": [
    {
     "data": {
      "text/plain": [
       "0          2021-11-01\n",
       "1          2021-11-01\n",
       "12         2021-11-01\n",
       "13         2021-11-01\n",
       "14         2021-11-01\n",
       "              ...    \n",
       "1981695    2022-11-01\n",
       "1981696    2022-11-01\n",
       "1981698    2022-11-01\n",
       "1981699    2022-11-01\n",
       "1981711    2022-11-01\n",
       "Name: date, Length: 1507318, dtype: object"
      ]
     },
     "execution_count": 11,
     "metadata": {},
     "output_type": "execute_result"
    }
   ],
   "source": [
    "headway_df2['date']"
   ]
  },
  {
   "cell_type": "markdown",
   "id": "a71641db",
   "metadata": {},
   "source": [
    "now to work on the bna weather cvs file. "
   ]
  },
  {
   "cell_type": "code",
   "execution_count": 12,
   "id": "f5703bf6",
   "metadata": {},
   "outputs": [],
   "source": [
    "bna_weather2 = bna_weather[['Date', 'temp', 'wx_phrase']]"
   ]
  },
  {
   "cell_type": "code",
   "execution_count": 13,
   "id": "658fa07d",
   "metadata": {},
   "outputs": [
    {
     "data": {
      "text/html": [
       "<div>\n",
       "<style scoped>\n",
       "    .dataframe tbody tr th:only-of-type {\n",
       "        vertical-align: middle;\n",
       "    }\n",
       "\n",
       "    .dataframe tbody tr th {\n",
       "        vertical-align: top;\n",
       "    }\n",
       "\n",
       "    .dataframe thead th {\n",
       "        text-align: right;\n",
       "    }\n",
       "</style>\n",
       "<table border=\"1\" class=\"dataframe\">\n",
       "  <thead>\n",
       "    <tr style=\"text-align: right;\">\n",
       "      <th></th>\n",
       "      <th>Date</th>\n",
       "      <th>temp</th>\n",
       "      <th>wx_phrase</th>\n",
       "    </tr>\n",
       "  </thead>\n",
       "  <tbody>\n",
       "    <tr>\n",
       "      <th>0</th>\n",
       "      <td>2021-11-01 00:53:00</td>\n",
       "      <td>51</td>\n",
       "      <td>Cloudy</td>\n",
       "    </tr>\n",
       "    <tr>\n",
       "      <th>1</th>\n",
       "      <td>2021-11-01 01:30:00</td>\n",
       "      <td>50</td>\n",
       "      <td>Partly Cloudy</td>\n",
       "    </tr>\n",
       "    <tr>\n",
       "      <th>2</th>\n",
       "      <td>2021-11-01 01:53:00</td>\n",
       "      <td>49</td>\n",
       "      <td>Fair</td>\n",
       "    </tr>\n",
       "    <tr>\n",
       "      <th>3</th>\n",
       "      <td>2021-11-01 02:53:00</td>\n",
       "      <td>48</td>\n",
       "      <td>Fair</td>\n",
       "    </tr>\n",
       "    <tr>\n",
       "      <th>4</th>\n",
       "      <td>2021-11-01 03:53:00</td>\n",
       "      <td>47</td>\n",
       "      <td>Fair</td>\n",
       "    </tr>\n",
       "  </tbody>\n",
       "</table>\n",
       "</div>"
      ],
      "text/plain": [
       "                  Date  temp      wx_phrase\n",
       "0  2021-11-01 00:53:00    51         Cloudy\n",
       "1  2021-11-01 01:30:00    50  Partly Cloudy\n",
       "2  2021-11-01 01:53:00    49           Fair\n",
       "3  2021-11-01 02:53:00    48           Fair\n",
       "4  2021-11-01 03:53:00    47           Fair"
      ]
     },
     "execution_count": 13,
     "metadata": {},
     "output_type": "execute_result"
    }
   ],
   "source": [
    "bna_weather2.head()"
   ]
  },
  {
   "cell_type": "code",
   "execution_count": 14,
   "id": "333b12e1",
   "metadata": {},
   "outputs": [],
   "source": [
    "bna_weather2.columns = ['date', 'temp','wx_condition']"
   ]
  },
  {
   "cell_type": "code",
   "execution_count": 15,
   "id": "008990f5",
   "metadata": {},
   "outputs": [
    {
     "data": {
      "text/html": [
       "<div>\n",
       "<style scoped>\n",
       "    .dataframe tbody tr th:only-of-type {\n",
       "        vertical-align: middle;\n",
       "    }\n",
       "\n",
       "    .dataframe tbody tr th {\n",
       "        vertical-align: top;\n",
       "    }\n",
       "\n",
       "    .dataframe thead th {\n",
       "        text-align: right;\n",
       "    }\n",
       "</style>\n",
       "<table border=\"1\" class=\"dataframe\">\n",
       "  <thead>\n",
       "    <tr style=\"text-align: right;\">\n",
       "      <th></th>\n",
       "      <th>date</th>\n",
       "      <th>temp</th>\n",
       "      <th>wx_condition</th>\n",
       "    </tr>\n",
       "  </thead>\n",
       "  <tbody>\n",
       "    <tr>\n",
       "      <th>0</th>\n",
       "      <td>2021-11-01 00:53:00</td>\n",
       "      <td>51</td>\n",
       "      <td>Cloudy</td>\n",
       "    </tr>\n",
       "    <tr>\n",
       "      <th>1</th>\n",
       "      <td>2021-11-01 01:30:00</td>\n",
       "      <td>50</td>\n",
       "      <td>Partly Cloudy</td>\n",
       "    </tr>\n",
       "    <tr>\n",
       "      <th>2</th>\n",
       "      <td>2021-11-01 01:53:00</td>\n",
       "      <td>49</td>\n",
       "      <td>Fair</td>\n",
       "    </tr>\n",
       "    <tr>\n",
       "      <th>3</th>\n",
       "      <td>2021-11-01 02:53:00</td>\n",
       "      <td>48</td>\n",
       "      <td>Fair</td>\n",
       "    </tr>\n",
       "    <tr>\n",
       "      <th>4</th>\n",
       "      <td>2021-11-01 03:53:00</td>\n",
       "      <td>47</td>\n",
       "      <td>Fair</td>\n",
       "    </tr>\n",
       "  </tbody>\n",
       "</table>\n",
       "</div>"
      ],
      "text/plain": [
       "                  date  temp   wx_condition\n",
       "0  2021-11-01 00:53:00    51         Cloudy\n",
       "1  2021-11-01 01:30:00    50  Partly Cloudy\n",
       "2  2021-11-01 01:53:00    49           Fair\n",
       "3  2021-11-01 02:53:00    48           Fair\n",
       "4  2021-11-01 03:53:00    47           Fair"
      ]
     },
     "execution_count": 15,
     "metadata": {},
     "output_type": "execute_result"
    }
   ],
   "source": [
    "bna_weather2.head()"
   ]
  },
  {
   "cell_type": "code",
   "execution_count": 16,
   "id": "d8eeaca5",
   "metadata": {},
   "outputs": [
    {
     "data": {
      "text/plain": [
       "date            0\n",
       "temp            0\n",
       "wx_condition    0\n",
       "dtype: int64"
      ]
     },
     "execution_count": 16,
     "metadata": {},
     "output_type": "execute_result"
    }
   ],
   "source": [
    "bna_weather2.isna().sum()"
   ]
  },
  {
   "cell_type": "code",
   "execution_count": 17,
   "id": "51b2299c",
   "metadata": {},
   "outputs": [
    {
     "data": {
      "text/plain": [
       "0       2021-11-01\n",
       "1       2021-11-01\n",
       "2       2021-11-01\n",
       "3       2021-11-01\n",
       "4       2021-11-01\n",
       "           ...    \n",
       "9734    2022-10-31\n",
       "9735    2022-10-31\n",
       "9736    2022-10-31\n",
       "9737    2022-10-31\n",
       "9738    2022-10-31\n",
       "Name: date, Length: 9739, dtype: object"
      ]
     },
     "execution_count": 17,
     "metadata": {},
     "output_type": "execute_result"
    }
   ],
   "source": [
    "bna_weather2['date'].str[:10]"
   ]
  },
  {
   "cell_type": "code",
   "execution_count": 18,
   "id": "736dfc88",
   "metadata": {},
   "outputs": [
    {
     "name": "stderr",
     "output_type": "stream",
     "text": [
      "C:\\Users\\aaust\\AppData\\Local\\Temp\\ipykernel_12888\\2151395105.py:1: SettingWithCopyWarning: \n",
      "A value is trying to be set on a copy of a slice from a DataFrame.\n",
      "Try using .loc[row_indexer,col_indexer] = value instead\n",
      "\n",
      "See the caveats in the documentation: https://pandas.pydata.org/pandas-docs/stable/user_guide/indexing.html#returning-a-view-versus-a-copy\n",
      "  bna_weather2['date'] = bna_weather2['date'].str[:10]\n"
     ]
    }
   ],
   "source": [
    "bna_weather2['date'] = bna_weather2['date'].str[:10]"
   ]
  },
  {
   "cell_type": "code",
   "execution_count": 19,
   "id": "553c8522",
   "metadata": {},
   "outputs": [
    {
     "data": {
      "text/html": [
       "<div>\n",
       "<style scoped>\n",
       "    .dataframe tbody tr th:only-of-type {\n",
       "        vertical-align: middle;\n",
       "    }\n",
       "\n",
       "    .dataframe tbody tr th {\n",
       "        vertical-align: top;\n",
       "    }\n",
       "\n",
       "    .dataframe thead th {\n",
       "        text-align: right;\n",
       "    }\n",
       "</style>\n",
       "<table border=\"1\" class=\"dataframe\">\n",
       "  <thead>\n",
       "    <tr style=\"text-align: right;\">\n",
       "      <th></th>\n",
       "      <th>date</th>\n",
       "      <th>temp</th>\n",
       "      <th>wx_condition</th>\n",
       "    </tr>\n",
       "  </thead>\n",
       "  <tbody>\n",
       "    <tr>\n",
       "      <th>0</th>\n",
       "      <td>2021-11-01</td>\n",
       "      <td>51</td>\n",
       "      <td>Cloudy</td>\n",
       "    </tr>\n",
       "    <tr>\n",
       "      <th>1</th>\n",
       "      <td>2021-11-01</td>\n",
       "      <td>50</td>\n",
       "      <td>Partly Cloudy</td>\n",
       "    </tr>\n",
       "    <tr>\n",
       "      <th>2</th>\n",
       "      <td>2021-11-01</td>\n",
       "      <td>49</td>\n",
       "      <td>Fair</td>\n",
       "    </tr>\n",
       "    <tr>\n",
       "      <th>3</th>\n",
       "      <td>2021-11-01</td>\n",
       "      <td>48</td>\n",
       "      <td>Fair</td>\n",
       "    </tr>\n",
       "    <tr>\n",
       "      <th>4</th>\n",
       "      <td>2021-11-01</td>\n",
       "      <td>47</td>\n",
       "      <td>Fair</td>\n",
       "    </tr>\n",
       "  </tbody>\n",
       "</table>\n",
       "</div>"
      ],
      "text/plain": [
       "         date  temp   wx_condition\n",
       "0  2021-11-01    51         Cloudy\n",
       "1  2021-11-01    50  Partly Cloudy\n",
       "2  2021-11-01    49           Fair\n",
       "3  2021-11-01    48           Fair\n",
       "4  2021-11-01    47           Fair"
      ]
     },
     "execution_count": 19,
     "metadata": {},
     "output_type": "execute_result"
    }
   ],
   "source": [
    "bna_weather2.head()"
   ]
  },
  {
   "cell_type": "markdown",
   "id": "23cf0ef0",
   "metadata": {},
   "source": [
    "now to merge the weather_bna dataframe to the headway dataframe."
   ]
  },
  {
   "cell_type": "code",
   "execution_count": 20,
   "id": "3f10dd91",
   "metadata": {},
   "outputs": [],
   "source": [
    "wego_trips = headway_df2.merge(bna_weather2, on=['date'], how='outer')"
   ]
  },
  {
   "cell_type": "code",
   "execution_count": 21,
   "id": "4c812d77",
   "metadata": {
    "scrolled": true
   },
   "outputs": [
    {
     "data": {
      "text/html": [
       "<div>\n",
       "<style scoped>\n",
       "    .dataframe tbody tr th:only-of-type {\n",
       "        vertical-align: middle;\n",
       "    }\n",
       "\n",
       "    .dataframe tbody tr th {\n",
       "        vertical-align: top;\n",
       "    }\n",
       "\n",
       "    .dataframe thead th {\n",
       "        text-align: right;\n",
       "    }\n",
       "</style>\n",
       "<table border=\"1\" class=\"dataframe\">\n",
       "  <thead>\n",
       "    <tr style=\"text-align: right;\">\n",
       "      <th></th>\n",
       "      <th>date</th>\n",
       "      <th>rte_abbr</th>\n",
       "      <th>blk_abbr</th>\n",
       "      <th>operator</th>\n",
       "      <th>trip_id</th>\n",
       "      <th>rte_dir_name</th>\n",
       "      <th>time_pt_abbr</th>\n",
       "      <th>rte_stop_seq</th>\n",
       "      <th>schd_time</th>\n",
       "      <th>act_arrvl_time</th>\n",
       "      <th>act_depart</th>\n",
       "      <th>adh</th>\n",
       "      <th>schd_hdwy</th>\n",
       "      <th>act_hdwy</th>\n",
       "      <th>hdwy_dev</th>\n",
       "      <th>temp</th>\n",
       "      <th>wx_condition</th>\n",
       "    </tr>\n",
       "  </thead>\n",
       "  <tbody>\n",
       "    <tr>\n",
       "      <th>0</th>\n",
       "      <td>2021-11-01</td>\n",
       "      <td>7</td>\n",
       "      <td>1704</td>\n",
       "      <td>2088</td>\n",
       "      <td>297750</td>\n",
       "      <td>TO DOWNTOWN</td>\n",
       "      <td>HBHS</td>\n",
       "      <td>4.0</td>\n",
       "      <td>14:10:00</td>\n",
       "      <td>13:59:21</td>\n",
       "      <td>14:12:00</td>\n",
       "      <td>-2.0</td>\n",
       "      <td>14.0</td>\n",
       "      <td>15.983333</td>\n",
       "      <td>1.983333</td>\n",
       "      <td>51.0</td>\n",
       "      <td>Cloudy</td>\n",
       "    </tr>\n",
       "    <tr>\n",
       "      <th>1</th>\n",
       "      <td>2021-11-01</td>\n",
       "      <td>7</td>\n",
       "      <td>1704</td>\n",
       "      <td>2088</td>\n",
       "      <td>297750</td>\n",
       "      <td>TO DOWNTOWN</td>\n",
       "      <td>HBHS</td>\n",
       "      <td>4.0</td>\n",
       "      <td>14:10:00</td>\n",
       "      <td>13:59:21</td>\n",
       "      <td>14:12:00</td>\n",
       "      <td>-2.0</td>\n",
       "      <td>14.0</td>\n",
       "      <td>15.983333</td>\n",
       "      <td>1.983333</td>\n",
       "      <td>50.0</td>\n",
       "      <td>Partly Cloudy</td>\n",
       "    </tr>\n",
       "    <tr>\n",
       "      <th>2</th>\n",
       "      <td>2021-11-01</td>\n",
       "      <td>7</td>\n",
       "      <td>1704</td>\n",
       "      <td>2088</td>\n",
       "      <td>297750</td>\n",
       "      <td>TO DOWNTOWN</td>\n",
       "      <td>HBHS</td>\n",
       "      <td>4.0</td>\n",
       "      <td>14:10:00</td>\n",
       "      <td>13:59:21</td>\n",
       "      <td>14:12:00</td>\n",
       "      <td>-2.0</td>\n",
       "      <td>14.0</td>\n",
       "      <td>15.983333</td>\n",
       "      <td>1.983333</td>\n",
       "      <td>49.0</td>\n",
       "      <td>Fair</td>\n",
       "    </tr>\n",
       "    <tr>\n",
       "      <th>3</th>\n",
       "      <td>2021-11-01</td>\n",
       "      <td>7</td>\n",
       "      <td>1704</td>\n",
       "      <td>2088</td>\n",
       "      <td>297750</td>\n",
       "      <td>TO DOWNTOWN</td>\n",
       "      <td>HBHS</td>\n",
       "      <td>4.0</td>\n",
       "      <td>14:10:00</td>\n",
       "      <td>13:59:21</td>\n",
       "      <td>14:12:00</td>\n",
       "      <td>-2.0</td>\n",
       "      <td>14.0</td>\n",
       "      <td>15.983333</td>\n",
       "      <td>1.983333</td>\n",
       "      <td>48.0</td>\n",
       "      <td>Fair</td>\n",
       "    </tr>\n",
       "    <tr>\n",
       "      <th>4</th>\n",
       "      <td>2021-11-01</td>\n",
       "      <td>7</td>\n",
       "      <td>1704</td>\n",
       "      <td>2088</td>\n",
       "      <td>297750</td>\n",
       "      <td>TO DOWNTOWN</td>\n",
       "      <td>HBHS</td>\n",
       "      <td>4.0</td>\n",
       "      <td>14:10:00</td>\n",
       "      <td>13:59:21</td>\n",
       "      <td>14:12:00</td>\n",
       "      <td>-2.0</td>\n",
       "      <td>14.0</td>\n",
       "      <td>15.983333</td>\n",
       "      <td>1.983333</td>\n",
       "      <td>47.0</td>\n",
       "      <td>Fair</td>\n",
       "    </tr>\n",
       "    <tr>\n",
       "      <th>5</th>\n",
       "      <td>2021-11-01</td>\n",
       "      <td>7</td>\n",
       "      <td>1704</td>\n",
       "      <td>2088</td>\n",
       "      <td>297750</td>\n",
       "      <td>TO DOWNTOWN</td>\n",
       "      <td>HBHS</td>\n",
       "      <td>4.0</td>\n",
       "      <td>14:10:00</td>\n",
       "      <td>13:59:21</td>\n",
       "      <td>14:12:00</td>\n",
       "      <td>-2.0</td>\n",
       "      <td>14.0</td>\n",
       "      <td>15.983333</td>\n",
       "      <td>1.983333</td>\n",
       "      <td>45.0</td>\n",
       "      <td>Fair</td>\n",
       "    </tr>\n",
       "    <tr>\n",
       "      <th>6</th>\n",
       "      <td>2021-11-01</td>\n",
       "      <td>7</td>\n",
       "      <td>1704</td>\n",
       "      <td>2088</td>\n",
       "      <td>297750</td>\n",
       "      <td>TO DOWNTOWN</td>\n",
       "      <td>HBHS</td>\n",
       "      <td>4.0</td>\n",
       "      <td>14:10:00</td>\n",
       "      <td>13:59:21</td>\n",
       "      <td>14:12:00</td>\n",
       "      <td>-2.0</td>\n",
       "      <td>14.0</td>\n",
       "      <td>15.983333</td>\n",
       "      <td>1.983333</td>\n",
       "      <td>46.0</td>\n",
       "      <td>Fair</td>\n",
       "    </tr>\n",
       "    <tr>\n",
       "      <th>7</th>\n",
       "      <td>2021-11-01</td>\n",
       "      <td>7</td>\n",
       "      <td>1704</td>\n",
       "      <td>2088</td>\n",
       "      <td>297750</td>\n",
       "      <td>TO DOWNTOWN</td>\n",
       "      <td>HBHS</td>\n",
       "      <td>4.0</td>\n",
       "      <td>14:10:00</td>\n",
       "      <td>13:59:21</td>\n",
       "      <td>14:12:00</td>\n",
       "      <td>-2.0</td>\n",
       "      <td>14.0</td>\n",
       "      <td>15.983333</td>\n",
       "      <td>1.983333</td>\n",
       "      <td>45.0</td>\n",
       "      <td>Fair</td>\n",
       "    </tr>\n",
       "  </tbody>\n",
       "</table>\n",
       "</div>"
      ],
      "text/plain": [
       "         date  rte_abbr  blk_abbr  operator  trip_id rte_dir_name  \\\n",
       "0  2021-11-01         7      1704      2088   297750  TO DOWNTOWN   \n",
       "1  2021-11-01         7      1704      2088   297750  TO DOWNTOWN   \n",
       "2  2021-11-01         7      1704      2088   297750  TO DOWNTOWN   \n",
       "3  2021-11-01         7      1704      2088   297750  TO DOWNTOWN   \n",
       "4  2021-11-01         7      1704      2088   297750  TO DOWNTOWN   \n",
       "5  2021-11-01         7      1704      2088   297750  TO DOWNTOWN   \n",
       "6  2021-11-01         7      1704      2088   297750  TO DOWNTOWN   \n",
       "7  2021-11-01         7      1704      2088   297750  TO DOWNTOWN   \n",
       "\n",
       "  time_pt_abbr  rte_stop_seq   schd_time act_arrvl_time  act_depart  adh  \\\n",
       "0         HBHS           4.0  14:10:00       13:59:21    14:12:00   -2.0   \n",
       "1         HBHS           4.0  14:10:00       13:59:21    14:12:00   -2.0   \n",
       "2         HBHS           4.0  14:10:00       13:59:21    14:12:00   -2.0   \n",
       "3         HBHS           4.0  14:10:00       13:59:21    14:12:00   -2.0   \n",
       "4         HBHS           4.0  14:10:00       13:59:21    14:12:00   -2.0   \n",
       "5         HBHS           4.0  14:10:00       13:59:21    14:12:00   -2.0   \n",
       "6         HBHS           4.0  14:10:00       13:59:21    14:12:00   -2.0   \n",
       "7         HBHS           4.0  14:10:00       13:59:21    14:12:00   -2.0   \n",
       "\n",
       "   schd_hdwy   act_hdwy  hdwy_dev  temp   wx_condition  \n",
       "0       14.0  15.983333  1.983333  51.0         Cloudy  \n",
       "1       14.0  15.983333  1.983333  50.0  Partly Cloudy  \n",
       "2       14.0  15.983333  1.983333  49.0           Fair  \n",
       "3       14.0  15.983333  1.983333  48.0           Fair  \n",
       "4       14.0  15.983333  1.983333  47.0           Fair  \n",
       "5       14.0  15.983333  1.983333  45.0           Fair  \n",
       "6       14.0  15.983333  1.983333  46.0           Fair  \n",
       "7       14.0  15.983333  1.983333  45.0           Fair  "
      ]
     },
     "execution_count": 21,
     "metadata": {},
     "output_type": "execute_result"
    }
   ],
   "source": [
    "wego_trips.head(8)"
   ]
  },
  {
   "cell_type": "code",
   "execution_count": 22,
   "id": "8a6c146b",
   "metadata": {},
   "outputs": [
    {
     "data": {
      "text/plain": [
       "date                 0\n",
       "rte_abbr             0\n",
       "blk_abbr             0\n",
       "operator             0\n",
       "trip_id              0\n",
       "rte_dir_name         0\n",
       "time_pt_abbr         0\n",
       "rte_stop_seq         0\n",
       "schd_time            0\n",
       "act_arrvl_time       0\n",
       "act_depart           0\n",
       "adh                  0\n",
       "schd_hdwy            0\n",
       "act_hdwy             0\n",
       "hdwy_dev             0\n",
       "temp              4998\n",
       "wx_condition      4998\n",
       "dtype: int64"
      ]
     },
     "execution_count": 22,
     "metadata": {},
     "output_type": "execute_result"
    }
   ],
   "source": [
    "wego_trips.isna().sum()"
   ]
  },
  {
   "cell_type": "code",
   "execution_count": 23,
   "id": "6f90d0de",
   "metadata": {},
   "outputs": [],
   "source": [
    "operators = wego_trips[['date', 'operator', 'trip_id', 'rte_abbr', 'rte_dir_name','act_hdwy']]"
   ]
  },
  {
   "cell_type": "code",
   "execution_count": 35,
   "id": "c1273e98",
   "metadata": {},
   "outputs": [
    {
     "data": {
      "text/html": [
       "<div>\n",
       "<style scoped>\n",
       "    .dataframe tbody tr th:only-of-type {\n",
       "        vertical-align: middle;\n",
       "    }\n",
       "\n",
       "    .dataframe tbody tr th {\n",
       "        vertical-align: top;\n",
       "    }\n",
       "\n",
       "    .dataframe thead th {\n",
       "        text-align: right;\n",
       "    }\n",
       "</style>\n",
       "<table border=\"1\" class=\"dataframe\">\n",
       "  <thead>\n",
       "    <tr style=\"text-align: right;\">\n",
       "      <th></th>\n",
       "      <th>date</th>\n",
       "      <th>operator</th>\n",
       "      <th>trip_id</th>\n",
       "      <th>rte_abbr</th>\n",
       "      <th>rte_dir_name</th>\n",
       "      <th>act_hdwy</th>\n",
       "    </tr>\n",
       "  </thead>\n",
       "  <tbody>\n",
       "    <tr>\n",
       "      <th>0</th>\n",
       "      <td>2021-11-01</td>\n",
       "      <td>2088</td>\n",
       "      <td>297750</td>\n",
       "      <td>7</td>\n",
       "      <td>TO DOWNTOWN</td>\n",
       "      <td>15.983333</td>\n",
       "    </tr>\n",
       "    <tr>\n",
       "      <th>1</th>\n",
       "      <td>2021-11-01</td>\n",
       "      <td>2088</td>\n",
       "      <td>297750</td>\n",
       "      <td>7</td>\n",
       "      <td>TO DOWNTOWN</td>\n",
       "      <td>15.983333</td>\n",
       "    </tr>\n",
       "    <tr>\n",
       "      <th>2</th>\n",
       "      <td>2021-11-01</td>\n",
       "      <td>2088</td>\n",
       "      <td>297750</td>\n",
       "      <td>7</td>\n",
       "      <td>TO DOWNTOWN</td>\n",
       "      <td>15.983333</td>\n",
       "    </tr>\n",
       "    <tr>\n",
       "      <th>3</th>\n",
       "      <td>2021-11-01</td>\n",
       "      <td>2088</td>\n",
       "      <td>297750</td>\n",
       "      <td>7</td>\n",
       "      <td>TO DOWNTOWN</td>\n",
       "      <td>15.983333</td>\n",
       "    </tr>\n",
       "    <tr>\n",
       "      <th>4</th>\n",
       "      <td>2021-11-01</td>\n",
       "      <td>2088</td>\n",
       "      <td>297750</td>\n",
       "      <td>7</td>\n",
       "      <td>TO DOWNTOWN</td>\n",
       "      <td>15.983333</td>\n",
       "    </tr>\n",
       "    <tr>\n",
       "      <th>...</th>\n",
       "      <td>...</td>\n",
       "      <td>...</td>\n",
       "      <td>...</td>\n",
       "      <td>...</td>\n",
       "      <td>...</td>\n",
       "      <td>...</td>\n",
       "    </tr>\n",
       "    <tr>\n",
       "      <th>39992454</th>\n",
       "      <td>2022-11-01</td>\n",
       "      <td>375</td>\n",
       "      <td>329461</td>\n",
       "      <td>7</td>\n",
       "      <td>TO DOWNTOWN</td>\n",
       "      <td>16.850000</td>\n",
       "    </tr>\n",
       "    <tr>\n",
       "      <th>39992455</th>\n",
       "      <td>2022-11-01</td>\n",
       "      <td>375</td>\n",
       "      <td>329461</td>\n",
       "      <td>7</td>\n",
       "      <td>TO DOWNTOWN</td>\n",
       "      <td>14.500000</td>\n",
       "    </tr>\n",
       "    <tr>\n",
       "      <th>39992456</th>\n",
       "      <td>2022-11-01</td>\n",
       "      <td>375</td>\n",
       "      <td>329459</td>\n",
       "      <td>7</td>\n",
       "      <td>FROM DOWNTOWN</td>\n",
       "      <td>13.116666</td>\n",
       "    </tr>\n",
       "    <tr>\n",
       "      <th>39992457</th>\n",
       "      <td>2022-11-01</td>\n",
       "      <td>375</td>\n",
       "      <td>329459</td>\n",
       "      <td>7</td>\n",
       "      <td>FROM DOWNTOWN</td>\n",
       "      <td>7.483333</td>\n",
       "    </tr>\n",
       "    <tr>\n",
       "      <th>39992458</th>\n",
       "      <td>2022-11-01</td>\n",
       "      <td>1880</td>\n",
       "      <td>330003</td>\n",
       "      <td>50</td>\n",
       "      <td>TO DOWNTOWN</td>\n",
       "      <td>7.633333</td>\n",
       "    </tr>\n",
       "  </tbody>\n",
       "</table>\n",
       "<p>39992459 rows × 6 columns</p>\n",
       "</div>"
      ],
      "text/plain": [
       "                date  operator  trip_id  rte_abbr   rte_dir_name   act_hdwy\n",
       "0         2021-11-01      2088   297750         7    TO DOWNTOWN  15.983333\n",
       "1         2021-11-01      2088   297750         7    TO DOWNTOWN  15.983333\n",
       "2         2021-11-01      2088   297750         7    TO DOWNTOWN  15.983333\n",
       "3         2021-11-01      2088   297750         7    TO DOWNTOWN  15.983333\n",
       "4         2021-11-01      2088   297750         7    TO DOWNTOWN  15.983333\n",
       "...              ...       ...      ...       ...            ...        ...\n",
       "39992454  2022-11-01       375   329461         7    TO DOWNTOWN  16.850000\n",
       "39992455  2022-11-01       375   329461         7    TO DOWNTOWN  14.500000\n",
       "39992456  2022-11-01       375   329459         7  FROM DOWNTOWN  13.116666\n",
       "39992457  2022-11-01       375   329459         7  FROM DOWNTOWN   7.483333\n",
       "39992458  2022-11-01      1880   330003        50    TO DOWNTOWN   7.633333\n",
       "\n",
       "[39992459 rows x 6 columns]"
      ]
     },
     "execution_count": 35,
     "metadata": {},
     "output_type": "execute_result"
    }
   ],
   "source": [
    "operators"
   ]
  },
  {
   "cell_type": "code",
   "execution_count": 39,
   "id": "ae4c1f78",
   "metadata": {},
   "outputs": [],
   "source": [
    "trip = operators.groupby(['date','trip_id', 'rte_abbr']).act_hdwy.agg({'mean' ,'std'})"
   ]
  },
  {
   "cell_type": "code",
   "execution_count": 40,
   "id": "7c8f0b05",
   "metadata": {},
   "outputs": [],
   "source": [
    "trip = operators.merge(trip, left_on=['date','trip_id', 'rte_abbr'], right_index=True)"
   ]
  },
  {
   "cell_type": "code",
   "execution_count": 41,
   "id": "fe3d9a69",
   "metadata": {},
   "outputs": [
    {
     "data": {
      "text/html": [
       "<div>\n",
       "<style scoped>\n",
       "    .dataframe tbody tr th:only-of-type {\n",
       "        vertical-align: middle;\n",
       "    }\n",
       "\n",
       "    .dataframe tbody tr th {\n",
       "        vertical-align: top;\n",
       "    }\n",
       "\n",
       "    .dataframe thead th {\n",
       "        text-align: right;\n",
       "    }\n",
       "</style>\n",
       "<table border=\"1\" class=\"dataframe\">\n",
       "  <thead>\n",
       "    <tr style=\"text-align: right;\">\n",
       "      <th></th>\n",
       "      <th>date</th>\n",
       "      <th>operator</th>\n",
       "      <th>trip_id</th>\n",
       "      <th>rte_abbr</th>\n",
       "      <th>rte_dir_name</th>\n",
       "      <th>act_hdwy</th>\n",
       "      <th>mean</th>\n",
       "      <th>std</th>\n",
       "    </tr>\n",
       "  </thead>\n",
       "  <tbody>\n",
       "    <tr>\n",
       "      <th>0</th>\n",
       "      <td>2021-11-01</td>\n",
       "      <td>2088</td>\n",
       "      <td>297750</td>\n",
       "      <td>7</td>\n",
       "      <td>TO DOWNTOWN</td>\n",
       "      <td>15.983333</td>\n",
       "      <td>16.658333</td>\n",
       "      <td>0.681853</td>\n",
       "    </tr>\n",
       "    <tr>\n",
       "      <th>1</th>\n",
       "      <td>2021-11-01</td>\n",
       "      <td>2088</td>\n",
       "      <td>297750</td>\n",
       "      <td>7</td>\n",
       "      <td>TO DOWNTOWN</td>\n",
       "      <td>15.983333</td>\n",
       "      <td>16.658333</td>\n",
       "      <td>0.681853</td>\n",
       "    </tr>\n",
       "    <tr>\n",
       "      <th>2</th>\n",
       "      <td>2021-11-01</td>\n",
       "      <td>2088</td>\n",
       "      <td>297750</td>\n",
       "      <td>7</td>\n",
       "      <td>TO DOWNTOWN</td>\n",
       "      <td>15.983333</td>\n",
       "      <td>16.658333</td>\n",
       "      <td>0.681853</td>\n",
       "    </tr>\n",
       "    <tr>\n",
       "      <th>3</th>\n",
       "      <td>2021-11-01</td>\n",
       "      <td>2088</td>\n",
       "      <td>297750</td>\n",
       "      <td>7</td>\n",
       "      <td>TO DOWNTOWN</td>\n",
       "      <td>15.983333</td>\n",
       "      <td>16.658333</td>\n",
       "      <td>0.681853</td>\n",
       "    </tr>\n",
       "    <tr>\n",
       "      <th>4</th>\n",
       "      <td>2021-11-01</td>\n",
       "      <td>2088</td>\n",
       "      <td>297750</td>\n",
       "      <td>7</td>\n",
       "      <td>TO DOWNTOWN</td>\n",
       "      <td>15.983333</td>\n",
       "      <td>16.658333</td>\n",
       "      <td>0.681853</td>\n",
       "    </tr>\n",
       "    <tr>\n",
       "      <th>...</th>\n",
       "      <td>...</td>\n",
       "      <td>...</td>\n",
       "      <td>...</td>\n",
       "      <td>...</td>\n",
       "      <td>...</td>\n",
       "      <td>...</td>\n",
       "      <td>...</td>\n",
       "      <td>...</td>\n",
       "    </tr>\n",
       "    <tr>\n",
       "      <th>39992454</th>\n",
       "      <td>2022-11-01</td>\n",
       "      <td>375</td>\n",
       "      <td>329461</td>\n",
       "      <td>7</td>\n",
       "      <td>TO DOWNTOWN</td>\n",
       "      <td>16.850000</td>\n",
       "      <td>15.675000</td>\n",
       "      <td>1.661701</td>\n",
       "    </tr>\n",
       "    <tr>\n",
       "      <th>39992455</th>\n",
       "      <td>2022-11-01</td>\n",
       "      <td>375</td>\n",
       "      <td>329461</td>\n",
       "      <td>7</td>\n",
       "      <td>TO DOWNTOWN</td>\n",
       "      <td>14.500000</td>\n",
       "      <td>15.675000</td>\n",
       "      <td>1.661701</td>\n",
       "    </tr>\n",
       "    <tr>\n",
       "      <th>39992456</th>\n",
       "      <td>2022-11-01</td>\n",
       "      <td>375</td>\n",
       "      <td>329459</td>\n",
       "      <td>7</td>\n",
       "      <td>FROM DOWNTOWN</td>\n",
       "      <td>13.116666</td>\n",
       "      <td>10.300000</td>\n",
       "      <td>3.983368</td>\n",
       "    </tr>\n",
       "    <tr>\n",
       "      <th>39992457</th>\n",
       "      <td>2022-11-01</td>\n",
       "      <td>375</td>\n",
       "      <td>329459</td>\n",
       "      <td>7</td>\n",
       "      <td>FROM DOWNTOWN</td>\n",
       "      <td>7.483333</td>\n",
       "      <td>10.300000</td>\n",
       "      <td>3.983368</td>\n",
       "    </tr>\n",
       "    <tr>\n",
       "      <th>39992458</th>\n",
       "      <td>2022-11-01</td>\n",
       "      <td>1880</td>\n",
       "      <td>330003</td>\n",
       "      <td>50</td>\n",
       "      <td>TO DOWNTOWN</td>\n",
       "      <td>7.633333</td>\n",
       "      <td>7.633333</td>\n",
       "      <td>NaN</td>\n",
       "    </tr>\n",
       "  </tbody>\n",
       "</table>\n",
       "<p>39992459 rows × 8 columns</p>\n",
       "</div>"
      ],
      "text/plain": [
       "                date  operator  trip_id  rte_abbr   rte_dir_name   act_hdwy  \\\n",
       "0         2021-11-01      2088   297750         7    TO DOWNTOWN  15.983333   \n",
       "1         2021-11-01      2088   297750         7    TO DOWNTOWN  15.983333   \n",
       "2         2021-11-01      2088   297750         7    TO DOWNTOWN  15.983333   \n",
       "3         2021-11-01      2088   297750         7    TO DOWNTOWN  15.983333   \n",
       "4         2021-11-01      2088   297750         7    TO DOWNTOWN  15.983333   \n",
       "...              ...       ...      ...       ...            ...        ...   \n",
       "39992454  2022-11-01       375   329461         7    TO DOWNTOWN  16.850000   \n",
       "39992455  2022-11-01       375   329461         7    TO DOWNTOWN  14.500000   \n",
       "39992456  2022-11-01       375   329459         7  FROM DOWNTOWN  13.116666   \n",
       "39992457  2022-11-01       375   329459         7  FROM DOWNTOWN   7.483333   \n",
       "39992458  2022-11-01      1880   330003        50    TO DOWNTOWN   7.633333   \n",
       "\n",
       "               mean       std  \n",
       "0         16.658333  0.681853  \n",
       "1         16.658333  0.681853  \n",
       "2         16.658333  0.681853  \n",
       "3         16.658333  0.681853  \n",
       "4         16.658333  0.681853  \n",
       "...             ...       ...  \n",
       "39992454  15.675000  1.661701  \n",
       "39992455  15.675000  1.661701  \n",
       "39992456  10.300000  3.983368  \n",
       "39992457  10.300000  3.983368  \n",
       "39992458   7.633333       NaN  \n",
       "\n",
       "[39992459 rows x 8 columns]"
      ]
     },
     "execution_count": 41,
     "metadata": {},
     "output_type": "execute_result"
    }
   ],
   "source": [
    "trip"
   ]
  },
  {
   "cell_type": "code",
   "execution_count": null,
   "id": "3d912c69",
   "metadata": {},
   "outputs": [],
   "source": [
    "# trip_avg.columns = ['date','trip_id','rte_abbr','avg_hdwy']"
   ]
  },
  {
   "cell_type": "code",
   "execution_count": null,
   "id": "0a6364f6",
   "metadata": {},
   "outputs": [],
   "source": [
    "# trip_avg['stdev_hdwy'] = operators.groupby(['date','trip_id', 'rte_abbr'], as_index=False)['act_hdwy'].std()"
   ]
  },
  {
   "cell_type": "code",
   "execution_count": null,
   "id": "ebff9c35",
   "metadata": {},
   "outputs": [],
   "source": [
    "# trip2_avg = operators.groupby(['date','trip_id', 'rte_abbr'],  as_index=False)['act_hdwy'].std()"
   ]
  },
  {
   "cell_type": "markdown",
   "id": "aff8de81",
   "metadata": {},
   "source": [
    "time to start plotting now"
   ]
  },
  {
   "cell_type": "code",
   "execution_count": 45,
   "id": "6b99a7e3",
   "metadata": {},
   "outputs": [
    {
     "ename": "KeyboardInterrupt",
     "evalue": "",
     "output_type": "error",
     "traceback": [
      "\u001b[1;31m---------------------------------------------------------------------------\u001b[0m",
      "\u001b[1;31mKeyboardInterrupt\u001b[0m                         Traceback (most recent call last)",
      "Input \u001b[1;32mIn [45]\u001b[0m, in \u001b[0;36m<cell line: 1>\u001b[1;34m()\u001b[0m\n\u001b[1;32m----> 1\u001b[0m \u001b[43msns\u001b[49m\u001b[38;5;241;43m.\u001b[39;49m\u001b[43mlineplot\u001b[49m\u001b[43m(\u001b[49m\u001b[43mdata\u001b[49m\u001b[38;5;241;43m=\u001b[39;49m\u001b[43mtrip\u001b[49m\u001b[43m,\u001b[49m\u001b[43m \u001b[49m\u001b[43mx\u001b[49m\u001b[38;5;241;43m=\u001b[39;49m\u001b[38;5;124;43m'\u001b[39;49m\u001b[38;5;124;43mrte_abbr\u001b[39;49m\u001b[38;5;124;43m'\u001b[39;49m\u001b[43m,\u001b[49m\u001b[43m \u001b[49m\u001b[43my\u001b[49m\u001b[38;5;241;43m=\u001b[39;49m\u001b[38;5;124;43m'\u001b[39;49m\u001b[38;5;124;43mmean\u001b[39;49m\u001b[38;5;124;43m'\u001b[39;49m\u001b[43m)\u001b[49m\n\u001b[0;32m      2\u001b[0m plt\u001b[38;5;241m.\u001b[39mtitle(\u001b[38;5;124m\"\u001b[39m\u001b[38;5;124mavg headway times\u001b[39m\u001b[38;5;124m\"\u001b[39m)\n\u001b[0;32m      3\u001b[0m plt\u001b[38;5;241m.\u001b[39mxlabel(\u001b[38;5;124m'\u001b[39m\u001b[38;5;124mroutes\u001b[39m\u001b[38;5;124m'\u001b[39m)\n",
      "File \u001b[1;32m~\\anaconda3\\lib\\site-packages\\seaborn\\_decorators.py:46\u001b[0m, in \u001b[0;36m_deprecate_positional_args.<locals>.inner_f\u001b[1;34m(*args, **kwargs)\u001b[0m\n\u001b[0;32m     36\u001b[0m     warnings\u001b[38;5;241m.\u001b[39mwarn(\n\u001b[0;32m     37\u001b[0m         \u001b[38;5;124m\"\u001b[39m\u001b[38;5;124mPass the following variable\u001b[39m\u001b[38;5;132;01m{}\u001b[39;00m\u001b[38;5;124m as \u001b[39m\u001b[38;5;132;01m{}\u001b[39;00m\u001b[38;5;124mkeyword arg\u001b[39m\u001b[38;5;132;01m{}\u001b[39;00m\u001b[38;5;124m: \u001b[39m\u001b[38;5;132;01m{}\u001b[39;00m\u001b[38;5;124m. \u001b[39m\u001b[38;5;124m\"\u001b[39m\n\u001b[0;32m     38\u001b[0m         \u001b[38;5;124m\"\u001b[39m\u001b[38;5;124mFrom version 0.12, the only valid positional argument \u001b[39m\u001b[38;5;124m\"\u001b[39m\n\u001b[1;32m   (...)\u001b[0m\n\u001b[0;32m     43\u001b[0m         \u001b[38;5;167;01mFutureWarning\u001b[39;00m\n\u001b[0;32m     44\u001b[0m     )\n\u001b[0;32m     45\u001b[0m kwargs\u001b[38;5;241m.\u001b[39mupdate({k: arg \u001b[38;5;28;01mfor\u001b[39;00m k, arg \u001b[38;5;129;01min\u001b[39;00m \u001b[38;5;28mzip\u001b[39m(sig\u001b[38;5;241m.\u001b[39mparameters, args)})\n\u001b[1;32m---> 46\u001b[0m \u001b[38;5;28;01mreturn\u001b[39;00m f(\u001b[38;5;241m*\u001b[39m\u001b[38;5;241m*\u001b[39mkwargs)\n",
      "File \u001b[1;32m~\\anaconda3\\lib\\site-packages\\seaborn\\relational.py:710\u001b[0m, in \u001b[0;36mlineplot\u001b[1;34m(x, y, hue, size, style, data, palette, hue_order, hue_norm, sizes, size_order, size_norm, dashes, markers, style_order, units, estimator, ci, n_boot, seed, sort, err_style, err_kws, legend, ax, **kwargs)\u001b[0m\n\u001b[0;32m    706\u001b[0m     \u001b[38;5;28;01mreturn\u001b[39;00m ax\n\u001b[0;32m    708\u001b[0m p\u001b[38;5;241m.\u001b[39m_attach(ax)\n\u001b[1;32m--> 710\u001b[0m \u001b[43mp\u001b[49m\u001b[38;5;241;43m.\u001b[39;49m\u001b[43mplot\u001b[49m\u001b[43m(\u001b[49m\u001b[43max\u001b[49m\u001b[43m,\u001b[49m\u001b[43m \u001b[49m\u001b[43mkwargs\u001b[49m\u001b[43m)\u001b[49m\n\u001b[0;32m    711\u001b[0m \u001b[38;5;28;01mreturn\u001b[39;00m ax\n",
      "File \u001b[1;32m~\\anaconda3\\lib\\site-packages\\seaborn\\relational.py:499\u001b[0m, in \u001b[0;36m_LinePlotter.plot\u001b[1;34m(self, ax, kws)\u001b[0m\n\u001b[0;32m    497\u001b[0m         err \u001b[38;5;241m=\u001b[39m \u001b[38;5;124m\"\u001b[39m\u001b[38;5;124mestimator must be None when specifying units\u001b[39m\u001b[38;5;124m\"\u001b[39m\n\u001b[0;32m    498\u001b[0m         \u001b[38;5;28;01mraise\u001b[39;00m \u001b[38;5;167;01mValueError\u001b[39;00m(err)\n\u001b[1;32m--> 499\u001b[0m     x, y, y_ci \u001b[38;5;241m=\u001b[39m \u001b[38;5;28;43mself\u001b[39;49m\u001b[38;5;241;43m.\u001b[39;49m\u001b[43maggregate\u001b[49m\u001b[43m(\u001b[49m\u001b[43my\u001b[49m\u001b[43m,\u001b[49m\u001b[43m \u001b[49m\u001b[43mx\u001b[49m\u001b[43m,\u001b[49m\u001b[43m \u001b[49m\u001b[43mu\u001b[49m\u001b[43m)\u001b[49m\n\u001b[0;32m    500\u001b[0m \u001b[38;5;28;01melse\u001b[39;00m:\n\u001b[0;32m    501\u001b[0m     y_ci \u001b[38;5;241m=\u001b[39m \u001b[38;5;28;01mNone\u001b[39;00m\n",
      "File \u001b[1;32m~\\anaconda3\\lib\\site-packages\\seaborn\\relational.py:414\u001b[0m, in \u001b[0;36m_LinePlotter.aggregate\u001b[1;34m(self, vals, grouper, units)\u001b[0m\n\u001b[0;32m    410\u001b[0m     cis \u001b[38;5;241m=\u001b[39m pd\u001b[38;5;241m.\u001b[39mDataFrame(np\u001b[38;5;241m.\u001b[39mc_[est \u001b[38;5;241m-\u001b[39m sd, est \u001b[38;5;241m+\u001b[39m sd],\n\u001b[0;32m    411\u001b[0m                        index\u001b[38;5;241m=\u001b[39mest\u001b[38;5;241m.\u001b[39mindex,\n\u001b[0;32m    412\u001b[0m                        columns\u001b[38;5;241m=\u001b[39m[\u001b[38;5;124m\"\u001b[39m\u001b[38;5;124mlow\u001b[39m\u001b[38;5;124m\"\u001b[39m, \u001b[38;5;124m\"\u001b[39m\u001b[38;5;124mhigh\u001b[39m\u001b[38;5;124m\"\u001b[39m])\u001b[38;5;241m.\u001b[39mstack()\n\u001b[0;32m    413\u001b[0m \u001b[38;5;28;01melse\u001b[39;00m:\n\u001b[1;32m--> 414\u001b[0m     cis \u001b[38;5;241m=\u001b[39m \u001b[43mgrouped\u001b[49m\u001b[38;5;241;43m.\u001b[39;49m\u001b[43mapply\u001b[49m\u001b[43m(\u001b[49m\u001b[43mbootstrapped_cis\u001b[49m\u001b[43m)\u001b[49m\n\u001b[0;32m    416\u001b[0m \u001b[38;5;66;03m# Unpack the CIs into \"wide\" format for plotting\u001b[39;00m\n\u001b[0;32m    417\u001b[0m \u001b[38;5;28;01mif\u001b[39;00m cis\u001b[38;5;241m.\u001b[39mnotnull()\u001b[38;5;241m.\u001b[39many():\n",
      "File \u001b[1;32m~\\anaconda3\\lib\\site-packages\\pandas\\core\\groupby\\generic.py:244\u001b[0m, in \u001b[0;36mSeriesGroupBy.apply\u001b[1;34m(self, func, *args, **kwargs)\u001b[0m\n\u001b[0;32m    238\u001b[0m \u001b[38;5;129m@Appender\u001b[39m(\n\u001b[0;32m    239\u001b[0m     _apply_docs[\u001b[38;5;124m\"\u001b[39m\u001b[38;5;124mtemplate\u001b[39m\u001b[38;5;124m\"\u001b[39m]\u001b[38;5;241m.\u001b[39mformat(\n\u001b[0;32m    240\u001b[0m         \u001b[38;5;28minput\u001b[39m\u001b[38;5;241m=\u001b[39m\u001b[38;5;124m\"\u001b[39m\u001b[38;5;124mseries\u001b[39m\u001b[38;5;124m\"\u001b[39m, examples\u001b[38;5;241m=\u001b[39m_apply_docs[\u001b[38;5;124m\"\u001b[39m\u001b[38;5;124mseries_examples\u001b[39m\u001b[38;5;124m\"\u001b[39m]\n\u001b[0;32m    241\u001b[0m     )\n\u001b[0;32m    242\u001b[0m )\n\u001b[0;32m    243\u001b[0m \u001b[38;5;28;01mdef\u001b[39;00m \u001b[38;5;21mapply\u001b[39m(\u001b[38;5;28mself\u001b[39m, func, \u001b[38;5;241m*\u001b[39margs, \u001b[38;5;241m*\u001b[39m\u001b[38;5;241m*\u001b[39mkwargs):\n\u001b[1;32m--> 244\u001b[0m     \u001b[38;5;28;01mreturn\u001b[39;00m \u001b[38;5;28msuper\u001b[39m()\u001b[38;5;241m.\u001b[39mapply(func, \u001b[38;5;241m*\u001b[39margs, \u001b[38;5;241m*\u001b[39m\u001b[38;5;241m*\u001b[39mkwargs)\n",
      "File \u001b[1;32m~\\anaconda3\\lib\\site-packages\\pandas\\core\\groupby\\groupby.py:1414\u001b[0m, in \u001b[0;36mGroupBy.apply\u001b[1;34m(self, func, *args, **kwargs)\u001b[0m\n\u001b[0;32m   1412\u001b[0m \u001b[38;5;28;01mwith\u001b[39;00m option_context(\u001b[38;5;124m\"\u001b[39m\u001b[38;5;124mmode.chained_assignment\u001b[39m\u001b[38;5;124m\"\u001b[39m, \u001b[38;5;28;01mNone\u001b[39;00m):\n\u001b[0;32m   1413\u001b[0m     \u001b[38;5;28;01mtry\u001b[39;00m:\n\u001b[1;32m-> 1414\u001b[0m         result \u001b[38;5;241m=\u001b[39m \u001b[38;5;28;43mself\u001b[39;49m\u001b[38;5;241;43m.\u001b[39;49m\u001b[43m_python_apply_general\u001b[49m\u001b[43m(\u001b[49m\u001b[43mf\u001b[49m\u001b[43m,\u001b[49m\u001b[43m \u001b[49m\u001b[38;5;28;43mself\u001b[39;49m\u001b[38;5;241;43m.\u001b[39;49m\u001b[43m_selected_obj\u001b[49m\u001b[43m)\u001b[49m\n\u001b[0;32m   1415\u001b[0m     \u001b[38;5;28;01mexcept\u001b[39;00m \u001b[38;5;167;01mTypeError\u001b[39;00m:\n\u001b[0;32m   1416\u001b[0m         \u001b[38;5;66;03m# gh-20949\u001b[39;00m\n\u001b[0;32m   1417\u001b[0m         \u001b[38;5;66;03m# try again, with .apply acting as a filtering\u001b[39;00m\n\u001b[1;32m   (...)\u001b[0m\n\u001b[0;32m   1421\u001b[0m         \u001b[38;5;66;03m# fails on *some* columns, e.g. a numeric operation\u001b[39;00m\n\u001b[0;32m   1422\u001b[0m         \u001b[38;5;66;03m# on a string grouper column\u001b[39;00m\n\u001b[0;32m   1424\u001b[0m         \u001b[38;5;28;01mwith\u001b[39;00m \u001b[38;5;28mself\u001b[39m\u001b[38;5;241m.\u001b[39m_group_selection_context():\n",
      "File \u001b[1;32m~\\anaconda3\\lib\\site-packages\\pandas\\core\\groupby\\groupby.py:1455\u001b[0m, in \u001b[0;36mGroupBy._python_apply_general\u001b[1;34m(self, f, data, not_indexed_same)\u001b[0m\n\u001b[0;32m   1429\u001b[0m \u001b[38;5;129m@final\u001b[39m\n\u001b[0;32m   1430\u001b[0m \u001b[38;5;28;01mdef\u001b[39;00m \u001b[38;5;21m_python_apply_general\u001b[39m(\n\u001b[0;32m   1431\u001b[0m     \u001b[38;5;28mself\u001b[39m,\n\u001b[1;32m   (...)\u001b[0m\n\u001b[0;32m   1434\u001b[0m     not_indexed_same: \u001b[38;5;28mbool\u001b[39m \u001b[38;5;241m|\u001b[39m \u001b[38;5;28;01mNone\u001b[39;00m \u001b[38;5;241m=\u001b[39m \u001b[38;5;28;01mNone\u001b[39;00m,\n\u001b[0;32m   1435\u001b[0m ) \u001b[38;5;241m-\u001b[39m\u001b[38;5;241m>\u001b[39m DataFrame \u001b[38;5;241m|\u001b[39m Series:\n\u001b[0;32m   1436\u001b[0m     \u001b[38;5;124;03m\"\"\"\u001b[39;00m\n\u001b[0;32m   1437\u001b[0m \u001b[38;5;124;03m    Apply function f in python space\u001b[39;00m\n\u001b[0;32m   1438\u001b[0m \n\u001b[1;32m   (...)\u001b[0m\n\u001b[0;32m   1453\u001b[0m \u001b[38;5;124;03m        data after applying f\u001b[39;00m\n\u001b[0;32m   1454\u001b[0m \u001b[38;5;124;03m    \"\"\"\u001b[39;00m\n\u001b[1;32m-> 1455\u001b[0m     values, mutated \u001b[38;5;241m=\u001b[39m \u001b[38;5;28;43mself\u001b[39;49m\u001b[38;5;241;43m.\u001b[39;49m\u001b[43mgrouper\u001b[49m\u001b[38;5;241;43m.\u001b[39;49m\u001b[43mapply\u001b[49m\u001b[43m(\u001b[49m\u001b[43mf\u001b[49m\u001b[43m,\u001b[49m\u001b[43m \u001b[49m\u001b[43mdata\u001b[49m\u001b[43m,\u001b[49m\u001b[43m \u001b[49m\u001b[38;5;28;43mself\u001b[39;49m\u001b[38;5;241;43m.\u001b[39;49m\u001b[43maxis\u001b[49m\u001b[43m)\u001b[49m\n\u001b[0;32m   1457\u001b[0m     \u001b[38;5;28;01mif\u001b[39;00m not_indexed_same \u001b[38;5;129;01mis\u001b[39;00m \u001b[38;5;28;01mNone\u001b[39;00m:\n\u001b[0;32m   1458\u001b[0m         not_indexed_same \u001b[38;5;241m=\u001b[39m mutated \u001b[38;5;129;01mor\u001b[39;00m \u001b[38;5;28mself\u001b[39m\u001b[38;5;241m.\u001b[39mmutated\n",
      "File \u001b[1;32m~\\anaconda3\\lib\\site-packages\\pandas\\core\\groupby\\ops.py:761\u001b[0m, in \u001b[0;36mBaseGrouper.apply\u001b[1;34m(self, f, data, axis)\u001b[0m\n\u001b[0;32m    759\u001b[0m \u001b[38;5;66;03m# group might be modified\u001b[39;00m\n\u001b[0;32m    760\u001b[0m group_axes \u001b[38;5;241m=\u001b[39m group\u001b[38;5;241m.\u001b[39maxes\n\u001b[1;32m--> 761\u001b[0m res \u001b[38;5;241m=\u001b[39m \u001b[43mf\u001b[49m\u001b[43m(\u001b[49m\u001b[43mgroup\u001b[49m\u001b[43m)\u001b[49m\n\u001b[0;32m    762\u001b[0m \u001b[38;5;28;01mif\u001b[39;00m \u001b[38;5;129;01mnot\u001b[39;00m mutated \u001b[38;5;129;01mand\u001b[39;00m \u001b[38;5;129;01mnot\u001b[39;00m _is_indexed_like(res, group_axes, axis):\n\u001b[0;32m    763\u001b[0m     mutated \u001b[38;5;241m=\u001b[39m \u001b[38;5;28;01mTrue\u001b[39;00m\n",
      "File \u001b[1;32m~\\anaconda3\\lib\\site-packages\\seaborn\\relational.py:395\u001b[0m, in \u001b[0;36m_LinePlotter.aggregate.<locals>.bootstrapped_cis\u001b[1;34m(vals)\u001b[0m\n\u001b[0;32m    392\u001b[0m \u001b[38;5;28;01mif\u001b[39;00m \u001b[38;5;28mlen\u001b[39m(vals) \u001b[38;5;241m<\u001b[39m\u001b[38;5;241m=\u001b[39m \u001b[38;5;241m1\u001b[39m:\n\u001b[0;32m    393\u001b[0m     \u001b[38;5;28;01mreturn\u001b[39;00m null_ci\n\u001b[1;32m--> 395\u001b[0m boots \u001b[38;5;241m=\u001b[39m \u001b[43mbootstrap\u001b[49m\u001b[43m(\u001b[49m\u001b[43mvals\u001b[49m\u001b[43m,\u001b[49m\u001b[43m \u001b[49m\u001b[43mfunc\u001b[49m\u001b[38;5;241;43m=\u001b[39;49m\u001b[43mfunc\u001b[49m\u001b[43m,\u001b[49m\u001b[43m \u001b[49m\u001b[43mn_boot\u001b[49m\u001b[38;5;241;43m=\u001b[39;49m\u001b[43mn_boot\u001b[49m\u001b[43m,\u001b[49m\u001b[43m \u001b[49m\u001b[43mseed\u001b[49m\u001b[38;5;241;43m=\u001b[39;49m\u001b[43mseed\u001b[49m\u001b[43m)\u001b[49m\n\u001b[0;32m    396\u001b[0m cis \u001b[38;5;241m=\u001b[39m ci_func(boots, ci)\n\u001b[0;32m    397\u001b[0m \u001b[38;5;28;01mreturn\u001b[39;00m pd\u001b[38;5;241m.\u001b[39mSeries(cis, [\u001b[38;5;124m\"\u001b[39m\u001b[38;5;124mlow\u001b[39m\u001b[38;5;124m\"\u001b[39m, \u001b[38;5;124m\"\u001b[39m\u001b[38;5;124mhigh\u001b[39m\u001b[38;5;124m\"\u001b[39m])\n",
      "File \u001b[1;32m~\\anaconda3\\lib\\site-packages\\seaborn\\algorithms.py:84\u001b[0m, in \u001b[0;36mbootstrap\u001b[1;34m(*args, **kwargs)\u001b[0m\n\u001b[0;32m     82\u001b[0m \u001b[38;5;28;01mfor\u001b[39;00m i \u001b[38;5;129;01min\u001b[39;00m \u001b[38;5;28mrange\u001b[39m(\u001b[38;5;28mint\u001b[39m(n_boot)):\n\u001b[0;32m     83\u001b[0m     resampler \u001b[38;5;241m=\u001b[39m integers(\u001b[38;5;241m0\u001b[39m, n, n, dtype\u001b[38;5;241m=\u001b[39mnp\u001b[38;5;241m.\u001b[39mintp)  \u001b[38;5;66;03m# intp is indexing dtype\u001b[39;00m\n\u001b[1;32m---> 84\u001b[0m     sample \u001b[38;5;241m=\u001b[39m [a\u001b[38;5;241m.\u001b[39mtake(resampler, axis\u001b[38;5;241m=\u001b[39m\u001b[38;5;241m0\u001b[39m) \u001b[38;5;28;01mfor\u001b[39;00m a \u001b[38;5;129;01min\u001b[39;00m args]\n\u001b[0;32m     85\u001b[0m     boot_dist\u001b[38;5;241m.\u001b[39mappend(f(\u001b[38;5;241m*\u001b[39msample, \u001b[38;5;241m*\u001b[39m\u001b[38;5;241m*\u001b[39mfunc_kwargs))\n\u001b[0;32m     86\u001b[0m \u001b[38;5;28;01mreturn\u001b[39;00m np\u001b[38;5;241m.\u001b[39marray(boot_dist)\n",
      "File \u001b[1;32m~\\anaconda3\\lib\\site-packages\\seaborn\\algorithms.py:84\u001b[0m, in \u001b[0;36m<listcomp>\u001b[1;34m(.0)\u001b[0m\n\u001b[0;32m     82\u001b[0m \u001b[38;5;28;01mfor\u001b[39;00m i \u001b[38;5;129;01min\u001b[39;00m \u001b[38;5;28mrange\u001b[39m(\u001b[38;5;28mint\u001b[39m(n_boot)):\n\u001b[0;32m     83\u001b[0m     resampler \u001b[38;5;241m=\u001b[39m integers(\u001b[38;5;241m0\u001b[39m, n, n, dtype\u001b[38;5;241m=\u001b[39mnp\u001b[38;5;241m.\u001b[39mintp)  \u001b[38;5;66;03m# intp is indexing dtype\u001b[39;00m\n\u001b[1;32m---> 84\u001b[0m     sample \u001b[38;5;241m=\u001b[39m [\u001b[43ma\u001b[49m\u001b[38;5;241;43m.\u001b[39;49m\u001b[43mtake\u001b[49m\u001b[43m(\u001b[49m\u001b[43mresampler\u001b[49m\u001b[43m,\u001b[49m\u001b[43m \u001b[49m\u001b[43maxis\u001b[49m\u001b[38;5;241;43m=\u001b[39;49m\u001b[38;5;241;43m0\u001b[39;49m\u001b[43m)\u001b[49m \u001b[38;5;28;01mfor\u001b[39;00m a \u001b[38;5;129;01min\u001b[39;00m args]\n\u001b[0;32m     85\u001b[0m     boot_dist\u001b[38;5;241m.\u001b[39mappend(f(\u001b[38;5;241m*\u001b[39msample, \u001b[38;5;241m*\u001b[39m\u001b[38;5;241m*\u001b[39mfunc_kwargs))\n\u001b[0;32m     86\u001b[0m \u001b[38;5;28;01mreturn\u001b[39;00m np\u001b[38;5;241m.\u001b[39marray(boot_dist)\n",
      "\u001b[1;31mKeyboardInterrupt\u001b[0m: "
     ]
    },
    {
     "data": {
      "image/png": "[encoded data removed]",
      "text/plain": [
       "<Figure size 432x288 with 1 Axes>"
      ]
     },
     "metadata": {
      "needs_background": "light"
     },
     "output_type": "display_data"
    }
   ],
   "source": [
    "# sns.lineplot(data=trip, x='rte_abbr', y='mean')\n",
    "# plt.title(\"avg headway times\")\n",
    "# plt.xlabel('routes')\n",
    "# plt.ylabel('avg mean tmes');"
   ]
  },
  {
   "cell_type": "code",
   "execution_count": null,
   "id": "baf5fcca",
   "metadata": {},
   "outputs": [],
   "source": [
    "# sns.barplot(data=wego_trips, x='operator', y='act_hdwy')"
   ]
  }
 ],
 "metadata": {
  "kernelspec": {
   "display_name": "Python 3 (ipykernel)",
   "language": "python",
   "name": "python3"
  },
  "language_info": {
   "codemirror_mode": {
    "name": "ipython",
    "version": 3
   },
   "file_extension": ".py",
   "mimetype": "text/x-python",
   "name": "python",
   "nbconvert_exporter": "python",
   "pygments_lexer": "ipython3",
   "version": "3.9.12"
  }
 },
 "nbformat": 4,
 "nbformat_minor": 5
}
