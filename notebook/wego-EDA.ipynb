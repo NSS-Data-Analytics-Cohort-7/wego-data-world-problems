{
 "cells": [
  {
   "cell_type": "code",
   "execution_count": 1,
   "id": "92de46fb",
   "metadata": {},
   "outputs": [],
   "source": [
    "import pandas as pd\n",
    "import matplotlib.pyplot as plt\n",
    "import seaborn as sns\n",
    "\n",
    "pd.set_option('display.max_columns', None)"
   ]
  },
  {
   "cell_type": "code",
   "execution_count": 2,
   "id": "f5bf4494",
   "metadata": {},
   "outputs": [],
   "source": [
    "headway = pd.read_csv('../data/Headway Data.csv')"
   ]
  },
  {
   "cell_type": "code",
   "execution_count": 3,
   "id": "aa3873d9",
   "metadata": {},
   "outputs": [],
   "source": [
    "weather_all = pd.read_csv('../data/bna_weather.csv')"
   ]
  },
  {
   "cell_type": "markdown",
   "id": "e3a7b440",
   "metadata": {},
   "source": [
    "### info for all csv files"
   ]
  },
  {
   "cell_type": "code",
   "execution_count": 4,
   "id": "4aed5168",
   "metadata": {
    "scrolled": true
   },
   "outputs": [
    {
     "name": "stdout",
     "output_type": "stream",
     "text": [
      "<class 'pandas.core.frame.DataFrame'>\n",
      "RangeIndex: 1981715 entries, 0 to 1981714\n",
      "Data columns (total 30 columns):\n",
      " #   Column                     Dtype  \n",
      "---  ------                     -----  \n",
      " 0   CALENDAR_ID                int64  \n",
      " 1   SERVICE_ABBR               int64  \n",
      " 2   ADHERENCE_ID               int64  \n",
      " 3   DATE                       object \n",
      " 4   ROUTE_ABBR                 int64  \n",
      " 5   BLOCK_ABBR                 int64  \n",
      " 6   OPERATOR                   int64  \n",
      " 7   TRIP_ID                    int64  \n",
      " 8   OVERLOAD_ID                int64  \n",
      " 9   ROUTE_DIRECTION_NAME       object \n",
      " 10  TIME_POINT_ABBR            object \n",
      " 11  ROUTE_STOP_SEQUENCE        float64\n",
      " 12  TRIP_EDGE                  int64  \n",
      " 13  LATITUDE                   float64\n",
      " 14  LONGITUDE                  float64\n",
      " 15  SCHEDULED_TIME             object \n",
      " 16  ACTUAL_ARRIVAL_TIME        object \n",
      " 17  ACTUAL_DEPARTURE_TIME      object \n",
      " 18  ADHERENCE                  float64\n",
      " 19  SCHEDULED_HDWY             float64\n",
      " 20  ACTUAL_HDWY                float64\n",
      " 21  HDWY_DEV                   float64\n",
      " 22  ADJUSTED_EARLY_COUNT       int64  \n",
      " 23  ADJUSTED_LATE_COUNT        int64  \n",
      " 24  ADJUSTED_ONTIME_COUNT      int64  \n",
      " 25  STOP_CANCELLED             int64  \n",
      " 26  PREV_SCHED_STOP_CANCELLED  float64\n",
      " 27  IS_RELIEF                  int64  \n",
      " 28  BLOCK_STOP_ORDER           int64  \n",
      " 29  DWELL_IN_MINS              float64\n",
      "dtypes: float64(9), int64(15), object(6)\n",
      "memory usage: 453.6+ MB\n"
     ]
    }
   ],
   "source": [
    "headway.info()"
   ]
  },
  {
   "cell_type": "code",
   "execution_count": 5,
   "id": "1ff68aef",
   "metadata": {},
   "outputs": [
    {
     "data": {
      "text/html": [
       "<div>\n",
       "<style scoped>\n",
       "    .dataframe tbody tr th:only-of-type {\n",
       "        vertical-align: middle;\n",
       "    }\n",
       "\n",
       "    .dataframe tbody tr th {\n",
       "        vertical-align: top;\n",
       "    }\n",
       "\n",
       "    .dataframe thead th {\n",
       "        text-align: right;\n",
       "    }\n",
       "</style>\n",
       "<table border=\"1\" class=\"dataframe\">\n",
       "  <thead>\n",
       "    <tr style=\"text-align: right;\">\n",
       "      <th></th>\n",
       "      <th>CALENDAR_ID</th>\n",
       "      <th>SERVICE_ABBR</th>\n",
       "      <th>ADHERENCE_ID</th>\n",
       "      <th>DATE</th>\n",
       "      <th>ROUTE_ABBR</th>\n",
       "      <th>BLOCK_ABBR</th>\n",
       "      <th>OPERATOR</th>\n",
       "      <th>TRIP_ID</th>\n",
       "      <th>OVERLOAD_ID</th>\n",
       "      <th>ROUTE_DIRECTION_NAME</th>\n",
       "      <th>TIME_POINT_ABBR</th>\n",
       "      <th>ROUTE_STOP_SEQUENCE</th>\n",
       "      <th>TRIP_EDGE</th>\n",
       "      <th>LATITUDE</th>\n",
       "      <th>LONGITUDE</th>\n",
       "      <th>SCHEDULED_TIME</th>\n",
       "      <th>ACTUAL_ARRIVAL_TIME</th>\n",
       "      <th>ACTUAL_DEPARTURE_TIME</th>\n",
       "      <th>ADHERENCE</th>\n",
       "      <th>SCHEDULED_HDWY</th>\n",
       "      <th>ACTUAL_HDWY</th>\n",
       "      <th>HDWY_DEV</th>\n",
       "      <th>ADJUSTED_EARLY_COUNT</th>\n",
       "      <th>ADJUSTED_LATE_COUNT</th>\n",
       "      <th>ADJUSTED_ONTIME_COUNT</th>\n",
       "      <th>STOP_CANCELLED</th>\n",
       "      <th>PREV_SCHED_STOP_CANCELLED</th>\n",
       "      <th>IS_RELIEF</th>\n",
       "      <th>BLOCK_STOP_ORDER</th>\n",
       "      <th>DWELL_IN_MINS</th>\n",
       "    </tr>\n",
       "  </thead>\n",
       "  <tbody>\n",
       "    <tr>\n",
       "      <th>0</th>\n",
       "      <td>120211101</td>\n",
       "      <td>1</td>\n",
       "      <td>76447164</td>\n",
       "      <td>2021-11-01</td>\n",
       "      <td>7</td>\n",
       "      <td>1704</td>\n",
       "      <td>2088</td>\n",
       "      <td>297750</td>\n",
       "      <td>0</td>\n",
       "      <td>TO DOWNTOWN</td>\n",
       "      <td>HBHS</td>\n",
       "      <td>4.0</td>\n",
       "      <td>1</td>\n",
       "      <td>36.107575</td>\n",
       "      <td>-86.812719</td>\n",
       "      <td>14:10:00</td>\n",
       "      <td>13:59:21</td>\n",
       "      <td>14:12:00</td>\n",
       "      <td>-2.000000</td>\n",
       "      <td>14.0</td>\n",
       "      <td>15.983333</td>\n",
       "      <td>1.983333</td>\n",
       "      <td>0</td>\n",
       "      <td>0</td>\n",
       "      <td>1</td>\n",
       "      <td>0</td>\n",
       "      <td>0.0</td>\n",
       "      <td>0</td>\n",
       "      <td>2</td>\n",
       "      <td>12.650000</td>\n",
       "    </tr>\n",
       "    <tr>\n",
       "      <th>1</th>\n",
       "      <td>120211101</td>\n",
       "      <td>1</td>\n",
       "      <td>76447165</td>\n",
       "      <td>2021-11-01</td>\n",
       "      <td>7</td>\n",
       "      <td>1704</td>\n",
       "      <td>2088</td>\n",
       "      <td>297750</td>\n",
       "      <td>0</td>\n",
       "      <td>TO DOWNTOWN</td>\n",
       "      <td>21BK</td>\n",
       "      <td>3.0</td>\n",
       "      <td>0</td>\n",
       "      <td>36.138372</td>\n",
       "      <td>-86.800622</td>\n",
       "      <td>14:20:00</td>\n",
       "      <td>14:23:21</td>\n",
       "      <td>14:23:21</td>\n",
       "      <td>-3.350000</td>\n",
       "      <td>14.0</td>\n",
       "      <td>17.333333</td>\n",
       "      <td>3.333333</td>\n",
       "      <td>0</td>\n",
       "      <td>0</td>\n",
       "      <td>1</td>\n",
       "      <td>0</td>\n",
       "      <td>0.0</td>\n",
       "      <td>0</td>\n",
       "      <td>11</td>\n",
       "      <td>0.000000</td>\n",
       "    </tr>\n",
       "    <tr>\n",
       "      <th>2</th>\n",
       "      <td>120211101</td>\n",
       "      <td>1</td>\n",
       "      <td>76447166</td>\n",
       "      <td>2021-11-01</td>\n",
       "      <td>7</td>\n",
       "      <td>1704</td>\n",
       "      <td>2088</td>\n",
       "      <td>297750</td>\n",
       "      <td>0</td>\n",
       "      <td>TO DOWNTOWN</td>\n",
       "      <td>MCC5_9</td>\n",
       "      <td>2.0</td>\n",
       "      <td>2</td>\n",
       "      <td>36.167091</td>\n",
       "      <td>-86.781923</td>\n",
       "      <td>14:39:00</td>\n",
       "      <td>14:36:46</td>\n",
       "      <td>14:59:11</td>\n",
       "      <td>-20.183333</td>\n",
       "      <td>NaN</td>\n",
       "      <td>NaN</td>\n",
       "      <td>NaN</td>\n",
       "      <td>0</td>\n",
       "      <td>1</td>\n",
       "      <td>0</td>\n",
       "      <td>0</td>\n",
       "      <td>NaN</td>\n",
       "      <td>0</td>\n",
       "      <td>23</td>\n",
       "      <td>22.416666</td>\n",
       "    </tr>\n",
       "    <tr>\n",
       "      <th>3</th>\n",
       "      <td>120211101</td>\n",
       "      <td>1</td>\n",
       "      <td>76447167</td>\n",
       "      <td>2021-11-01</td>\n",
       "      <td>50</td>\n",
       "      <td>1704</td>\n",
       "      <td>2088</td>\n",
       "      <td>297749</td>\n",
       "      <td>0</td>\n",
       "      <td>TO DOWNTOWN</td>\n",
       "      <td>MLKS</td>\n",
       "      <td>7.0</td>\n",
       "      <td>1</td>\n",
       "      <td>36.161008</td>\n",
       "      <td>-86.800851</td>\n",
       "      <td>15:10:00</td>\n",
       "      <td>15:04:31</td>\n",
       "      <td>15:10:17</td>\n",
       "      <td>-0.283333</td>\n",
       "      <td>NaN</td>\n",
       "      <td>NaN</td>\n",
       "      <td>NaN</td>\n",
       "      <td>0</td>\n",
       "      <td>0</td>\n",
       "      <td>1</td>\n",
       "      <td>0</td>\n",
       "      <td>0.0</td>\n",
       "      <td>0</td>\n",
       "      <td>24</td>\n",
       "      <td>5.766666</td>\n",
       "    </tr>\n",
       "    <tr>\n",
       "      <th>4</th>\n",
       "      <td>120211101</td>\n",
       "      <td>1</td>\n",
       "      <td>76447168</td>\n",
       "      <td>2021-11-01</td>\n",
       "      <td>50</td>\n",
       "      <td>1704</td>\n",
       "      <td>2088</td>\n",
       "      <td>297749</td>\n",
       "      <td>0</td>\n",
       "      <td>TO DOWNTOWN</td>\n",
       "      <td>MCC5_11</td>\n",
       "      <td>5.0</td>\n",
       "      <td>2</td>\n",
       "      <td>36.167091</td>\n",
       "      <td>-86.781923</td>\n",
       "      <td>15:27:00</td>\n",
       "      <td>15:16:59</td>\n",
       "      <td>15:16:59</td>\n",
       "      <td>10.016666</td>\n",
       "      <td>NaN</td>\n",
       "      <td>NaN</td>\n",
       "      <td>NaN</td>\n",
       "      <td>0</td>\n",
       "      <td>0</td>\n",
       "      <td>1</td>\n",
       "      <td>0</td>\n",
       "      <td>NaN</td>\n",
       "      <td>0</td>\n",
       "      <td>25</td>\n",
       "      <td>0.000000</td>\n",
       "    </tr>\n",
       "    <tr>\n",
       "      <th>...</th>\n",
       "      <td>...</td>\n",
       "      <td>...</td>\n",
       "      <td>...</td>\n",
       "      <td>...</td>\n",
       "      <td>...</td>\n",
       "      <td>...</td>\n",
       "      <td>...</td>\n",
       "      <td>...</td>\n",
       "      <td>...</td>\n",
       "      <td>...</td>\n",
       "      <td>...</td>\n",
       "      <td>...</td>\n",
       "      <td>...</td>\n",
       "      <td>...</td>\n",
       "      <td>...</td>\n",
       "      <td>...</td>\n",
       "      <td>...</td>\n",
       "      <td>...</td>\n",
       "      <td>...</td>\n",
       "      <td>...</td>\n",
       "      <td>...</td>\n",
       "      <td>...</td>\n",
       "      <td>...</td>\n",
       "      <td>...</td>\n",
       "      <td>...</td>\n",
       "      <td>...</td>\n",
       "      <td>...</td>\n",
       "      <td>...</td>\n",
       "      <td>...</td>\n",
       "      <td>...</td>\n",
       "    </tr>\n",
       "    <tr>\n",
       "      <th>1981710</th>\n",
       "      <td>120221101</td>\n",
       "      <td>1</td>\n",
       "      <td>91057724</td>\n",
       "      <td>2022-11-01</td>\n",
       "      <td>50</td>\n",
       "      <td>9302</td>\n",
       "      <td>2355</td>\n",
       "      <td>329980</td>\n",
       "      <td>0</td>\n",
       "      <td>TO DOWNTOWN</td>\n",
       "      <td>MCC4_20</td>\n",
       "      <td>3.0</td>\n",
       "      <td>2</td>\n",
       "      <td>36.167091</td>\n",
       "      <td>-86.781923</td>\n",
       "      <td>15:18:00</td>\n",
       "      <td>15:19:43</td>\n",
       "      <td>15:20:44</td>\n",
       "      <td>-2.733333</td>\n",
       "      <td>NaN</td>\n",
       "      <td>NaN</td>\n",
       "      <td>NaN</td>\n",
       "      <td>0</td>\n",
       "      <td>0</td>\n",
       "      <td>1</td>\n",
       "      <td>0</td>\n",
       "      <td>NaN</td>\n",
       "      <td>0</td>\n",
       "      <td>3</td>\n",
       "      <td>1.016666</td>\n",
       "    </tr>\n",
       "    <tr>\n",
       "      <th>1981711</th>\n",
       "      <td>120221101</td>\n",
       "      <td>1</td>\n",
       "      <td>91057851</td>\n",
       "      <td>2022-11-01</td>\n",
       "      <td>50</td>\n",
       "      <td>9950</td>\n",
       "      <td>1880</td>\n",
       "      <td>330003</td>\n",
       "      <td>0</td>\n",
       "      <td>TO DOWNTOWN</td>\n",
       "      <td>MLKS</td>\n",
       "      <td>10.0</td>\n",
       "      <td>1</td>\n",
       "      <td>36.161008</td>\n",
       "      <td>-86.800851</td>\n",
       "      <td>15:20:00</td>\n",
       "      <td>14:57:12</td>\n",
       "      <td>15:07:06</td>\n",
       "      <td>12.900000</td>\n",
       "      <td>10.0</td>\n",
       "      <td>7.633333</td>\n",
       "      <td>-2.366667</td>\n",
       "      <td>1</td>\n",
       "      <td>0</td>\n",
       "      <td>0</td>\n",
       "      <td>0</td>\n",
       "      <td>0.0</td>\n",
       "      <td>0</td>\n",
       "      <td>2</td>\n",
       "      <td>9.900000</td>\n",
       "    </tr>\n",
       "    <tr>\n",
       "      <th>1981712</th>\n",
       "      <td>120221101</td>\n",
       "      <td>1</td>\n",
       "      <td>91057852</td>\n",
       "      <td>2022-11-01</td>\n",
       "      <td>50</td>\n",
       "      <td>9950</td>\n",
       "      <td>1880</td>\n",
       "      <td>330003</td>\n",
       "      <td>0</td>\n",
       "      <td>TO DOWNTOWN</td>\n",
       "      <td>MCC5_11</td>\n",
       "      <td>4.0</td>\n",
       "      <td>2</td>\n",
       "      <td>36.167091</td>\n",
       "      <td>-86.781923</td>\n",
       "      <td>15:37:00</td>\n",
       "      <td>15:10:16</td>\n",
       "      <td>15:10:16</td>\n",
       "      <td>26.733333</td>\n",
       "      <td>NaN</td>\n",
       "      <td>NaN</td>\n",
       "      <td>NaN</td>\n",
       "      <td>1</td>\n",
       "      <td>0</td>\n",
       "      <td>0</td>\n",
       "      <td>0</td>\n",
       "      <td>NaN</td>\n",
       "      <td>0</td>\n",
       "      <td>3</td>\n",
       "      <td>0.000000</td>\n",
       "    </tr>\n",
       "    <tr>\n",
       "      <th>1981713</th>\n",
       "      <td>120221101</td>\n",
       "      <td>1</td>\n",
       "      <td>91057881</td>\n",
       "      <td>2022-11-01</td>\n",
       "      <td>56</td>\n",
       "      <td>9975</td>\n",
       "      <td>1922</td>\n",
       "      <td>330011</td>\n",
       "      <td>0</td>\n",
       "      <td>TO DOWNTOWN</td>\n",
       "      <td>MEIG</td>\n",
       "      <td>7.0</td>\n",
       "      <td>1</td>\n",
       "      <td>36.176017</td>\n",
       "      <td>-86.760399</td>\n",
       "      <td>15:20:00</td>\n",
       "      <td>14:59:40</td>\n",
       "      <td>15:19:02</td>\n",
       "      <td>0.966666</td>\n",
       "      <td>0.0</td>\n",
       "      <td>NaN</td>\n",
       "      <td>NaN</td>\n",
       "      <td>0</td>\n",
       "      <td>0</td>\n",
       "      <td>1</td>\n",
       "      <td>0</td>\n",
       "      <td>0.0</td>\n",
       "      <td>0</td>\n",
       "      <td>2</td>\n",
       "      <td>19.366666</td>\n",
       "    </tr>\n",
       "    <tr>\n",
       "      <th>1981714</th>\n",
       "      <td>120221101</td>\n",
       "      <td>1</td>\n",
       "      <td>91057882</td>\n",
       "      <td>2022-11-01</td>\n",
       "      <td>56</td>\n",
       "      <td>9975</td>\n",
       "      <td>1922</td>\n",
       "      <td>330011</td>\n",
       "      <td>0</td>\n",
       "      <td>TO DOWNTOWN</td>\n",
       "      <td>MCC4_20</td>\n",
       "      <td>2.0</td>\n",
       "      <td>2</td>\n",
       "      <td>36.167091</td>\n",
       "      <td>-86.781923</td>\n",
       "      <td>15:30:00</td>\n",
       "      <td>15:26:05</td>\n",
       "      <td>15:27:46</td>\n",
       "      <td>2.233333</td>\n",
       "      <td>NaN</td>\n",
       "      <td>NaN</td>\n",
       "      <td>NaN</td>\n",
       "      <td>0</td>\n",
       "      <td>0</td>\n",
       "      <td>1</td>\n",
       "      <td>0</td>\n",
       "      <td>NaN</td>\n",
       "      <td>0</td>\n",
       "      <td>3</td>\n",
       "      <td>1.683333</td>\n",
       "    </tr>\n",
       "  </tbody>\n",
       "</table>\n",
       "<p>1981715 rows × 30 columns</p>\n",
       "</div>"
      ],
      "text/plain": [
       "         CALENDAR_ID  SERVICE_ABBR  ADHERENCE_ID        DATE  ROUTE_ABBR  \\\n",
       "0          120211101             1      76447164  2021-11-01           7   \n",
       "1          120211101             1      76447165  2021-11-01           7   \n",
       "2          120211101             1      76447166  2021-11-01           7   \n",
       "3          120211101             1      76447167  2021-11-01          50   \n",
       "4          120211101             1      76447168  2021-11-01          50   \n",
       "...              ...           ...           ...         ...         ...   \n",
       "1981710    120221101             1      91057724  2022-11-01          50   \n",
       "1981711    120221101             1      91057851  2022-11-01          50   \n",
       "1981712    120221101             1      91057852  2022-11-01          50   \n",
       "1981713    120221101             1      91057881  2022-11-01          56   \n",
       "1981714    120221101             1      91057882  2022-11-01          56   \n",
       "\n",
       "         BLOCK_ABBR  OPERATOR  TRIP_ID  OVERLOAD_ID ROUTE_DIRECTION_NAME  \\\n",
       "0              1704      2088   297750            0          TO DOWNTOWN   \n",
       "1              1704      2088   297750            0          TO DOWNTOWN   \n",
       "2              1704      2088   297750            0          TO DOWNTOWN   \n",
       "3              1704      2088   297749            0          TO DOWNTOWN   \n",
       "4              1704      2088   297749            0          TO DOWNTOWN   \n",
       "...             ...       ...      ...          ...                  ...   \n",
       "1981710        9302      2355   329980            0          TO DOWNTOWN   \n",
       "1981711        9950      1880   330003            0          TO DOWNTOWN   \n",
       "1981712        9950      1880   330003            0          TO DOWNTOWN   \n",
       "1981713        9975      1922   330011            0          TO DOWNTOWN   \n",
       "1981714        9975      1922   330011            0          TO DOWNTOWN   \n",
       "\n",
       "        TIME_POINT_ABBR  ROUTE_STOP_SEQUENCE  TRIP_EDGE   LATITUDE  LONGITUDE  \\\n",
       "0                  HBHS                  4.0          1  36.107575 -86.812719   \n",
       "1                  21BK                  3.0          0  36.138372 -86.800622   \n",
       "2                MCC5_9                  2.0          2  36.167091 -86.781923   \n",
       "3                  MLKS                  7.0          1  36.161008 -86.800851   \n",
       "4               MCC5_11                  5.0          2  36.167091 -86.781923   \n",
       "...                 ...                  ...        ...        ...        ...   \n",
       "1981710         MCC4_20                  3.0          2  36.167091 -86.781923   \n",
       "1981711            MLKS                 10.0          1  36.161008 -86.800851   \n",
       "1981712         MCC5_11                  4.0          2  36.167091 -86.781923   \n",
       "1981713            MEIG                  7.0          1  36.176017 -86.760399   \n",
       "1981714         MCC4_20                  2.0          2  36.167091 -86.781923   \n",
       "\n",
       "        SCHEDULED_TIME ACTUAL_ARRIVAL_TIME ACTUAL_DEPARTURE_TIME  ADHERENCE  \\\n",
       "0           14:10:00            13:59:21              14:12:00    -2.000000   \n",
       "1           14:20:00            14:23:21              14:23:21    -3.350000   \n",
       "2           14:39:00            14:36:46              14:59:11   -20.183333   \n",
       "3           15:10:00            15:04:31              15:10:17    -0.283333   \n",
       "4           15:27:00            15:16:59              15:16:59    10.016666   \n",
       "...                ...                 ...                   ...        ...   \n",
       "1981710     15:18:00            15:19:43              15:20:44    -2.733333   \n",
       "1981711     15:20:00            14:57:12              15:07:06    12.900000   \n",
       "1981712     15:37:00            15:10:16              15:10:16    26.733333   \n",
       "1981713     15:20:00            14:59:40              15:19:02     0.966666   \n",
       "1981714     15:30:00            15:26:05              15:27:46     2.233333   \n",
       "\n",
       "         SCHEDULED_HDWY  ACTUAL_HDWY  HDWY_DEV  ADJUSTED_EARLY_COUNT  \\\n",
       "0                  14.0    15.983333  1.983333                     0   \n",
       "1                  14.0    17.333333  3.333333                     0   \n",
       "2                   NaN          NaN       NaN                     0   \n",
       "3                   NaN          NaN       NaN                     0   \n",
       "4                   NaN          NaN       NaN                     0   \n",
       "...                 ...          ...       ...                   ...   \n",
       "1981710             NaN          NaN       NaN                     0   \n",
       "1981711            10.0     7.633333 -2.366667                     1   \n",
       "1981712             NaN          NaN       NaN                     1   \n",
       "1981713             0.0          NaN       NaN                     0   \n",
       "1981714             NaN          NaN       NaN                     0   \n",
       "\n",
       "         ADJUSTED_LATE_COUNT  ADJUSTED_ONTIME_COUNT  STOP_CANCELLED  \\\n",
       "0                          0                      1               0   \n",
       "1                          0                      1               0   \n",
       "2                          1                      0               0   \n",
       "3                          0                      1               0   \n",
       "4                          0                      1               0   \n",
       "...                      ...                    ...             ...   \n",
       "1981710                    0                      1               0   \n",
       "1981711                    0                      0               0   \n",
       "1981712                    0                      0               0   \n",
       "1981713                    0                      1               0   \n",
       "1981714                    0                      1               0   \n",
       "\n",
       "         PREV_SCHED_STOP_CANCELLED  IS_RELIEF  BLOCK_STOP_ORDER  DWELL_IN_MINS  \n",
       "0                              0.0          0                 2      12.650000  \n",
       "1                              0.0          0                11       0.000000  \n",
       "2                              NaN          0                23      22.416666  \n",
       "3                              0.0          0                24       5.766666  \n",
       "4                              NaN          0                25       0.000000  \n",
       "...                            ...        ...               ...            ...  \n",
       "1981710                        NaN          0                 3       1.016666  \n",
       "1981711                        0.0          0                 2       9.900000  \n",
       "1981712                        NaN          0                 3       0.000000  \n",
       "1981713                        0.0          0                 2      19.366666  \n",
       "1981714                        NaN          0                 3       1.683333  \n",
       "\n",
       "[1981715 rows x 30 columns]"
      ]
     },
     "execution_count": 5,
     "metadata": {},
     "output_type": "execute_result"
    }
   ],
   "source": [
    "headway"
   ]
  },
  {
   "cell_type": "code",
   "execution_count": 6,
   "id": "1ed073d6",
   "metadata": {},
   "outputs": [
    {
     "data": {
      "text/html": [
       "<div>\n",
       "<style scoped>\n",
       "    .dataframe tbody tr th:only-of-type {\n",
       "        vertical-align: middle;\n",
       "    }\n",
       "\n",
       "    .dataframe tbody tr th {\n",
       "        vertical-align: top;\n",
       "    }\n",
       "\n",
       "    .dataframe thead th {\n",
       "        text-align: right;\n",
       "    }\n",
       "</style>\n",
       "<table border=\"1\" class=\"dataframe\">\n",
       "  <thead>\n",
       "    <tr style=\"text-align: right;\">\n",
       "      <th></th>\n",
       "      <th>ADHERENCE</th>\n",
       "      <th>ACTUAL_ARRIVAL_TIME</th>\n",
       "    </tr>\n",
       "  </thead>\n",
       "  <tbody>\n",
       "    <tr>\n",
       "      <th>0</th>\n",
       "      <td>-2.000000</td>\n",
       "      <td>13:59:21</td>\n",
       "    </tr>\n",
       "    <tr>\n",
       "      <th>1</th>\n",
       "      <td>-3.350000</td>\n",
       "      <td>14:23:21</td>\n",
       "    </tr>\n",
       "    <tr>\n",
       "      <th>2</th>\n",
       "      <td>-20.183333</td>\n",
       "      <td>14:36:46</td>\n",
       "    </tr>\n",
       "    <tr>\n",
       "      <th>3</th>\n",
       "      <td>-0.283333</td>\n",
       "      <td>15:04:31</td>\n",
       "    </tr>\n",
       "    <tr>\n",
       "      <th>4</th>\n",
       "      <td>10.016666</td>\n",
       "      <td>15:16:59</td>\n",
       "    </tr>\n",
       "    <tr>\n",
       "      <th>...</th>\n",
       "      <td>...</td>\n",
       "      <td>...</td>\n",
       "    </tr>\n",
       "    <tr>\n",
       "      <th>1981710</th>\n",
       "      <td>-2.733333</td>\n",
       "      <td>15:19:43</td>\n",
       "    </tr>\n",
       "    <tr>\n",
       "      <th>1981711</th>\n",
       "      <td>12.900000</td>\n",
       "      <td>14:57:12</td>\n",
       "    </tr>\n",
       "    <tr>\n",
       "      <th>1981712</th>\n",
       "      <td>26.733333</td>\n",
       "      <td>15:10:16</td>\n",
       "    </tr>\n",
       "    <tr>\n",
       "      <th>1981713</th>\n",
       "      <td>0.966666</td>\n",
       "      <td>14:59:40</td>\n",
       "    </tr>\n",
       "    <tr>\n",
       "      <th>1981714</th>\n",
       "      <td>2.233333</td>\n",
       "      <td>15:26:05</td>\n",
       "    </tr>\n",
       "  </tbody>\n",
       "</table>\n",
       "<p>1981715 rows × 2 columns</p>\n",
       "</div>"
      ],
      "text/plain": [
       "         ADHERENCE ACTUAL_ARRIVAL_TIME\n",
       "0        -2.000000          13:59:21  \n",
       "1        -3.350000          14:23:21  \n",
       "2       -20.183333          14:36:46  \n",
       "3        -0.283333          15:04:31  \n",
       "4        10.016666          15:16:59  \n",
       "...            ...                 ...\n",
       "1981710  -2.733333          15:19:43  \n",
       "1981711  12.900000          14:57:12  \n",
       "1981712  26.733333          15:10:16  \n",
       "1981713   0.966666          14:59:40  \n",
       "1981714   2.233333          15:26:05  \n",
       "\n",
       "[1981715 rows x 2 columns]"
      ]
     },
     "execution_count": 6,
     "metadata": {},
     "output_type": "execute_result"
    }
   ],
   "source": [
    "avg_adherence_by_hour = headway[['ADHERENCE', 'ACTUAL_ARRIVAL_TIME']]\n",
    "avg_adherence_by_hour"
   ]
  },
  {
   "cell_type": "code",
   "execution_count": 7,
   "id": "a166bc5b",
   "metadata": {},
   "outputs": [
    {
     "ename": "NameError",
     "evalue": "name 'avg_hdwy' is not defined",
     "output_type": "error",
     "traceback": [
      "\u001b[0;31m---------------------------------------------------------------------------\u001b[0m",
      "\u001b[0;31mNameError\u001b[0m                                 Traceback (most recent call last)",
      "Input \u001b[0;32mIn [7]\u001b[0m, in \u001b[0;36m<cell line: 1>\u001b[0;34m()\u001b[0m\n\u001b[0;32m----> 1\u001b[0m avg_hdwy[\u001b[38;5;124m'\u001b[39m\u001b[38;5;124mADHERENCE\u001b[39m\u001b[38;5;124m'\u001b[39m] \u001b[38;5;241m=\u001b[39m \u001b[43mavg_hdwy\u001b[49m[\u001b[38;5;124m'\u001b[39m\u001b[38;5;124mADHERENCE\u001b[39m\u001b[38;5;124m'\u001b[39m]\u001b[38;5;241m.\u001b[39mabs()\n",
      "\u001b[0;31mNameError\u001b[0m: name 'avg_hdwy' is not defined"
     ]
    }
   ],
   "source": [
    "avg_hdwy['ADHERENCE'] = avg_hdwy['ADHERENCE'].abs()"
   ]
  },
  {
   "cell_type": "code",
   "execution_count": null,
   "id": "7b9d4f5d",
   "metadata": {},
   "outputs": [],
   "source": [
    "avg_hdwy = headway[['ROUTE_ABBR', 'TRIP_EDGE', 'ADHERENCE']]\n",
    "avg_hdwy"
   ]
  },
  {
   "cell_type": "code",
   "execution_count": null,
   "id": "90cbd1a6",
   "metadata": {},
   "outputs": [],
   "source": [
    "#avg_hdwy = avg_hdwy[avg_hdwy.TRIP_EDGE != 0]\n",
    "#avg_hdwy"
   ]
  },
  {
   "cell_type": "code",
   "execution_count": null,
   "id": "37d74e31",
   "metadata": {},
   "outputs": [],
   "source": [
    "avg_hdwy = avg_hdwy.dropna()\n",
    "avg_hdwy"
   ]
  },
  {
   "cell_type": "markdown",
   "id": "132dd35f",
   "metadata": {},
   "source": [
    "### create new column with absolute values for adherence, then do group by. "
   ]
  },
  {
   "cell_type": "code",
   "execution_count": null,
   "id": "85f5a40f",
   "metadata": {},
   "outputs": [],
   "source": [
    "avg_hdwy['ADHERENCE'] = avg_hdwy['ADHERENCE'].abs()"
   ]
  },
  {
   "cell_type": "code",
   "execution_count": null,
   "id": "d4ced0c2",
   "metadata": {},
   "outputs": [],
   "source": [
    "avg_hdwy"
   ]
  },
  {
   "cell_type": "markdown",
   "id": "dcb53134",
   "metadata": {},
   "source": [
    "### now focus on by hour in the day or by month instead of freaking out over all the routes"
   ]
  },
  {
   "cell_type": "code",
   "execution_count": null,
   "id": "62f4c87f",
   "metadata": {},
   "outputs": [],
   "source": [
    "avg_adherence = avg_hdwy.groupby([\"ROUTE_ABBR\", \"TRIP_EDGE\"])[\"ADHERENCE\"].mean()\n",
    "avg_adherence"
   ]
  },
  {
   "cell_type": "markdown",
   "id": "4702f3f5",
   "metadata": {},
   "source": [
    "### Dropped all columns to right of HDWY_DEV "
   ]
  },
  {
   "cell_type": "code",
   "execution_count": null,
   "id": "adfe26e4",
   "metadata": {},
   "outputs": [],
   "source": [
    "#headway_df = headway.drop(headway.iloc[:, 22:30], inplace=True, axis=1)"
   ]
  },
  {
   "cell_type": "code",
   "execution_count": null,
   "id": "824f877c",
   "metadata": {},
   "outputs": [],
   "source": [
    "#headway_df = headway.rename(columns={\"DATE\":\"Date\"})"
   ]
  },
  {
   "cell_type": "code",
   "execution_count": null,
   "id": "4598e6eb",
   "metadata": {},
   "outputs": [],
   "source": [
    "headway.ROUTE_ABBR.unique()"
   ]
  },
  {
   "cell_type": "code",
   "execution_count": null,
   "id": "14c28a24",
   "metadata": {},
   "outputs": [],
   "source": [
    "#weather_all[['Date', 'temp', 'wx_phrase']]"
   ]
  },
  {
   "cell_type": "code",
   "execution_count": null,
   "id": "ea495b63",
   "metadata": {},
   "outputs": [],
   "source": [
    "#wego_trips = headway_df.merge(weather_df, on=['Date'], how='outer')\n",
    "#wego_trips"
   ]
  },
  {
   "cell_type": "code",
   "execution_count": null,
   "id": "256c0738",
   "metadata": {},
   "outputs": [],
   "source": [
    "#print(wego_trips['wx_phrase'].unique())"
   ]
  },
  {
   "cell_type": "code",
   "execution_count": null,
   "id": "cfc1d10c",
   "metadata": {},
   "outputs": [],
   "source": [
    "#avg_headway_weather = wego_trips.groupby('wx_phrase', as_index=False)['HDWY_DEV'].mean()"
   ]
  },
  {
   "cell_type": "code",
   "execution_count": null,
   "id": "b0c65f6b",
   "metadata": {},
   "outputs": [],
   "source": [
    "#avg_headway_weather"
   ]
  },
  {
   "cell_type": "markdown",
   "id": "5fbab7af",
   "metadata": {},
   "source": [
    "### Focusing on 1 and 4 in the read me"
   ]
  },
  {
   "cell_type": "markdown",
   "id": "d6319b51",
   "metadata": {},
   "source": [
    "#### 1. How much impact does being late or too spaced out at the first stop have downstream?"
   ]
  },
  {
   "cell_type": "markdown",
   "id": "13bae4ba",
   "metadata": {},
   "source": [
    "#### 4. What is the relationship between distance or time travelled since the start of a given trip and the headway deviation? Does headway become less stable the further along the route the bus has travelled?"
   ]
  },
  {
   "cell_type": "code",
   "execution_count": null,
   "id": "2a979411",
   "metadata": {},
   "outputs": [],
   "source": [
    "headway_df"
   ]
  },
  {
   "cell_type": "code",
   "execution_count": null,
   "id": "3a290140",
   "metadata": {},
   "outputs": [],
   "source": [
    "hdwy_distance = headway_df[['HDWY_DEV', 'TRIP_EDGE]]\n",
    "hdwy_distance"
   ]
  },
  {
   "cell_type": "code",
   "execution_count": null,
   "id": "a2856913",
   "metadata": {},
   "outputs": [],
   "source": [
    "headway_df['ROUTE_ABBR'].unique()"
   ]
  },
  {
   "cell_type": "code",
   "execution_count": null,
   "id": "cac35617",
   "metadata": {
    "scrolled": true
   },
   "outputs": [],
   "source": [
    "hdwy_distance.head(60)"
   ]
  },
  {
   "cell_type": "code",
   "execution_count": null,
   "id": "e5bd83df",
   "metadata": {},
   "outputs": [],
   "source": [
    "clean_hdwy_distance = hdwy_distance.dropna()"
   ]
  },
  {
   "cell_type": "code",
   "execution_count": null,
   "id": "563d0434",
   "metadata": {},
   "outputs": [],
   "source": [
    "clean_hdwy_distance"
   ]
  },
  {
   "cell_type": "code",
   "execution_count": null,
   "id": "e0934506",
   "metadata": {},
   "outputs": [],
   "source": [
    "clean_hdwy_distance.groupby(['Date'])"
   ]
  },
  {
   "cell_type": "code",
   "execution_count": null,
   "id": "b63c5c68",
   "metadata": {},
   "outputs": [],
   "source": [
    "clean_hdwy_distance"
   ]
  },
  {
   "cell_type": "code",
   "execution_count": null,
   "id": "a0d6ec76",
   "metadata": {},
   "outputs": [],
   "source": [
    "pivot = clean_hdwy_distance.pivot_table(index=['Date', 'TRIP_ID'], \n",
    "                                       values = ['HDWY_DEV'], \n",
    "                                       aggfunc = {'mean', 'median', 'min'})"
   ]
  },
  {
   "cell_type": "code",
   "execution_count": null,
   "id": "e0ee1c87",
   "metadata": {},
   "outputs": [],
   "source": [
    "pivot"
   ]
  },
  {
   "cell_type": "code",
   "execution_count": null,
   "id": "55a2ef6c",
   "metadata": {},
   "outputs": [],
   "source": [
    "clean_hdwy_distance.head(60)"
   ]
  },
  {
   "cell_type": "code",
   "execution_count": null,
   "id": "50574373",
   "metadata": {},
   "outputs": [],
   "source": [
    "import matplotlib.pyplot as plt\n",
    "import seaborn as sns"
   ]
  },
  {
   "cell_type": "code",
   "execution_count": null,
   "id": "fb0981da",
   "metadata": {},
   "outputs": [],
   "source": [
    "test = clean_hdwy_distance.head(50)"
   ]
  },
  {
   "cell_type": "code",
   "execution_count": null,
   "id": "1484f178",
   "metadata": {},
   "outputs": [],
   "source": [
    "pivot = clean_hdwy_distance.pivot_table(index=['Date'], \n",
    "                                       values = ['HDWY_DEV'], \n",
    "                                       aggfunc = {'mean', 'median', 'min'})"
   ]
  },
  {
   "cell_type": "code",
   "execution_count": null,
   "id": "dac2ccec",
   "metadata": {},
   "outputs": [],
   "source": [
    "pivot.info()"
   ]
  },
  {
   "cell_type": "code",
   "execution_count": null,
   "id": "31c8316d",
   "metadata": {},
   "outputs": [],
   "source": [
    "pivot.reset_index(drop = False, inplace = True)"
   ]
  },
  {
   "cell_type": "code",
   "execution_count": null,
   "id": "cf5d9401",
   "metadata": {},
   "outputs": [],
   "source": [
    "pivot.info()"
   ]
  },
  {
   "cell_type": "code",
   "execution_count": null,
   "id": "e5e458e5",
   "metadata": {},
   "outputs": [],
   "source": [
    "sns.color_palette(\"Paired\")"
   ]
  },
  {
   "cell_type": "code",
   "execution_count": null,
   "id": "6d0751ad",
   "metadata": {},
   "outputs": [],
   "source": [
    "import numpy as np"
   ]
  },
  {
   "cell_type": "code",
   "execution_count": null,
   "id": "eda21aa4",
   "metadata": {},
   "outputs": [],
   "source": []
  }
 ],
 "metadata": {
  "kernelspec": {
   "display_name": "Python 3 (ipykernel)",
   "language": "python",
   "name": "python3"
  },
  "language_info": {
   "codemirror_mode": {
    "name": "ipython",
    "version": 3
   },
   "file_extension": ".py",
   "mimetype": "text/x-python",
   "name": "python",
   "nbconvert_exporter": "python",
   "pygments_lexer": "ipython3",
   "version": "3.9.12"
  }
 },
 "nbformat": 4,
 "nbformat_minor": 5
}
