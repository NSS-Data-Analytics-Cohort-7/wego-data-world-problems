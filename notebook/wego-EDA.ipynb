{
 "cells": [
  {
   "cell_type": "code",
   "execution_count": null,
   "id": "92de46fb",
   "metadata": {},
   "outputs": [],
   "source": [
    "import pandas as pd\n",
    "import matplotlib.pyplot as plt\n",
    "import seaborn as sns"
   ]
  },
  {
   "cell_type": "code",
   "execution_count": null,
   "id": "f5bf4494",
   "metadata": {},
   "outputs": [],
   "source": [
    "headway = pd.read_csv('../data/Headway Data.csv')"
   ]
  },
  {
   "cell_type": "code",
   "execution_count": null,
   "id": "aa3873d9",
   "metadata": {},
   "outputs": [],
   "source": [
    "weather_all = pd.read_csv('../data/bna_weather.csv')"
   ]
  },
  {
   "cell_type": "markdown",
   "id": "e3a7b440",
   "metadata": {},
   "source": [
    "### info for all csv files"
   ]
  },
  {
   "cell_type": "code",
   "execution_count": null,
   "id": "4aed5168",
   "metadata": {
    "scrolled": true
   },
   "outputs": [],
   "source": [
    "headway.info()"
   ]
  },
  {
   "cell_type": "code",
   "execution_count": null,
   "id": "9809a518",
   "metadata": {},
   "outputs": [],
   "source": [
    "weather_all.info()"
   ]
  },
  {
   "cell_type": "markdown",
   "id": "baddd076",
   "metadata": {},
   "source": [
    "### n/a counts"
   ]
  },
  {
   "cell_type": "code",
   "execution_count": null,
   "id": "925f9dbe",
   "metadata": {},
   "outputs": [],
   "source": [
    "headway.isna().sum()"
   ]
  },
  {
   "cell_type": "code",
   "execution_count": null,
   "id": "e5eede7c",
   "metadata": {},
   "outputs": [],
   "source": [
    "weather_all.isna().sum()"
   ]
  },
  {
   "cell_type": "markdown",
   "id": "64bf0520",
   "metadata": {},
   "source": [
    "### narrowing weather data down to date and temperature"
   ]
  },
  {
   "cell_type": "code",
   "execution_count": null,
   "id": "82a2fc4e",
   "metadata": {},
   "outputs": [],
   "source": [
    "weather_all[['Date', 'temp']]"
   ]
  },
  {
   "cell_type": "code",
   "execution_count": null,
   "id": "50132226",
   "metadata": {},
   "outputs": [],
   "source": [
    "headway"
   ]
  },
  {
   "cell_type": "code",
   "execution_count": null,
   "id": "5c3db404",
   "metadata": {},
   "outputs": [],
   "source": [
    "headway['HDWY_DEV'].describe()"
   ]
  },
  {
   "cell_type": "code",
   "execution_count": null,
   "id": "f2bb0ef0",
   "metadata": {},
   "outputs": [],
   "source": [
    "plt.figure(figsize = (10,4))\n",
    "\n",
    "sns.boxplot(data = headway,\n",
    "            x = 'HDWY_DEV');"
   ]
  },
  {
   "cell_type": "markdown",
   "id": "4702f3f5",
   "metadata": {},
   "source": [
    "### Dropped all columns to right of HDWY_DEV "
   ]
  },
  {
   "cell_type": "code",
   "execution_count": null,
   "id": "adfe26e4",
   "metadata": {},
   "outputs": [],
   "source": [
    "headway.drop(headway.iloc[:, 22:30], inplace=True, axis=1)"
   ]
  },
  {
   "cell_type": "code",
   "execution_count": null,
   "id": "824f877c",
   "metadata": {},
   "outputs": [],
   "source": [
    "headway"
   ]
  },
  {
   "cell_type": "code",
   "execution_count": null,
   "id": "4598e6eb",
   "metadata": {},
   "outputs": [],
   "source": [
    "headway.ROUTE_ABBR.unique()"
   ]
  },
  {
   "cell_type": "code",
   "execution_count": null,
   "id": "c4f0e6b0",
   "metadata": {},
   "outputs": [],
   "source": [
    "headway.BLOCK_ABBR.unique()"
   ]
  },
  {
   "cell_type": "code",
   "execution_count": null,
   "id": "11ca9ffc",
   "metadata": {},
   "outputs": [],
   "source": []
  }
 ],
 "metadata": {
  "kernelspec": {
   "display_name": "Python 3 (ipykernel)",
   "language": "python",
   "name": "python3"
  },
  "language_info": {
   "codemirror_mode": {
    "name": "ipython",
    "version": 3
   },
   "file_extension": ".py",
   "mimetype": "text/x-python",
   "name": "python",
   "nbconvert_exporter": "python",
   "pygments_lexer": "ipython3",
   "version": "3.9.12"
  }
 },
 "nbformat": 4,
 "nbformat_minor": 5
}
