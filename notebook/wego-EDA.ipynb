{
 "cells": [
  {
   "cell_type": "code",
   "execution_count": null,
   "id": "92de46fb",
   "metadata": {},
   "outputs": [],
   "source": [
    "import pandas as pd\n",
    "import matplotlib.pyplot as plt\n",
    "import seaborn as sns"
   ]
  },
  {
   "cell_type": "code",
   "execution_count": null,
   "id": "f5bf4494",
   "metadata": {},
   "outputs": [],
   "source": [
    "headway = pd.read_csv('../data/Headway Data.csv')"
   ]
  },
  {
   "cell_type": "code",
   "execution_count": null,
   "id": "aa3873d9",
   "metadata": {},
   "outputs": [],
   "source": [
    "weather_all = pd.read_csv('../data/bna_weather.csv')"
   ]
  },
  {
   "cell_type": "markdown",
   "id": "e3a7b440",
   "metadata": {},
   "source": [
    "### info for all csv files"
   ]
  },
  {
   "cell_type": "code",
   "execution_count": null,
   "id": "4aed5168",
   "metadata": {
    "scrolled": true
   },
   "outputs": [],
   "source": [
    "headway.info()"
   ]
  },
  {
   "cell_type": "code",
   "execution_count": null,
   "id": "9809a518",
   "metadata": {},
   "outputs": [],
   "source": [
    "weather_all.info()"
   ]
  },
  {
   "cell_type": "markdown",
   "id": "baddd076",
   "metadata": {},
   "source": [
    "### n/a counts"
   ]
  },
  {
   "cell_type": "code",
   "execution_count": null,
   "id": "925f9dbe",
   "metadata": {},
   "outputs": [],
   "source": [
    "headway.isna().sum()"
   ]
  },
  {
   "cell_type": "code",
   "execution_count": null,
   "id": "e5eede7c",
   "metadata": {},
   "outputs": [],
   "source": [
    "weather_all.isna().sum()"
   ]
  },
  {
   "cell_type": "markdown",
   "id": "64bf0520",
   "metadata": {},
   "source": [
    "### narrowing weather data down to date and temperature"
   ]
  },
  {
   "cell_type": "code",
   "execution_count": null,
   "id": "82a2fc4e",
   "metadata": {},
   "outputs": [],
   "source": [
    "weather_df = weather_all[['Date', 'temp', 'wx_phrase']]\n",
    "weather_df"
   ]
  },
  {
   "cell_type": "code",
   "execution_count": null,
   "id": "5c3db404",
   "metadata": {},
   "outputs": [],
   "source": [
    "headway['HDWY_DEV'].describe()"
   ]
  },
  {
   "cell_type": "markdown",
   "id": "4702f3f5",
   "metadata": {},
   "source": [
    "### Dropped all columns to right of HDWY_DEV "
   ]
  },
  {
   "cell_type": "code",
   "execution_count": null,
   "id": "adfe26e4",
   "metadata": {},
   "outputs": [],
   "source": [
    "headway_df = headway.drop(headway.iloc[:, 22:30], inplace=True, axis=1)"
   ]
  },
  {
   "cell_type": "code",
   "execution_count": null,
   "id": "824f877c",
   "metadata": {},
   "outputs": [],
   "source": [
    "headway_df = headway.rename(columns={\"DATE\":\"Date\"})"
   ]
  },
  {
   "cell_type": "code",
   "execution_count": null,
   "id": "4598e6eb",
   "metadata": {},
   "outputs": [],
   "source": [
    "headway.ROUTE_ABBR.unique()"
   ]
  },
  {
   "cell_type": "code",
   "execution_count": null,
   "id": "11ca9ffc",
   "metadata": {},
   "outputs": [],
   "source": [
    "weather_all['Date'] = weather_all['Date'].str[:10]\n",
    "weather_all"
   ]
  },
  {
   "cell_type": "code",
   "execution_count": null,
   "id": "14c28a24",
   "metadata": {},
   "outputs": [],
   "source": [
    "weather_all[['Date', 'temp', 'wx_phrase']]"
   ]
  },
  {
   "cell_type": "code",
   "execution_count": null,
   "id": "ea495b63",
   "metadata": {},
   "outputs": [],
   "source": [
    "wego_trips = headway_df.merge(weather_df, on=['Date'], how='outer')\n",
    "wego_trips"
   ]
  },
  {
   "cell_type": "code",
   "execution_count": null,
   "id": "256c0738",
   "metadata": {},
   "outputs": [],
   "source": [
    "print(wego_trips['wx_phrase'].unique())"
   ]
  },
  {
   "cell_type": "code",
   "execution_count": null,
   "id": "cfc1d10c",
   "metadata": {},
   "outputs": [],
   "source": [
    "avg_headway_weather = wego_trips.groupby('wx_phrase', as_index=False)['HDWY_DEV'].mean()"
   ]
  },
  {
   "cell_type": "code",
   "execution_count": null,
   "id": "b0c65f6b",
   "metadata": {},
   "outputs": [],
   "source": [
    "avg_headway_weather"
   ]
  },
  {
   "cell_type": "markdown",
   "id": "b89f0b87",
   "metadata": {},
   "source": [
    "### Focusing on 1 and 4 in the read me"
   ]
  },
  {
   "cell_type": "markdown",
   "id": "71fe9a70",
   "metadata": {},
   "source": [
    "#### 1. How much impact does being late or too spaced out at the first stop have downstream?"
   ]
  },
  {
   "cell_type": "markdown",
   "id": "929881f8",
   "metadata": {},
   "source": [
    "#### 4. What is the relationship between distance or time travelled since the start of a given trip and the headway deviation? Does headway become less stable the further along the route the bus has travelled?"
   ]
  },
  {
   "cell_type": "code",
   "execution_count": null,
   "id": "7d80d577",
   "metadata": {},
   "outputs": [],
   "source": [
    "headway_df.head(60)"
   ]
  },
  {
   "cell_type": "code",
   "execution_count": null,
   "id": "272d4c07",
   "metadata": {},
   "outputs": [],
   "source": [
    "hdwy_distance = headway_df[['TRIP_ID', 'HDWY_DEV']]\n",
    "hdwy_distance"
   ]
  },
  {
   "cell_type": "code",
   "execution_count": null,
   "id": "132ec9e2",
   "metadata": {},
   "outputs": [],
   "source": [
    "hdwy_distance.head(60)"
   ]
  },
  {
   "cell_type": "code",
   "execution_count": null,
   "id": "689f12be",
   "metadata": {},
   "outputs": [],
   "source": [
    "clean_hdwy_distance = hdwy_distance.dropna()"
   ]
  },
  {
   "cell_type": "code",
   "execution_count": null,
   "id": "d0298d9c",
   "metadata": {},
   "outputs": [],
   "source": [
    "clean_hdwy_distance"
   ]
  },
  {
   "cell_type": "code",
   "execution_count": null,
   "id": "80458be2",
   "metadata": {},
   "outputs": [],
   "source": [
    "clean_hdwy_distance.head(60)"
   ]
  },
  {
   "cell_type": "code",
   "execution_count": null,
   "id": "252bc800",
   "metadata": {},
   "outputs": [],
   "source": []
  }
 ],
 "metadata": {
  "kernelspec": {
   "display_name": "Python 3 (ipykernel)",
   "language": "python",
   "name": "python3"
  },
  "language_info": {
   "codemirror_mode": {
    "name": "ipython",
    "version": 3
   },
   "file_extension": ".py",
   "mimetype": "text/x-python",
   "name": "python",
   "nbconvert_exporter": "python",
   "pygments_lexer": "ipython3",
   "version": "3.9.12"
  }
 },
 "nbformat": 4,
 "nbformat_minor": 5
}
