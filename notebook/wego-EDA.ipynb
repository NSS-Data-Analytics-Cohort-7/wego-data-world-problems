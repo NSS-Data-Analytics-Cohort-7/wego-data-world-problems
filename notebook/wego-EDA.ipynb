{
 "cells": [
  {
   "cell_type": "code",
   "execution_count": null,
   "id": "e350faf0",
   "metadata": {},
   "outputs": [],
   "source": [
    "import pandas as pd\n",
    "import matplotlib.pyplot as plt\n",
    "import seaborn as sns"
   ]
  },
  {
   "cell_type": "code",
   "execution_count": null,
   "id": "7dc3643b",
   "metadata": {},
   "outputs": [],
   "source": [
    "headway = pd.read_csv('../data/Headway Data.csv')"
   ]
  },
  {
   "cell_type": "code",
   "execution_count": null,
   "id": "6899b1e2",
   "metadata": {},
   "outputs": [],
   "source": [
    "weather_all = pd.read_csv('../data/bna_weather.csv')"
   ]
  },
  {
   "cell_type": "markdown",
   "id": "36901100",
   "metadata": {},
   "source": [
    "### info for all csv files"
   ]
  },
  {
   "cell_type": "code",
   "execution_count": null,
   "id": "16c00a95",
   "metadata": {
    "scrolled": true
   },
   "outputs": [],
   "source": [
    "headway.info()"
   ]
  },
  {
   "cell_type": "code",
   "execution_count": null,
   "id": "3d26d599",
   "metadata": {},
   "outputs": [],
   "source": [
    "weather_all.info()"
   ]
  },
  {
   "cell_type": "markdown",
   "id": "c1333d94",
   "metadata": {},
   "source": [
    "### n/a counts"
   ]
  },
  {
   "cell_type": "code",
   "execution_count": null,
   "id": "52d0ed0c",
   "metadata": {},
   "outputs": [],
   "source": [
    "headway.isna().sum()"
   ]
  },
  {
   "cell_type": "code",
   "execution_count": null,
   "id": "06133b9c",
   "metadata": {},
   "outputs": [],
   "source": [
    "weather_all.isna().sum()"
   ]
  },
  {
   "cell_type": "markdown",
   "id": "2a0555f4",
   "metadata": {},
   "source": [
    "### narrowing weather data down to date and temperature"
   ]
  },
  {
   "cell_type": "code",
   "execution_count": null,
   "id": "9ed02c7d",
   "metadata": {},
   "outputs": [],
   "source": [
    "weather_all[['Date', 'temp']]"
   ]
  },
  {
   "cell_type": "code",
   "execution_count": null,
   "id": "a7e0c489",
   "metadata": {},
   "outputs": [],
   "source": [
    "headway"
   ]
  },
  {
   "cell_type": "code",
   "execution_count": null,
   "id": "43c1e7c9",
   "metadata": {},
   "outputs": [],
   "source": [
    "headway['HDWY_DEV'].describe()"
   ]
  },
  {
   "cell_type": "code",
   "execution_count": null,
   "id": "11ac4a99",
   "metadata": {},
   "outputs": [],
   "source": [
    "plt.figure(figsize = (10,4))\n",
    "\n",
    "sns.boxplot(data = headway,\n",
    "            x = 'HDWY_DEV');"
   ]
  },
  {
   "cell_type": "code",
   "execution_count": null,
   "id": "52087a2f",
   "metadata": {},
   "outputs": [],
   "source": []
  },
  {
   "cell_type": "code",
   "execution_count": null,
   "id": "6c1add6d",
   "metadata": {},
   "outputs": [],
   "source": []
  }
 ],
 "metadata": {
  "kernelspec": {
   "display_name": "Python 3 (ipykernel)",
   "language": "python",
   "name": "python3"
  },
  "language_info": {
   "codemirror_mode": {
    "name": "ipython",
    "version": 3
   },
   "file_extension": ".py",
   "mimetype": "text/x-python",
   "name": "python",
   "nbconvert_exporter": "python",
   "pygments_lexer": "ipython3",
   "version": "3.9.12"
  }
 },
 "nbformat": 4,
 "nbformat_minor": 5
}
