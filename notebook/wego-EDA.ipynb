{
 "cells": [
  {
   "cell_type": "code",
   "execution_count": null,
   "id": "92de46fb",
   "metadata": {},
   "outputs": [],
   "source": [
    "import pandas as pd\n",
    "import matplotlib.pyplot as plt\n",
    "import seaborn as sns\n",
    "\n",
    "pd.set_option('display.max_columns', None)"
   ]
  },
  {
   "cell_type": "code",
   "execution_count": null,
   "id": "f5bf4494",
   "metadata": {},
   "outputs": [],
   "source": [
    "headway = pd.read_csv('../data/Headway Data.csv')"
   ]
  },
  {
   "cell_type": "code",
   "execution_count": null,
   "id": "aa3873d9",
   "metadata": {},
   "outputs": [],
   "source": [
    "weather_all = pd.read_csv('../data/bna_weather.csv')"
   ]
  },
  {
   "cell_type": "markdown",
   "id": "e3a7b440",
   "metadata": {},
   "source": [
    "### info for all csv files"
   ]
  },
  {
   "cell_type": "code",
   "execution_count": null,
   "id": "4aed5168",
   "metadata": {
    "scrolled": true
   },
   "outputs": [],
   "source": [
    "headway.info()"
   ]
  },
  {
   "cell_type": "code",
   "execution_count": null,
   "id": "95e28d95",
   "metadata": {},
   "outputs": [],
   "source": [
    "headway"
   ]
  },
  {
   "cell_type": "code",
   "execution_count": null,
   "id": "8f96f1e6",
   "metadata": {},
   "outputs": [],
   "source": [
    "avg_hdwy = headway[['ROUTE_ABBR', 'TRIP_EDGE', 'ADHERENCE']]\n",
    "avg_hdwy"
   ]
  },
  {
   "cell_type": "code",
   "execution_count": null,
   "id": "d267930b",
   "metadata": {},
   "outputs": [],
   "source": [
    "avg_hdwy = avg_hdwy[avg_hdwy.TRIP_EDGE != 0]\n",
    "avg_hdwy"
   ]
  },
  {
   "cell_type": "code",
   "execution_count": null,
   "id": "493146b9",
   "metadata": {},
   "outputs": [],
   "source": [
    "avg_hdwy = avg_hdwy.dropna()\n",
    "avg_hdwy"
   ]
  },
  {
   "cell_type": "markdown",
   "id": "4702f3f5",
   "metadata": {},
   "source": [
    "### Dropped all columns to right of HDWY_DEV "
   ]
  },
  {
   "cell_type": "code",
   "execution_count": null,
   "id": "adfe26e4",
   "metadata": {},
   "outputs": [],
   "source": [
    "#headway_df = headway.drop(headway.iloc[:, 22:30], inplace=True, axis=1)"
   ]
  },
  {
   "cell_type": "code",
   "execution_count": null,
   "id": "824f877c",
   "metadata": {},
   "outputs": [],
   "source": [
    "#headway_df = headway.rename(columns={\"DATE\":\"Date\"})"
   ]
  },
  {
   "cell_type": "code",
   "execution_count": null,
   "id": "4598e6eb",
   "metadata": {},
   "outputs": [],
   "source": [
    "headway.ROUTE_ABBR.unique()"
   ]
  },
  {
   "cell_type": "code",
   "execution_count": null,
   "id": "14c28a24",
   "metadata": {},
   "outputs": [],
   "source": [
    "#weather_all[['Date', 'temp', 'wx_phrase']]"
   ]
  },
  {
   "cell_type": "code",
   "execution_count": null,
   "id": "ea495b63",
   "metadata": {},
   "outputs": [],
   "source": [
    "#wego_trips = headway_df.merge(weather_df, on=['Date'], how='outer')\n",
    "#wego_trips"
   ]
  },
  {
   "cell_type": "code",
   "execution_count": null,
   "id": "256c0738",
   "metadata": {},
   "outputs": [],
   "source": [
    "#print(wego_trips['wx_phrase'].unique())"
   ]
  },
  {
   "cell_type": "code",
   "execution_count": null,
   "id": "cfc1d10c",
   "metadata": {},
   "outputs": [],
   "source": [
    "#avg_headway_weather = wego_trips.groupby('wx_phrase', as_index=False)['HDWY_DEV'].mean()"
   ]
  },
  {
   "cell_type": "code",
   "execution_count": null,
   "id": "b0c65f6b",
   "metadata": {},
   "outputs": [],
   "source": [
    "#avg_headway_weather"
   ]
  },
  {
   "cell_type": "markdown",
   "id": "5fbab7af",
   "metadata": {},
   "source": [
    "### Focusing on 1 and 4 in the read me"
   ]
  },
  {
   "cell_type": "markdown",
   "id": "d6319b51",
   "metadata": {},
   "source": [
    "#### 1. How much impact does being late or too spaced out at the first stop have downstream?"
   ]
  },
  {
   "cell_type": "markdown",
   "id": "13bae4ba",
   "metadata": {},
   "source": [
    "#### 4. What is the relationship between distance or time travelled since the start of a given trip and the headway deviation? Does headway become less stable the further along the route the bus has travelled?"
   ]
  },
  {
   "cell_type": "code",
   "execution_count": null,
   "id": "2a979411",
   "metadata": {},
   "outputs": [],
   "source": [
    "headway_df"
   ]
  },
  {
   "cell_type": "code",
   "execution_count": null,
   "id": "3a290140",
   "metadata": {},
   "outputs": [],
   "source": [
    "hdwy_distance = headway_df[['HDWY_DEV', 'TRIP_EDGE]]\n",
    "hdwy_distance"
   ]
  },
  {
   "cell_type": "code",
   "execution_count": null,
   "id": "d428c47e",
   "metadata": {},
   "outputs": [],
   "source": [
    "headway_df['ROUTE_ABBR'].unique()"
   ]
  },
  {
   "cell_type": "code",
   "execution_count": null,
   "id": "cac35617",
   "metadata": {
    "scrolled": true
   },
   "outputs": [],
   "source": [
    "hdwy_distance.head(60)"
   ]
  },
  {
   "cell_type": "code",
   "execution_count": null,
   "id": "e5bd83df",
   "metadata": {},
   "outputs": [],
   "source": [
    "clean_hdwy_distance = hdwy_distance.dropna()"
   ]
  },
  {
   "cell_type": "code",
   "execution_count": null,
   "id": "563d0434",
   "metadata": {},
   "outputs": [],
   "source": [
    "clean_hdwy_distance"
   ]
  },
  {
   "cell_type": "code",
   "execution_count": null,
   "id": "6ed87949",
   "metadata": {},
   "outputs": [],
   "source": [
    "clean_hdwy_distance.groupby(['Date'])"
   ]
  },
  {
   "cell_type": "code",
   "execution_count": null,
   "id": "629f47d6",
   "metadata": {},
   "outputs": [],
   "source": [
    "clean_hdwy_distance"
   ]
  },
  {
   "cell_type": "code",
   "execution_count": null,
   "id": "ffb186ca",
   "metadata": {},
   "outputs": [],
   "source": [
    "pivot = clean_hdwy_distance.pivot_table(index=['Date', 'TRIP_ID'], \n",
    "                                       values = ['HDWY_DEV'], \n",
    "                                       aggfunc = {'mean', 'median', 'min'})"
   ]
  },
  {
   "cell_type": "code",
   "execution_count": null,
   "id": "e56df964",
   "metadata": {},
   "outputs": [],
   "source": [
    "pivot"
   ]
  },
  {
   "cell_type": "code",
   "execution_count": null,
   "id": "55a2ef6c",
   "metadata": {},
   "outputs": [],
   "source": [
    "clean_hdwy_distance.head(60)"
   ]
  },
  {
   "cell_type": "code",
   "execution_count": null,
   "id": "50574373",
   "metadata": {},
   "outputs": [],
   "source": [
    "import matplotlib.pyplot as plt\n",
    "import seaborn as sns"
   ]
  },
  {
   "cell_type": "code",
   "execution_count": null,
   "id": "fb0981da",
   "metadata": {},
   "outputs": [],
   "source": [
    "test = clean_hdwy_distance.head(50)"
   ]
  },
  {
   "cell_type": "code",
   "execution_count": null,
   "id": "84f31ade",
   "metadata": {},
   "outputs": [],
   "source": [
    "pivot = clean_hdwy_distance.pivot_table(index=['Date'], \n",
    "                                       values = ['HDWY_DEV'], \n",
    "                                       aggfunc = {'mean', 'median', 'min'})"
   ]
  },
  {
   "cell_type": "code",
   "execution_count": null,
   "id": "a48f2a3d",
   "metadata": {},
   "outputs": [],
   "source": [
    "pivot.info()"
   ]
  },
  {
   "cell_type": "code",
   "execution_count": null,
   "id": "307db912",
   "metadata": {},
   "outputs": [],
   "source": [
    "pivot.reset_index(drop = False, inplace = True)"
   ]
  },
  {
   "cell_type": "code",
   "execution_count": null,
   "id": "c361d4b6",
   "metadata": {},
   "outputs": [],
   "source": [
    "pivot.info()"
   ]
  },
  {
   "cell_type": "code",
   "execution_count": null,
   "id": "faeb1842",
   "metadata": {},
   "outputs": [],
   "source": [
    "sns.color_palette(\"Paired\")"
   ]
  },
  {
   "cell_type": "code",
   "execution_count": null,
   "id": "17af43a2",
   "metadata": {},
   "outputs": [],
   "source": [
    "import numpy as np"
   ]
  },
  {
   "cell_type": "code",
   "execution_count": null,
   "id": "3a28b7c4",
   "metadata": {},
   "outputs": [],
   "source": []
  }
 ],
 "metadata": {
  "kernelspec": {
   "display_name": "Python 3 (ipykernel)",
   "language": "python",
   "name": "python3"
  },
  "language_info": {
   "codemirror_mode": {
    "name": "ipython",
    "version": 3
   },
   "file_extension": ".py",
   "mimetype": "text/x-python",
   "name": "python",
   "nbconvert_exporter": "python",
   "pygments_lexer": "ipython3",
   "version": "3.9.12"
  }
 },
 "nbformat": 4,
 "nbformat_minor": 5
}
