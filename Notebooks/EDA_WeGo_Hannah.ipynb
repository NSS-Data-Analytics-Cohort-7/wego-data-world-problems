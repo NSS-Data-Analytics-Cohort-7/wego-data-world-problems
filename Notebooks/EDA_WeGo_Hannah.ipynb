{
 "cells": [
  {
   "cell_type": "code",
   "execution_count": null,
   "id": "efab4399",
   "metadata": {},
   "outputs": [],
   "source": [
    "import pandas as pd\n",
    "import matplotlib.pyplot as plt\n",
    "import seaborn as sns"
   ]
  },
  {
   "cell_type": "code",
   "execution_count": null,
   "id": "39a439e9",
   "metadata": {},
   "outputs": [],
   "source": [
    "weather = pd.read_csv('../Data/bna_weather.csv')"
   ]
  },
  {
   "cell_type": "code",
   "execution_count": null,
   "id": "b5dbc944",
   "metadata": {},
   "outputs": [],
   "source": [
    "weather.head()"
   ]
  },
  {
   "cell_type": "code",
   "execution_count": null,
   "id": "eceb11bc",
   "metadata": {
    "scrolled": true
   },
   "outputs": [],
   "source": [
    "weather.info()"
   ]
  },
  {
   "cell_type": "code",
   "execution_count": null,
   "id": "41e82568",
   "metadata": {
    "scrolled": true
   },
   "outputs": [],
   "source": [
    "weather1 = weather.drop(['qualifier','qualifier_svrty','blunt_phrase','terse_phrase','water_temp','primary_wave_period','primary_wave_height','primary_swell_period','primary_swell_height','secondary_swell_period','secondary_swell_height','secondary_swell_direction','primary_swell_direction', 'class','obs_id', 'obs_name', 'key'], axis = 1)"
   ]
  },
  {
   "cell_type": "code",
   "execution_count": null,
   "id": "8a3c7c48",
   "metadata": {},
   "outputs": [],
   "source": [
    "weather1.info()"
   ]
  },
  {
   "cell_type": "code",
   "execution_count": null,
   "id": "8e5d3c49",
   "metadata": {
    "scrolled": false
   },
   "outputs": [],
   "source": [
    "weather1['temp'].value_counts().head(10)"
   ]
  },
  {
   "cell_type": "code",
   "execution_count": null,
   "id": "dc7e6a64",
   "metadata": {},
   "outputs": [],
   "source": [
    "weather2 = weather1.iloc[:, [0,4,7]]"
   ]
  },
  {
   "cell_type": "code",
   "execution_count": null,
   "id": "f88325c4",
   "metadata": {
    "scrolled": true
   },
   "outputs": [],
   "source": [
    "weather2"
   ]
  },
  {
   "cell_type": "code",
   "execution_count": null,
   "id": "adbd8a28",
   "metadata": {},
   "outputs": [],
   "source": [
    "weather2['Date'] = weather2['Date'].str[:10]\n",
    "weather2"
   ]
  },
  {
   "cell_type": "code",
   "execution_count": null,
   "id": "b2379fb1",
   "metadata": {},
   "outputs": [],
   "source": [
    "headway = pd.read_csv('../Data/Headway_Data.csv')"
   ]
  },
  {
   "cell_type": "code",
   "execution_count": null,
   "id": "20addd98",
   "metadata": {
    "scrolled": false
   },
   "outputs": [],
   "source": [
    "headway.head()"
   ]
  },
  {
   "cell_type": "code",
   "execution_count": null,
   "id": "5010eaf9",
   "metadata": {},
   "outputs": [],
   "source": [
    "headway = headway.rename(columns={'DATE':'Date'})"
   ]
  },
  {
   "cell_type": "code",
   "execution_count": null,
   "id": "0b11e14a",
   "metadata": {},
   "outputs": [],
   "source": [
    "headway.info()"
   ]
  },
  {
   "cell_type": "code",
   "execution_count": null,
   "id": "f6758fc1",
   "metadata": {
    "scrolled": true
   },
   "outputs": [],
   "source": [
    "headway.isna().sum()"
   ]
  },
  {
   "cell_type": "code",
   "execution_count": null,
   "id": "4ab1228a",
   "metadata": {
    "scrolled": true
   },
   "outputs": [],
   "source": [
    "headway['ADJUSTED_EARLY_COUNT'].value_counts()"
   ]
  },
  {
   "cell_type": "code",
   "execution_count": null,
   "id": "ee31b236",
   "metadata": {
    "scrolled": false
   },
   "outputs": [],
   "source": [
    "headway['ADJUSTED_LATE_COUNT'].value_counts()"
   ]
  },
  {
   "cell_type": "code",
   "execution_count": null,
   "id": "395b9dcf",
   "metadata": {
    "scrolled": true
   },
   "outputs": [],
   "source": [
    "headway['ADJUSTED_ONTIME_COUNT'].value_counts()"
   ]
  },
  {
   "cell_type": "code",
   "execution_count": null,
   "id": "bcbac552",
   "metadata": {
    "scrolled": false
   },
   "outputs": [],
   "source": [
    "headway['STOP_CANCELLED'].value_counts()"
   ]
  },
  {
   "cell_type": "code",
   "execution_count": null,
   "id": "407b6478",
   "metadata": {
    "scrolled": true
   },
   "outputs": [],
   "source": [
    "headway['ROUTE_ABBR'].value_counts()"
   ]
  },
  {
   "cell_type": "code",
   "execution_count": null,
   "id": "d46120a9",
   "metadata": {},
   "outputs": [],
   "source": [
    "headway['OVERLOAD_ID'].value_counts()"
   ]
  },
  {
   "cell_type": "code",
   "execution_count": null,
   "id": "0ca90ea7",
   "metadata": {},
   "outputs": [],
   "source": [
    "headway1 = headway.drop(['LATITUDE', 'LONGITUDE', 'ADHERENCE_ID'], axis = 1)"
   ]
  },
  {
   "cell_type": "code",
   "execution_count": null,
   "id": "e89b7c95",
   "metadata": {
    "scrolled": true
   },
   "outputs": [],
   "source": [
    "headway1"
   ]
  },
  {
   "cell_type": "code",
   "execution_count": null,
   "id": "e3edb67c",
   "metadata": {},
   "outputs": [],
   "source": [
    "wh_df = pd.merge(headway1, weather2, on=['Date'], how='outer')"
   ]
  },
  {
   "cell_type": "code",
   "execution_count": null,
   "id": "218313c5",
   "metadata": {},
   "outputs": [],
   "source": [
    "wh_df.head()"
   ]
  },
  {
   "cell_type": "code",
   "execution_count": null,
   "id": "41672e0f",
   "metadata": {
    "scrolled": true
   },
   "outputs": [],
   "source": [
    "wh_df.info()"
   ]
  },
  {
   "cell_type": "code",
   "execution_count": null,
   "id": "7b9c41c6",
   "metadata": {},
   "outputs": [],
   "source": [
    "#matt's code\n",
    "operators_avg = wh_df.groupby('OPERATOR', as_index = False)['ACTUAL_HDWY'].mean()"
   ]
  },
  {
   "cell_type": "code",
   "execution_count": null,
   "id": "ab08f750",
   "metadata": {},
   "outputs": [],
   "source": [
    "operators_avg"
   ]
  },
  {
   "cell_type": "code",
   "execution_count": null,
   "id": "52d8c54a",
   "metadata": {},
   "outputs": [],
   "source": [
    "wh_df['wx_phrase'].value_counts()"
   ]
  },
  {
   "cell_type": "code",
   "execution_count": null,
   "id": "62586afe",
   "metadata": {},
   "outputs": [],
   "source": [
    "#matt's code operator_impact['abs_adh']=operator_impact['adh'].abs()"
   ]
  }
 ],
 "metadata": {
  "kernelspec": {
   "display_name": "Python 3 (ipykernel)",
   "language": "python",
   "name": "python3"
  },
  "language_info": {
   "codemirror_mode": {
    "name": "ipython",
    "version": 3
   },
   "file_extension": ".py",
   "mimetype": "text/x-python",
   "name": "python",
   "nbconvert_exporter": "python",
   "pygments_lexer": "ipython3",
   "version": "3.9.12"
  }
 },
 "nbformat": 4,
 "nbformat_minor": 5
}
