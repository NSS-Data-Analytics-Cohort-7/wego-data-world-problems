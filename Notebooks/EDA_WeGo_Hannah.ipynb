{
 "cells": [
  {
   "cell_type": "code",
   "execution_count": null,
   "id": "aa0ff9da",
   "metadata": {},
   "outputs": [],
   "source": [
    "import pandas as pd\n",
    "import matplotlib.pyplot as plt\n",
    "import seaborn as sns"
   ]
  },
  {
   "cell_type": "code",
   "execution_count": null,
   "id": "3edb76f6",
   "metadata": {},
   "outputs": [],
   "source": [
    "weather = pd.read_csv('../Data/bna_weather.csv')"
   ]
  },
  {
   "cell_type": "code",
   "execution_count": null,
   "id": "2de42730",
   "metadata": {},
   "outputs": [],
   "source": [
    "weather.head()"
   ]
  },
  {
   "cell_type": "code",
   "execution_count": null,
   "id": "03e2bbe7",
   "metadata": {
    "scrolled": true
   },
   "outputs": [],
   "source": [
    "weather.info()"
   ]
  },
  {
   "cell_type": "code",
   "execution_count": null,
   "id": "a97dff2a",
   "metadata": {
    "scrolled": true
   },
   "outputs": [],
   "source": [
    "weather1 = weather.drop(['qualifier','qualifier_svrty','blunt_phrase','terse_phrase','water_temp','primary_wave_period','primary_wave_height','primary_swell_period','primary_swell_height','secondary_swell_period','secondary_swell_height','secondary_swell_direction','primary_swell_direction', 'class','obs_id', 'obs_name', 'key'], axis = 1)"
   ]
  },
  {
   "cell_type": "code",
   "execution_count": null,
   "id": "3bbe2c36",
   "metadata": {},
   "outputs": [],
   "source": [
    "weather1.info()"
   ]
  },
  {
   "cell_type": "code",
   "execution_count": null,
   "id": "7d0da534",
   "metadata": {
    "scrolled": false
   },
   "outputs": [],
   "source": [
    "weather1['temp'].value_counts().head(10)"
   ]
  },
  {
   "cell_type": "code",
   "execution_count": null,
   "id": "faf40bf4",
   "metadata": {},
   "outputs": [],
   "source": [
    "weather2 = weather1.iloc[:, [0,4,7]]"
   ]
  },
  {
   "cell_type": "code",
   "execution_count": null,
   "id": "a38bc5f3",
   "metadata": {
    "scrolled": true
   },
   "outputs": [],
   "source": [
    "weather2"
   ]
  },
  {
   "cell_type": "code",
   "execution_count": null,
   "id": "063519ff",
   "metadata": {},
   "outputs": [],
   "source": [
    "weather2['Date'] = weather2['Date'].str[:10]\n",
    "weather2"
   ]
  },
  {
   "cell_type": "code",
   "execution_count": null,
   "id": "11e51289",
   "metadata": {},
   "outputs": [],
   "source": [
    "headway = pd.read_csv('../Data/Headway_Data.csv')"
   ]
  },
  {
   "cell_type": "code",
   "execution_count": null,
   "id": "841f43ea",
   "metadata": {
    "scrolled": false
   },
   "outputs": [],
   "source": [
    "headway.head()"
   ]
  },
  {
   "cell_type": "code",
   "execution_count": null,
   "id": "3292127b",
   "metadata": {},
   "outputs": [],
   "source": [
    "headway = headway.rename(columns={'DATE':'Date'})"
   ]
  },
  {
   "cell_type": "code",
   "execution_count": null,
   "id": "8c3fc9b1",
   "metadata": {},
   "outputs": [],
   "source": [
    "headway.info()"
   ]
  },
  {
   "cell_type": "code",
   "execution_count": null,
   "id": "dd21302f",
   "metadata": {
    "scrolled": true
   },
   "outputs": [],
   "source": [
    "headway.isna().sum()"
   ]
  },
  {
   "cell_type": "code",
   "execution_count": null,
   "id": "bac562c9",
   "metadata": {
    "scrolled": true
   },
   "outputs": [],
   "source": [
    "headway['ADJUSTED_EARLY_COUNT'].value_counts()"
   ]
  },
  {
   "cell_type": "code",
   "execution_count": null,
   "id": "59b142a9",
   "metadata": {
    "scrolled": false
   },
   "outputs": [],
   "source": [
    "headway['ADJUSTED_LATE_COUNT'].value_counts()"
   ]
  },
  {
   "cell_type": "code",
   "execution_count": null,
   "id": "b77d0ffe",
   "metadata": {
    "scrolled": true
   },
   "outputs": [],
   "source": [
    "headway['ADJUSTED_ONTIME_COUNT'].value_counts()"
   ]
  },
  {
   "cell_type": "code",
   "execution_count": null,
   "id": "69bae979",
   "metadata": {
    "scrolled": false
   },
   "outputs": [],
   "source": [
    "headway['STOP_CANCELLED'].value_counts()"
   ]
  },
  {
   "cell_type": "code",
   "execution_count": null,
   "id": "ee2a4ff0",
   "metadata": {
    "scrolled": true
   },
   "outputs": [],
   "source": [
    "headway['ROUTE_ABBR'].value_counts()"
   ]
  },
  {
   "cell_type": "code",
   "execution_count": null,
   "id": "5235b7b4",
   "metadata": {},
   "outputs": [],
   "source": [
    "headway['OVERLOAD_ID'].value_counts()"
   ]
  },
  {
   "cell_type": "code",
   "execution_count": null,
   "id": "e779ed9f",
   "metadata": {},
   "outputs": [],
   "source": [
    "headway1 = headway.drop(['LATITUDE', 'LONGITUDE', 'ADHERENCE_ID'], axis = 1)"
   ]
  },
  {
   "cell_type": "code",
   "execution_count": null,
   "id": "8a1fb545",
   "metadata": {
    "scrolled": true
   },
   "outputs": [],
   "source": [
    "headway1"
   ]
  },
  {
   "cell_type": "code",
   "execution_count": null,
   "id": "c60f9b75",
   "metadata": {},
   "outputs": [],
   "source": [
    "wh_df = pd.merge(headway1, weather2, on=['Date'], how='outer')"
   ]
  },
  {
   "cell_type": "code",
   "execution_count": null,
   "id": "664e76b9",
   "metadata": {},
   "outputs": [],
   "source": [
    "wh_df.head()"
   ]
  },
  {
   "cell_type": "code",
   "execution_count": null,
   "id": "fbfd0424",
   "metadata": {
    "scrolled": true
   },
   "outputs": [],
   "source": [
    "wh_df.info()"
   ]
  },
  {
   "cell_type": "code",
   "execution_count": null,
   "id": "40cd2e0b",
   "metadata": {},
   "outputs": [],
   "source": [
    "operators_avg = wh_df.groupby('OPERATOR', as_index = False)['ACTUAL_HDWY'].mean()"
   ]
  },
  {
   "cell_type": "code",
   "execution_count": null,
   "id": "888b48b1",
   "metadata": {},
   "outputs": [],
   "source": [
    "operators_avg"
   ]
  },
  {
   "cell_type": "code",
   "execution_count": null,
   "id": "1d035cac",
   "metadata": {},
   "outputs": [],
   "source": [
    "wh_df['wx_phrase'].value_counts()"
   ]
  }
 ],
 "metadata": {
  "kernelspec": {
   "display_name": "Python 3 (ipykernel)",
   "language": "python",
   "name": "python3"
  },
  "language_info": {
   "codemirror_mode": {
    "name": "ipython",
    "version": 3
   },
   "file_extension": ".py",
   "mimetype": "text/x-python",
   "name": "python",
   "nbconvert_exporter": "python",
   "pygments_lexer": "ipython3",
   "version": "3.9.12"
  }
 },
 "nbformat": 4,
 "nbformat_minor": 5
}
