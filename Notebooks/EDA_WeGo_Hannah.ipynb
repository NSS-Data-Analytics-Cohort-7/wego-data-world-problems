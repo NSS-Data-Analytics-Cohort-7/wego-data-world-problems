{
 "cells": [
  {
   "cell_type": "code",
   "execution_count": null,
   "id": "dd52570e",
   "metadata": {},
   "outputs": [],
   "source": [
    "import pandas as pd\n",
    "import matplotlib.pyplot as plt\n",
    "import seaborn as sns"
   ]
  },
  {
   "cell_type": "code",
   "execution_count": null,
   "id": "bcf4c7c3",
   "metadata": {},
   "outputs": [],
   "source": [
    "weather = pd.read_csv('../Data/bna_weather.csv')"
   ]
  },
  {
   "cell_type": "code",
   "execution_count": null,
   "id": "d70b87d2",
   "metadata": {},
   "outputs": [],
   "source": [
    "weather.head()"
   ]
  },
  {
   "cell_type": "code",
   "execution_count": null,
   "id": "58156c98",
   "metadata": {},
   "outputs": [],
   "source": [
    "weather.info()"
   ]
  },
  {
   "cell_type": "code",
   "execution_count": null,
   "id": "4c3544e5",
   "metadata": {},
   "outputs": [],
   "source": [
    "weather.drop(['qualifier','qualifier_svrty','blunt_phrase','terse_phrase','water_temp','primary_wave_period','primary_wave_height','primary_swell_period','primary_swell_height','secondary_swell_period','secondary_swell_height','secondary_swell_direction','primary_swell_direction'], axis = 1)"
   ]
  },
  {
   "cell_type": "code",
   "execution_count": null,
   "id": "ec088af7",
   "metadata": {},
   "outputs": [],
   "source": [
    "headway = pd.read_csv('../Data/Headway_Data.csv')"
   ]
  },
  {
   "cell_type": "code",
   "execution_count": null,
   "id": "02ca666c",
   "metadata": {
    "scrolled": true
   },
   "outputs": [],
   "source": [
    "headway.head()"
   ]
  },
  {
   "cell_type": "code",
   "execution_count": null,
   "id": "3e846a9d",
   "metadata": {},
   "outputs": [],
   "source": [
    "headway.info()"
   ]
  },
  {
   "cell_type": "code",
   "execution_count": null,
   "id": "d40f18f9",
   "metadata": {},
   "outputs": [],
   "source": []
  }
 ],
 "metadata": {
  "kernelspec": {
   "display_name": "Python 3 (ipykernel)",
   "language": "python",
   "name": "python3"
  },
  "language_info": {
   "codemirror_mode": {
    "name": "ipython",
    "version": 3
   },
   "file_extension": ".py",
   "mimetype": "text/x-python",
   "name": "python",
   "nbconvert_exporter": "python",
   "pygments_lexer": "ipython3",
   "version": "3.9.12"
  }
 },
 "nbformat": 4,
 "nbformat_minor": 5
}
