{
 "cells": [
  {
   "cell_type": "code",
   "execution_count": null,
   "id": "5dc3d106",
   "metadata": {},
   "outputs": [],
   "source": [
    "import pandas as pd\n",
    "import matplotlib.pyplot as plt\n",
    "import seaborn as sns"
   ]
  },
  {
   "cell_type": "code",
   "execution_count": null,
   "id": "608221f5",
   "metadata": {},
   "outputs": [],
   "source": [
    "weather = pd.read_csv('../Data/bna_weather.csv')"
   ]
  },
  {
   "cell_type": "code",
   "execution_count": null,
   "id": "d792a9c8",
   "metadata": {},
   "outputs": [],
   "source": [
    "weather.head()"
   ]
  },
  {
   "cell_type": "code",
   "execution_count": null,
   "id": "f265730f",
   "metadata": {
    "scrolled": true
   },
   "outputs": [],
   "source": [
    "weather.info()"
   ]
  },
  {
   "cell_type": "code",
   "execution_count": null,
   "id": "29bc315f",
   "metadata": {
    "scrolled": true
   },
   "outputs": [],
   "source": [
    "weather1 = weather.drop(['qualifier','qualifier_svrty','blunt_phrase','terse_phrase','water_temp','primary_wave_period','primary_wave_height','primary_swell_period','primary_swell_height','secondary_swell_period','secondary_swell_height','secondary_swell_direction','primary_swell_direction', 'class','obs_id', 'obs_name', 'key'], axis = 1)"
   ]
  },
  {
   "cell_type": "code",
   "execution_count": null,
   "id": "6f5edca9",
   "metadata": {},
   "outputs": [],
   "source": [
    "weather1.info()"
   ]
  },
  {
   "cell_type": "code",
   "execution_count": null,
   "id": "d8b8f808",
   "metadata": {
    "scrolled": false
   },
   "outputs": [],
   "source": [
    "weather1['temp'].value_counts().head(10)"
   ]
  },
  {
   "cell_type": "code",
   "execution_count": null,
   "id": "e15f87d4",
   "metadata": {},
   "outputs": [],
   "source": [
    "weather2 = weather1.iloc[:, [0,4]]"
   ]
  },
  {
   "cell_type": "code",
   "execution_count": null,
   "id": "d2d69069",
   "metadata": {},
   "outputs": [],
   "source": [
    "weather2"
   ]
  },
  {
   "cell_type": "code",
   "execution_count": null,
   "id": "8fe65c5a",
   "metadata": {},
   "outputs": [],
   "source": [
    "headway = pd.read_csv('../Data/Headway_Data.csv')"
   ]
  },
  {
   "cell_type": "code",
   "execution_count": null,
   "id": "a6fd17c2",
   "metadata": {
    "scrolled": true
   },
   "outputs": [],
   "source": [
    "headway.head()"
   ]
  },
  {
   "cell_type": "code",
   "execution_count": null,
   "id": "381adac9",
   "metadata": {},
   "outputs": [],
   "source": [
    "headway.info()"
   ]
  },
  {
   "cell_type": "code",
   "execution_count": null,
   "id": "07811a83",
   "metadata": {
    "scrolled": true
   },
   "outputs": [],
   "source": [
    "headway.isna().sum()"
   ]
  },
  {
   "cell_type": "code",
   "execution_count": null,
   "id": "6865bd0c",
   "metadata": {
    "scrolled": true
   },
   "outputs": [],
   "source": [
    "headway['ADJUSTED_EARLY_COUNT'].value_counts()"
   ]
  },
  {
   "cell_type": "code",
   "execution_count": null,
   "id": "a703bc74",
   "metadata": {
    "scrolled": false
   },
   "outputs": [],
   "source": [
    "headway['ADJUSTED_LATE_COUNT'].value_counts()"
   ]
  },
  {
   "cell_type": "code",
   "execution_count": null,
   "id": "dcd4901d",
   "metadata": {
    "scrolled": true
   },
   "outputs": [],
   "source": [
    "headway['ADJUSTED_ONTIME_COUNT'].value_counts()"
   ]
  },
  {
   "cell_type": "code",
   "execution_count": null,
   "id": "88f1ec65",
   "metadata": {
    "scrolled": false
   },
   "outputs": [],
   "source": [
    "headway['STOP_CANCELLED'].value_counts()"
   ]
  },
  {
   "cell_type": "code",
   "execution_count": null,
   "id": "3b8ded14",
   "metadata": {
    "scrolled": true
   },
   "outputs": [],
   "source": [
    "headway['ROUTE_ABBR'].value_counts()"
   ]
  },
  {
   "cell_type": "code",
   "execution_count": null,
   "id": "677723f9",
   "metadata": {},
   "outputs": [],
   "source": [
    "headway['BLOCK_ABBR'].value_counts()"
   ]
  }
 ],
 "metadata": {
  "kernelspec": {
   "display_name": "Python 3 (ipykernel)",
   "language": "python",
   "name": "python3"
  },
  "language_info": {
   "codemirror_mode": {
    "name": "ipython",
    "version": 3
   },
   "file_extension": ".py",
   "mimetype": "text/x-python",
   "name": "python",
   "nbconvert_exporter": "python",
   "pygments_lexer": "ipython3",
   "version": "3.9.12"
  }
 },
 "nbformat": 4,
 "nbformat_minor": 5
}
