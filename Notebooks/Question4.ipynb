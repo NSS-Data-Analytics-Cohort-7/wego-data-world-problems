{
 "cells": [
  {
   "cell_type": "markdown",
   "id": "cbc07bfc",
   "metadata": {},
   "source": [
    "## What is the relationship between distance or time travelled since the start of a given trip and the headway deviation? Does headway become less stable the further along the route the bus has travelled?"
   ]
  },
  {
   "cell_type": "code",
   "execution_count": null,
   "id": "d1500b8c",
   "metadata": {},
   "outputs": [],
   "source": [
    "import pandas as pd\n",
    "import matplotlib.pyplot as plt\n",
    "import seaborn as sns"
   ]
  },
  {
   "cell_type": "code",
   "execution_count": null,
   "id": "ed10df16",
   "metadata": {},
   "outputs": [],
   "source": [
    "headway = pd.read_csv('../Data/Headway_Data.csv')"
   ]
  },
  {
   "cell_type": "code",
   "execution_count": null,
   "id": "d1992435",
   "metadata": {},
   "outputs": [],
   "source": [
    "pd.set_option('display.max_columns', None)\n",
    "headway.head(10)"
   ]
  },
  {
   "cell_type": "code",
   "execution_count": null,
   "id": "eb371d5d",
   "metadata": {},
   "outputs": [],
   "source": [
    "hw_sort = headway.sort_values(by=['TRIP_ID','DATE'])"
   ]
  },
  {
   "cell_type": "code",
   "execution_count": null,
   "id": "2f83bdc7",
   "metadata": {},
   "outputs": [],
   "source": [
    "hw_sort.info()"
   ]
  },
  {
   "cell_type": "code",
   "execution_count": null,
   "id": "d06b166c",
   "metadata": {},
   "outputs": [],
   "source": [
    "hw_sort2 = hw_sort[~hw_sort['HDWY_DEV'].isnull()]"
   ]
  },
  {
   "cell_type": "code",
   "execution_count": null,
   "id": "f5b484e1",
   "metadata": {},
   "outputs": [],
   "source": [
    "hw_sort2.info()"
   ]
  }
 ],
 "metadata": {
  "kernelspec": {
   "display_name": "Python 3 (ipykernel)",
   "language": "python",
   "name": "python3"
  },
  "language_info": {
   "codemirror_mode": {
    "name": "ipython",
    "version": 3
   },
   "file_extension": ".py",
   "mimetype": "text/x-python",
   "name": "python",
   "nbconvert_exporter": "python",
   "pygments_lexer": "ipython3",
   "version": "3.9.12"
  }
 },
 "nbformat": 4,
 "nbformat_minor": 5
}
