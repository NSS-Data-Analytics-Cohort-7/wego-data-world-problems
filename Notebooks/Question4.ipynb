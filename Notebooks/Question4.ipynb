{
 "cells": [
  {
   "cell_type": "markdown",
   "id": "689c09ad",
   "metadata": {},
   "source": [
    "## What is the relationship between distance or time travelled since the start of a given trip and the headway deviation? Does headway become less stable the further along the route the bus has travelled?"
   ]
  },
  {
   "cell_type": "code",
   "execution_count": null,
   "id": "65761564",
   "metadata": {},
   "outputs": [],
   "source": [
    "import pandas as pd\n",
    "import matplotlib.pyplot as plt\n",
    "import seaborn as sns"
   ]
  },
  {
   "cell_type": "code",
   "execution_count": null,
   "id": "e9217433",
   "metadata": {},
   "outputs": [],
   "source": [
    "headway = pd.read_csv('../Data/Headway_Data.csv')"
   ]
  },
  {
   "cell_type": "code",
   "execution_count": null,
   "id": "7fb20de0",
   "metadata": {},
   "outputs": [],
   "source": [
    "pd.set_option('display.max_columns', None)\n",
    "headway.head(10)"
   ]
  },
  {
   "cell_type": "code",
   "execution_count": null,
   "id": "8057872b",
   "metadata": {},
   "outputs": [],
   "source": [
    "hw_sort = headway.sort_values(by=['TRIP_ID','DATE'])"
   ]
  },
  {
   "cell_type": "code",
   "execution_count": null,
   "id": "4a851134",
   "metadata": {},
   "outputs": [],
   "source": [
    "hw_sort.isnull().sum()"
   ]
  },
  {
   "cell_type": "code",
   "execution_count": null,
   "id": "9c2947ca",
   "metadata": {},
   "outputs": [],
   "source": [
    "hw_sort2 = hw_sort[~hw_sort['HDWY_DEV'].isnull()]"
   ]
  },
  {
   "cell_type": "code",
   "execution_count": null,
   "id": "7b913a55",
   "metadata": {},
   "outputs": [],
   "source": [
    "hw_sort2.isnull().sum()"
   ]
  },
  {
   "cell_type": "code",
   "execution_count": null,
   "id": "b7ccbc85",
   "metadata": {},
   "outputs": [],
   "source": [
    "hw_sort2.head(10)"
   ]
  }
 ],
 "metadata": {
  "kernelspec": {
   "display_name": "Python 3 (ipykernel)",
   "language": "python",
   "name": "python3"
  },
  "language_info": {
   "codemirror_mode": {
    "name": "ipython",
    "version": 3
   },
   "file_extension": ".py",
   "mimetype": "text/x-python",
   "name": "python",
   "nbconvert_exporter": "python",
   "pygments_lexer": "ipython3",
   "version": "3.9.12"
  }
 },
 "nbformat": 4,
 "nbformat_minor": 5
}
