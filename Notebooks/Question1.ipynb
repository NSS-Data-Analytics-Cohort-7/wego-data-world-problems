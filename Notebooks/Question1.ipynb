{
 "cells": [
  {
   "cell_type": "markdown",
   "id": "a15f5fb8",
   "metadata": {},
   "source": [
    "## How much impact does being late or too spaced out at the first stop have downstream?"
   ]
  },
  {
   "cell_type": "code",
   "execution_count": null,
   "id": "86ecd2cf",
   "metadata": {},
   "outputs": [],
   "source": [
    "import pandas as pd\n",
    "import matplotlib.pyplot as plt\n",
    "import seaborn as sns"
   ]
  },
  {
   "cell_type": "code",
   "execution_count": null,
   "id": "e2bad83c",
   "metadata": {},
   "outputs": [],
   "source": [
    "headway = pd.read_csv('../Data/Headway_Data.csv')"
   ]
  },
  {
   "cell_type": "code",
   "execution_count": null,
   "id": "f905eb63",
   "metadata": {},
   "outputs": [],
   "source": [
    "pd.set_option('display.max_columns', None)\n",
    "headway.head(20)"
   ]
  },
  {
   "cell_type": "code",
   "execution_count": null,
   "id": "7e719577",
   "metadata": {
    "scrolled": true
   },
   "outputs": [],
   "source": [
    "headway['TRIP_ID'].value_counts()"
   ]
  },
  {
   "cell_type": "code",
   "execution_count": null,
   "id": "1e9e9d09",
   "metadata": {},
   "outputs": [],
   "source": [
    "hw_sort = headway.sort_values(by=['TRIP_ID','DATE'])"
   ]
  },
  {
   "cell_type": "code",
   "execution_count": null,
   "id": "5b72bd83",
   "metadata": {},
   "outputs": [],
   "source": [
    "hw_sort.head(24)"
   ]
  },
  {
   "cell_type": "markdown",
   "id": "46a4bd06",
   "metadata": {},
   "source": [
    "so where date and trip ID are equal ... what is the difference between adherence later on? "
   ]
  },
  {
   "cell_type": "markdown",
   "id": "66771a27",
   "metadata": {},
   "source": [
    "look for trip id until number changes and look for date until date changes, then take first adherence and subtract that from the last adherence logged. "
   ]
  },
  {
   "cell_type": "code",
   "execution_count": null,
   "id": "f41a1e25",
   "metadata": {},
   "outputs": [],
   "source": [
    "test = headway.groupby(['DATE'])"
   ]
  },
  {
   "cell_type": "code",
   "execution_count": null,
   "id": "f763d48f",
   "metadata": {},
   "outputs": [],
   "source": [
    "test"
   ]
  }
 ],
 "metadata": {
  "kernelspec": {
   "display_name": "Python 3 (ipykernel)",
   "language": "python",
   "name": "python3"
  },
  "language_info": {
   "codemirror_mode": {
    "name": "ipython",
    "version": 3
   },
   "file_extension": ".py",
   "mimetype": "text/x-python",
   "name": "python",
   "nbconvert_exporter": "python",
   "pygments_lexer": "ipython3",
   "version": "3.9.12"
  }
 },
 "nbformat": 4,
 "nbformat_minor": 5
}
